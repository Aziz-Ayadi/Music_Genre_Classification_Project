{
 "cells": [
  {
   "cell_type": "code",
   "execution_count": 1,
   "id": "a2e98078",
   "metadata": {},
   "outputs": [],
   "source": [
    "# Import necessary libraries to work with\n",
    "\n",
    "import warnings\n",
    "warnings.filterwarnings('ignore')\n",
    "\n",
    "import numpy as np\n",
    "import pandas as pd\n",
    "import matplotlib.pyplot as plt\n",
    "import seaborn as sns"
   ]
  },
  {
   "cell_type": "code",
   "execution_count": 2,
   "id": "1e7176cd",
   "metadata": {},
   "outputs": [],
   "source": [
    "# Importing training and test csv files into Pandas dataframes\n",
    "\n",
    "train_df = pd.read_csv('train.csv')\n",
    "test_df = pd.read_csv('test.csv')"
   ]
  },
  {
   "cell_type": "markdown",
   "id": "82cff6e9",
   "metadata": {},
   "source": [
    "# Data Exploration"
   ]
  },
  {
   "cell_type": "code",
   "execution_count": 3,
   "id": "5ac48794",
   "metadata": {},
   "outputs": [
    {
     "data": {
      "text/html": [
       "<div>\n",
       "<style scoped>\n",
       "    .dataframe tbody tr th:only-of-type {\n",
       "        vertical-align: middle;\n",
       "    }\n",
       "\n",
       "    .dataframe tbody tr th {\n",
       "        vertical-align: top;\n",
       "    }\n",
       "\n",
       "    .dataframe thead th {\n",
       "        text-align: right;\n",
       "    }\n",
       "</style>\n",
       "<table border=\"1\" class=\"dataframe\">\n",
       "  <thead>\n",
       "    <tr style=\"text-align: right;\">\n",
       "      <th></th>\n",
       "      <th>Id</th>\n",
       "      <th>Artist Name</th>\n",
       "      <th>Track Name</th>\n",
       "      <th>Popularity</th>\n",
       "      <th>danceability</th>\n",
       "      <th>energy</th>\n",
       "      <th>key</th>\n",
       "      <th>loudness</th>\n",
       "      <th>mode</th>\n",
       "      <th>speechiness</th>\n",
       "      <th>acousticness</th>\n",
       "      <th>instrumentalness</th>\n",
       "      <th>liveness</th>\n",
       "      <th>valence</th>\n",
       "      <th>tempo</th>\n",
       "      <th>duration_in min/ms</th>\n",
       "      <th>time_signature</th>\n",
       "      <th>Class</th>\n",
       "    </tr>\n",
       "  </thead>\n",
       "  <tbody>\n",
       "    <tr>\n",
       "      <th>0</th>\n",
       "      <td>1</td>\n",
       "      <td>Marina Maximilian</td>\n",
       "      <td>Not Afraid</td>\n",
       "      <td>37.0</td>\n",
       "      <td>0.334</td>\n",
       "      <td>0.536</td>\n",
       "      <td>9.0</td>\n",
       "      <td>-6.649</td>\n",
       "      <td>0</td>\n",
       "      <td>0.0381</td>\n",
       "      <td>0.378000</td>\n",
       "      <td>NaN</td>\n",
       "      <td>0.106</td>\n",
       "      <td>0.235</td>\n",
       "      <td>152.429</td>\n",
       "      <td>204947.0</td>\n",
       "      <td>4</td>\n",
       "      <td>9</td>\n",
       "    </tr>\n",
       "    <tr>\n",
       "      <th>1</th>\n",
       "      <td>2</td>\n",
       "      <td>The Black Keys</td>\n",
       "      <td>Howlin' for You</td>\n",
       "      <td>67.0</td>\n",
       "      <td>0.725</td>\n",
       "      <td>0.747</td>\n",
       "      <td>11.0</td>\n",
       "      <td>-5.545</td>\n",
       "      <td>1</td>\n",
       "      <td>0.0876</td>\n",
       "      <td>0.027200</td>\n",
       "      <td>0.0468</td>\n",
       "      <td>0.104</td>\n",
       "      <td>0.380</td>\n",
       "      <td>132.921</td>\n",
       "      <td>191956.0</td>\n",
       "      <td>4</td>\n",
       "      <td>6</td>\n",
       "    </tr>\n",
       "    <tr>\n",
       "      <th>2</th>\n",
       "      <td>3</td>\n",
       "      <td>Royal &amp; the Serpent</td>\n",
       "      <td>phuck u</td>\n",
       "      <td>NaN</td>\n",
       "      <td>0.584</td>\n",
       "      <td>0.804</td>\n",
       "      <td>7.0</td>\n",
       "      <td>-6.094</td>\n",
       "      <td>1</td>\n",
       "      <td>0.0619</td>\n",
       "      <td>0.000968</td>\n",
       "      <td>0.6350</td>\n",
       "      <td>0.284</td>\n",
       "      <td>0.635</td>\n",
       "      <td>159.953</td>\n",
       "      <td>161037.0</td>\n",
       "      <td>4</td>\n",
       "      <td>10</td>\n",
       "    </tr>\n",
       "    <tr>\n",
       "      <th>3</th>\n",
       "      <td>4</td>\n",
       "      <td>Detroit Blues Band</td>\n",
       "      <td>Missing You</td>\n",
       "      <td>12.0</td>\n",
       "      <td>0.515</td>\n",
       "      <td>0.308</td>\n",
       "      <td>NaN</td>\n",
       "      <td>-14.711</td>\n",
       "      <td>1</td>\n",
       "      <td>0.0312</td>\n",
       "      <td>0.907000</td>\n",
       "      <td>0.0213</td>\n",
       "      <td>0.300</td>\n",
       "      <td>0.501</td>\n",
       "      <td>172.472</td>\n",
       "      <td>298093.0</td>\n",
       "      <td>3</td>\n",
       "      <td>2</td>\n",
       "    </tr>\n",
       "    <tr>\n",
       "      <th>4</th>\n",
       "      <td>5</td>\n",
       "      <td>Coast Contra</td>\n",
       "      <td>My Lady</td>\n",
       "      <td>48.0</td>\n",
       "      <td>0.565</td>\n",
       "      <td>0.777</td>\n",
       "      <td>6.0</td>\n",
       "      <td>-5.096</td>\n",
       "      <td>0</td>\n",
       "      <td>0.2490</td>\n",
       "      <td>0.183000</td>\n",
       "      <td>NaN</td>\n",
       "      <td>0.211</td>\n",
       "      <td>0.619</td>\n",
       "      <td>88.311</td>\n",
       "      <td>254145.0</td>\n",
       "      <td>4</td>\n",
       "      <td>5</td>\n",
       "    </tr>\n",
       "  </tbody>\n",
       "</table>\n",
       "</div>"
      ],
      "text/plain": [
       "   Id          Artist Name       Track Name  Popularity  danceability  energy  \\\n",
       "0   1    Marina Maximilian       Not Afraid        37.0         0.334   0.536   \n",
       "1   2       The Black Keys  Howlin' for You        67.0         0.725   0.747   \n",
       "2   3  Royal & the Serpent          phuck u         NaN         0.584   0.804   \n",
       "3   4   Detroit Blues Band      Missing You        12.0         0.515   0.308   \n",
       "4   5         Coast Contra          My Lady        48.0         0.565   0.777   \n",
       "\n",
       "    key  loudness  mode  speechiness  acousticness  instrumentalness  \\\n",
       "0   9.0    -6.649     0       0.0381      0.378000               NaN   \n",
       "1  11.0    -5.545     1       0.0876      0.027200            0.0468   \n",
       "2   7.0    -6.094     1       0.0619      0.000968            0.6350   \n",
       "3   NaN   -14.711     1       0.0312      0.907000            0.0213   \n",
       "4   6.0    -5.096     0       0.2490      0.183000               NaN   \n",
       "\n",
       "   liveness  valence    tempo  duration_in min/ms  time_signature  Class  \n",
       "0     0.106    0.235  152.429            204947.0               4      9  \n",
       "1     0.104    0.380  132.921            191956.0               4      6  \n",
       "2     0.284    0.635  159.953            161037.0               4     10  \n",
       "3     0.300    0.501  172.472            298093.0               3      2  \n",
       "4     0.211    0.619   88.311            254145.0               4      5  "
      ]
     },
     "execution_count": 3,
     "metadata": {},
     "output_type": "execute_result"
    }
   ],
   "source": [
    "# Get an idea on training data by exploring the first 5 samples\n",
    "\n",
    "train_df.head()"
   ]
  },
  {
   "cell_type": "markdown",
   "id": "ac669389",
   "metadata": {},
   "source": [
    "## Data Description\n",
    "\n",
    "* <b>Artist Name</b> : Name of artist or artists who made the track.\n",
    "* <b>Track Name</b> : Song's name.\n",
    "* <b>Popularity</b> : The popularity of a track is a value between 0 and 100, with 100 being the most popular. The popularity is calculated by algorithm and is based, in the most part, on the total number of plays the track has had and how recent those plays are.\n",
    "* <b>danceability</b> : Danceability describes how suitable a track is for dancing based on a combination of musical elements including tempo, rhythm stability, beat strength, and overall regularity. A value of 0.0 is least danceable and 1.0 is most danceable.\n",
    "* <b>energy</b> : Energy is a measure from 0.0 to 1.0 and represents a perceptual measure of intensity and activity. Typically, energetic tracks feel fast, loud and noisy. For example, death metal has high energy, while a Bach prelude scores low on the scale. Perceptual features contributing to this attribute include dynamic range, perceived loudness, timbre, onset rate, and general entropy.\n",
    "* <b>key</b> : The key the track is in. Integers map to pitches using standard Pitch Class notation. E.g. 0 = C, 1 = C#/Db, 2 = D and so on.\n",
    "* <b>loudness</b> : The overall loudness of a track in decibels (dB). Loudness values are averaged across the entire track and are useful for comparing relative loudness of tracks. Loudness is the quality of a sound that is the primary psychological correlate of physical strength (amplitude). Values typical range between -60 and 0 dB.\n",
    "* <b>mode</b> : Mode indicates the modality (major or minor) of a track, the type of scale from which its melodic content is derived. Major is represented by 1 and minor is 0. Major mode has a bright and happy sound, while minor mode has a darker and sadder sound.\n",
    "* <b>speechiness</b> : Speechiness detects the presence of spoken words in a track. The more exclusively speech-like the recording (e.g. talk show, audio book, poetry), the closer to 1.0 the attribute value. Values above 0.66 describe tracks that are probably made entirely of spoken words. Values between 0.33 and 0.66 describe tracks that may contain both music and speech, either in sections or layered, including such cases as rap music. Values below 0.33 most likely represent music and other non-speech-like tracks.\n",
    "* <b>acousticness</b> : A confidence measure from 0.0 to 1.0 of whether the track is acoustic. 1.0 represents high confidence the track is acoustic.\n",
    "* <b>instrumentalness</b> : Predicts whether a track contains no vocals. \"Ooh\" and \"aah\" sounds are treated as instrumental in this context. Rap or spoken word tracks are clearly \"vocal\". The closer the instrumentalness value is to 1.0, the greater likelihood the track contains no vocal content. Values above 0.5 are intended to represent instrumental tracks, but confidence is higher as the value approaches 1.0.\n",
    "* <b>liveness</b> : Detects the presence of an audience in the recording. Higher liveness values represent an increased probability that the track was performed live. A value above 0.8 provides strong likelihood that the track is live.\n",
    "* <b>valence</b> : A measure from 0.0 to 1.0 describing the musical positiveness conveyed by a track. Tracks with high valence sound more positive (e.g happy, cheerful, euphoric), while tracks with low valence sound more negative (e.g sad, depressed, angry).\n",
    "* <b>tempo</b> : The overall estimated tempo of a track in beats per minute (BPM). In musical terminology, tempo is the speed or pace of a given piece and derives directly from the average beat duration.\n",
    "* <b>duration_in min/ms</b> : Duration of a given track whether in minutes or milliseconds.\n",
    "* <b>time_signature</b> : A written indicator that shows the number of beats per measure and the type of note that carries the beat in a piece of music.\n",
    "* <b>Class</b> : Track's genre."
   ]
  },
  {
   "cell_type": "code",
   "execution_count": 4,
   "id": "903424be",
   "metadata": {},
   "outputs": [
    {
     "data": {
      "text/plain": [
       "(14396, 18)"
      ]
     },
     "execution_count": 4,
     "metadata": {},
     "output_type": "execute_result"
    }
   ],
   "source": [
    "# Get the number of rows and columns of training data\n",
    "\n",
    "train_df.shape"
   ]
  },
  {
   "cell_type": "code",
   "execution_count": 5,
   "id": "bdd37754",
   "metadata": {},
   "outputs": [
    {
     "data": {
      "text/plain": [
       "Index(['Id', 'Artist Name', 'Track Name', 'Popularity', 'danceability',\n",
       "       'energy', 'key', 'loudness', 'mode', 'speechiness', 'acousticness',\n",
       "       'instrumentalness', 'liveness', 'valence', 'tempo',\n",
       "       'duration_in min/ms', 'time_signature', 'Class'],\n",
       "      dtype='object')"
      ]
     },
     "execution_count": 5,
     "metadata": {},
     "output_type": "execute_result"
    }
   ],
   "source": [
    "# Extract training data's list of column names\n",
    "\n",
    "train_df.columns"
   ]
  },
  {
   "cell_type": "code",
   "execution_count": 6,
   "id": "49d9615d",
   "metadata": {},
   "outputs": [
    {
     "data": {
      "text/plain": [
       "Id                      int64\n",
       "Artist Name            object\n",
       "Track Name             object\n",
       "Popularity            float64\n",
       "danceability          float64\n",
       "energy                float64\n",
       "key                   float64\n",
       "loudness              float64\n",
       "mode                    int64\n",
       "speechiness           float64\n",
       "acousticness          float64\n",
       "instrumentalness      float64\n",
       "liveness              float64\n",
       "valence               float64\n",
       "tempo                 float64\n",
       "duration_in min/ms    float64\n",
       "time_signature          int64\n",
       "Class                   int64\n",
       "dtype: object"
      ]
     },
     "execution_count": 6,
     "metadata": {},
     "output_type": "execute_result"
    }
   ],
   "source": [
    "# Explore the datatype of every variable of the training data\n",
    "\n",
    "train_df.dtypes"
   ]
  },
  {
   "cell_type": "code",
   "execution_count": 7,
   "id": "cd998149",
   "metadata": {},
   "outputs": [
    {
     "data": {
      "text/plain": [
       "Id                       0\n",
       "Artist Name              0\n",
       "Track Name               0\n",
       "Popularity             333\n",
       "danceability             0\n",
       "energy                   0\n",
       "key                   1609\n",
       "loudness                 0\n",
       "mode                     0\n",
       "speechiness              0\n",
       "acousticness             0\n",
       "instrumentalness      3541\n",
       "liveness                 0\n",
       "valence                  0\n",
       "tempo                    0\n",
       "duration_in min/ms       0\n",
       "time_signature           0\n",
       "Class                    0\n",
       "dtype: int64"
      ]
     },
     "execution_count": 7,
     "metadata": {},
     "output_type": "execute_result"
    }
   ],
   "source": [
    "# Calculate the number of null values of every variable in the training dataset\n",
    "\n",
    "train_df.isna().sum()"
   ]
  },
  {
   "cell_type": "code",
   "execution_count": 8,
   "id": "712724d5",
   "metadata": {},
   "outputs": [
    {
     "name": "stdout",
     "output_type": "stream",
     "text": [
      "<class 'pandas.core.frame.DataFrame'>\n",
      "RangeIndex: 14396 entries, 0 to 14395\n",
      "Data columns (total 18 columns):\n",
      " #   Column              Non-Null Count  Dtype  \n",
      "---  ------              --------------  -----  \n",
      " 0   Id                  14396 non-null  int64  \n",
      " 1   Artist Name         14396 non-null  object \n",
      " 2   Track Name          14396 non-null  object \n",
      " 3   Popularity          14063 non-null  float64\n",
      " 4   danceability        14396 non-null  float64\n",
      " 5   energy              14396 non-null  float64\n",
      " 6   key                 12787 non-null  float64\n",
      " 7   loudness            14396 non-null  float64\n",
      " 8   mode                14396 non-null  int64  \n",
      " 9   speechiness         14396 non-null  float64\n",
      " 10  acousticness        14396 non-null  float64\n",
      " 11  instrumentalness    10855 non-null  float64\n",
      " 12  liveness            14396 non-null  float64\n",
      " 13  valence             14396 non-null  float64\n",
      " 14  tempo               14396 non-null  float64\n",
      " 15  duration_in min/ms  14396 non-null  float64\n",
      " 16  time_signature      14396 non-null  int64  \n",
      " 17  Class               14396 non-null  int64  \n",
      "dtypes: float64(12), int64(4), object(2)\n",
      "memory usage: 2.0+ MB\n"
     ]
    }
   ],
   "source": [
    "# Gather more information on the training dataset\n",
    "\n",
    "train_df.info()"
   ]
  },
  {
   "cell_type": "code",
   "execution_count": 9,
   "id": "281da2cf",
   "metadata": {},
   "outputs": [
    {
     "data": {
      "text/html": [
       "<div>\n",
       "<style scoped>\n",
       "    .dataframe tbody tr th:only-of-type {\n",
       "        vertical-align: middle;\n",
       "    }\n",
       "\n",
       "    .dataframe tbody tr th {\n",
       "        vertical-align: top;\n",
       "    }\n",
       "\n",
       "    .dataframe thead th {\n",
       "        text-align: right;\n",
       "    }\n",
       "</style>\n",
       "<table border=\"1\" class=\"dataframe\">\n",
       "  <thead>\n",
       "    <tr style=\"text-align: right;\">\n",
       "      <th></th>\n",
       "      <th>Id</th>\n",
       "      <th>Artist Name</th>\n",
       "      <th>Track Name</th>\n",
       "      <th>Popularity</th>\n",
       "      <th>danceability</th>\n",
       "      <th>energy</th>\n",
       "      <th>key</th>\n",
       "      <th>loudness</th>\n",
       "      <th>mode</th>\n",
       "      <th>speechiness</th>\n",
       "      <th>acousticness</th>\n",
       "      <th>instrumentalness</th>\n",
       "      <th>liveness</th>\n",
       "      <th>valence</th>\n",
       "      <th>tempo</th>\n",
       "      <th>duration_in min/ms</th>\n",
       "      <th>time_signature</th>\n",
       "      <th>Class</th>\n",
       "    </tr>\n",
       "  </thead>\n",
       "  <tbody>\n",
       "    <tr>\n",
       "      <th>count</th>\n",
       "      <td>14396.000000</td>\n",
       "      <td>14396</td>\n",
       "      <td>14396</td>\n",
       "      <td>14063.000000</td>\n",
       "      <td>14396.000000</td>\n",
       "      <td>14396.000000</td>\n",
       "      <td>12787.000000</td>\n",
       "      <td>14396.000000</td>\n",
       "      <td>14396.000000</td>\n",
       "      <td>14396.000000</td>\n",
       "      <td>14396.000000</td>\n",
       "      <td>10855.000000</td>\n",
       "      <td>14396.000000</td>\n",
       "      <td>14396.000000</td>\n",
       "      <td>14396.000000</td>\n",
       "      <td>1.439600e+04</td>\n",
       "      <td>14396.000000</td>\n",
       "      <td>14396.000000</td>\n",
       "    </tr>\n",
       "    <tr>\n",
       "      <th>unique</th>\n",
       "      <td>NaN</td>\n",
       "      <td>7913</td>\n",
       "      <td>12455</td>\n",
       "      <td>NaN</td>\n",
       "      <td>NaN</td>\n",
       "      <td>NaN</td>\n",
       "      <td>NaN</td>\n",
       "      <td>NaN</td>\n",
       "      <td>NaN</td>\n",
       "      <td>NaN</td>\n",
       "      <td>NaN</td>\n",
       "      <td>NaN</td>\n",
       "      <td>NaN</td>\n",
       "      <td>NaN</td>\n",
       "      <td>NaN</td>\n",
       "      <td>NaN</td>\n",
       "      <td>NaN</td>\n",
       "      <td>NaN</td>\n",
       "    </tr>\n",
       "    <tr>\n",
       "      <th>top</th>\n",
       "      <td>NaN</td>\n",
       "      <td>Backstreet Boys</td>\n",
       "      <td>Fire</td>\n",
       "      <td>NaN</td>\n",
       "      <td>NaN</td>\n",
       "      <td>NaN</td>\n",
       "      <td>NaN</td>\n",
       "      <td>NaN</td>\n",
       "      <td>NaN</td>\n",
       "      <td>NaN</td>\n",
       "      <td>NaN</td>\n",
       "      <td>NaN</td>\n",
       "      <td>NaN</td>\n",
       "      <td>NaN</td>\n",
       "      <td>NaN</td>\n",
       "      <td>NaN</td>\n",
       "      <td>NaN</td>\n",
       "      <td>NaN</td>\n",
       "    </tr>\n",
       "    <tr>\n",
       "      <th>freq</th>\n",
       "      <td>NaN</td>\n",
       "      <td>58</td>\n",
       "      <td>8</td>\n",
       "      <td>NaN</td>\n",
       "      <td>NaN</td>\n",
       "      <td>NaN</td>\n",
       "      <td>NaN</td>\n",
       "      <td>NaN</td>\n",
       "      <td>NaN</td>\n",
       "      <td>NaN</td>\n",
       "      <td>NaN</td>\n",
       "      <td>NaN</td>\n",
       "      <td>NaN</td>\n",
       "      <td>NaN</td>\n",
       "      <td>NaN</td>\n",
       "      <td>NaN</td>\n",
       "      <td>NaN</td>\n",
       "      <td>NaN</td>\n",
       "    </tr>\n",
       "    <tr>\n",
       "      <th>mean</th>\n",
       "      <td>7198.500000</td>\n",
       "      <td>NaN</td>\n",
       "      <td>NaN</td>\n",
       "      <td>44.525208</td>\n",
       "      <td>0.543105</td>\n",
       "      <td>0.662422</td>\n",
       "      <td>5.953781</td>\n",
       "      <td>-7.900852</td>\n",
       "      <td>0.640247</td>\n",
       "      <td>0.080181</td>\n",
       "      <td>0.246746</td>\n",
       "      <td>0.178129</td>\n",
       "      <td>0.195782</td>\n",
       "      <td>0.486379</td>\n",
       "      <td>122.695372</td>\n",
       "      <td>2.000942e+05</td>\n",
       "      <td>3.924354</td>\n",
       "      <td>6.695679</td>\n",
       "    </tr>\n",
       "    <tr>\n",
       "      <th>std</th>\n",
       "      <td>4155.911573</td>\n",
       "      <td>NaN</td>\n",
       "      <td>NaN</td>\n",
       "      <td>17.418940</td>\n",
       "      <td>0.165517</td>\n",
       "      <td>0.235967</td>\n",
       "      <td>3.200013</td>\n",
       "      <td>4.057362</td>\n",
       "      <td>0.479944</td>\n",
       "      <td>0.085157</td>\n",
       "      <td>0.310922</td>\n",
       "      <td>0.304266</td>\n",
       "      <td>0.159258</td>\n",
       "      <td>0.239476</td>\n",
       "      <td>29.538490</td>\n",
       "      <td>1.116891e+05</td>\n",
       "      <td>0.359520</td>\n",
       "      <td>3.206170</td>\n",
       "    </tr>\n",
       "    <tr>\n",
       "      <th>min</th>\n",
       "      <td>1.000000</td>\n",
       "      <td>NaN</td>\n",
       "      <td>NaN</td>\n",
       "      <td>1.000000</td>\n",
       "      <td>0.059600</td>\n",
       "      <td>0.001210</td>\n",
       "      <td>1.000000</td>\n",
       "      <td>-39.952000</td>\n",
       "      <td>0.000000</td>\n",
       "      <td>0.022500</td>\n",
       "      <td>0.000000</td>\n",
       "      <td>0.000001</td>\n",
       "      <td>0.011900</td>\n",
       "      <td>0.021500</td>\n",
       "      <td>30.557000</td>\n",
       "      <td>5.016500e-01</td>\n",
       "      <td>1.000000</td>\n",
       "      <td>0.000000</td>\n",
       "    </tr>\n",
       "    <tr>\n",
       "      <th>25%</th>\n",
       "      <td>3599.750000</td>\n",
       "      <td>NaN</td>\n",
       "      <td>NaN</td>\n",
       "      <td>33.000000</td>\n",
       "      <td>0.432000</td>\n",
       "      <td>0.508000</td>\n",
       "      <td>3.000000</td>\n",
       "      <td>-9.538000</td>\n",
       "      <td>0.000000</td>\n",
       "      <td>0.034800</td>\n",
       "      <td>0.004280</td>\n",
       "      <td>0.000088</td>\n",
       "      <td>0.097275</td>\n",
       "      <td>0.299000</td>\n",
       "      <td>99.799000</td>\n",
       "      <td>1.654458e+05</td>\n",
       "      <td>4.000000</td>\n",
       "      <td>5.000000</td>\n",
       "    </tr>\n",
       "    <tr>\n",
       "      <th>50%</th>\n",
       "      <td>7198.500000</td>\n",
       "      <td>NaN</td>\n",
       "      <td>NaN</td>\n",
       "      <td>44.000000</td>\n",
       "      <td>0.545000</td>\n",
       "      <td>0.699000</td>\n",
       "      <td>6.000000</td>\n",
       "      <td>-7.013500</td>\n",
       "      <td>1.000000</td>\n",
       "      <td>0.047100</td>\n",
       "      <td>0.081450</td>\n",
       "      <td>0.003920</td>\n",
       "      <td>0.129000</td>\n",
       "      <td>0.480500</td>\n",
       "      <td>120.060000</td>\n",
       "      <td>2.089410e+05</td>\n",
       "      <td>4.000000</td>\n",
       "      <td>8.000000</td>\n",
       "    </tr>\n",
       "    <tr>\n",
       "      <th>75%</th>\n",
       "      <td>10797.250000</td>\n",
       "      <td>NaN</td>\n",
       "      <td>NaN</td>\n",
       "      <td>56.000000</td>\n",
       "      <td>0.658000</td>\n",
       "      <td>0.861000</td>\n",
       "      <td>9.000000</td>\n",
       "      <td>-5.162000</td>\n",
       "      <td>1.000000</td>\n",
       "      <td>0.083100</td>\n",
       "      <td>0.432250</td>\n",
       "      <td>0.201000</td>\n",
       "      <td>0.256000</td>\n",
       "      <td>0.672000</td>\n",
       "      <td>141.988250</td>\n",
       "      <td>2.522470e+05</td>\n",
       "      <td>4.000000</td>\n",
       "      <td>10.000000</td>\n",
       "    </tr>\n",
       "    <tr>\n",
       "      <th>max</th>\n",
       "      <td>14396.000000</td>\n",
       "      <td>NaN</td>\n",
       "      <td>NaN</td>\n",
       "      <td>100.000000</td>\n",
       "      <td>0.989000</td>\n",
       "      <td>1.000000</td>\n",
       "      <td>11.000000</td>\n",
       "      <td>1.342000</td>\n",
       "      <td>1.000000</td>\n",
       "      <td>0.955000</td>\n",
       "      <td>0.996000</td>\n",
       "      <td>0.996000</td>\n",
       "      <td>0.992000</td>\n",
       "      <td>0.986000</td>\n",
       "      <td>217.416000</td>\n",
       "      <td>1.477187e+06</td>\n",
       "      <td>5.000000</td>\n",
       "      <td>10.000000</td>\n",
       "    </tr>\n",
       "  </tbody>\n",
       "</table>\n",
       "</div>"
      ],
      "text/plain": [
       "                  Id      Artist Name Track Name    Popularity  danceability  \\\n",
       "count   14396.000000            14396      14396  14063.000000  14396.000000   \n",
       "unique           NaN             7913      12455           NaN           NaN   \n",
       "top              NaN  Backstreet Boys       Fire           NaN           NaN   \n",
       "freq             NaN               58          8           NaN           NaN   \n",
       "mean     7198.500000              NaN        NaN     44.525208      0.543105   \n",
       "std      4155.911573              NaN        NaN     17.418940      0.165517   \n",
       "min         1.000000              NaN        NaN      1.000000      0.059600   \n",
       "25%      3599.750000              NaN        NaN     33.000000      0.432000   \n",
       "50%      7198.500000              NaN        NaN     44.000000      0.545000   \n",
       "75%     10797.250000              NaN        NaN     56.000000      0.658000   \n",
       "max     14396.000000              NaN        NaN    100.000000      0.989000   \n",
       "\n",
       "              energy           key      loudness          mode   speechiness  \\\n",
       "count   14396.000000  12787.000000  14396.000000  14396.000000  14396.000000   \n",
       "unique           NaN           NaN           NaN           NaN           NaN   \n",
       "top              NaN           NaN           NaN           NaN           NaN   \n",
       "freq             NaN           NaN           NaN           NaN           NaN   \n",
       "mean        0.662422      5.953781     -7.900852      0.640247      0.080181   \n",
       "std         0.235967      3.200013      4.057362      0.479944      0.085157   \n",
       "min         0.001210      1.000000    -39.952000      0.000000      0.022500   \n",
       "25%         0.508000      3.000000     -9.538000      0.000000      0.034800   \n",
       "50%         0.699000      6.000000     -7.013500      1.000000      0.047100   \n",
       "75%         0.861000      9.000000     -5.162000      1.000000      0.083100   \n",
       "max         1.000000     11.000000      1.342000      1.000000      0.955000   \n",
       "\n",
       "        acousticness  instrumentalness      liveness       valence  \\\n",
       "count   14396.000000      10855.000000  14396.000000  14396.000000   \n",
       "unique           NaN               NaN           NaN           NaN   \n",
       "top              NaN               NaN           NaN           NaN   \n",
       "freq             NaN               NaN           NaN           NaN   \n",
       "mean        0.246746          0.178129      0.195782      0.486379   \n",
       "std         0.310922          0.304266      0.159258      0.239476   \n",
       "min         0.000000          0.000001      0.011900      0.021500   \n",
       "25%         0.004280          0.000088      0.097275      0.299000   \n",
       "50%         0.081450          0.003920      0.129000      0.480500   \n",
       "75%         0.432250          0.201000      0.256000      0.672000   \n",
       "max         0.996000          0.996000      0.992000      0.986000   \n",
       "\n",
       "               tempo  duration_in min/ms  time_signature         Class  \n",
       "count   14396.000000        1.439600e+04    14396.000000  14396.000000  \n",
       "unique           NaN                 NaN             NaN           NaN  \n",
       "top              NaN                 NaN             NaN           NaN  \n",
       "freq             NaN                 NaN             NaN           NaN  \n",
       "mean      122.695372        2.000942e+05        3.924354      6.695679  \n",
       "std        29.538490        1.116891e+05        0.359520      3.206170  \n",
       "min        30.557000        5.016500e-01        1.000000      0.000000  \n",
       "25%        99.799000        1.654458e+05        4.000000      5.000000  \n",
       "50%       120.060000        2.089410e+05        4.000000      8.000000  \n",
       "75%       141.988250        2.522470e+05        4.000000     10.000000  \n",
       "max       217.416000        1.477187e+06        5.000000     10.000000  "
      ]
     },
     "execution_count": 9,
     "metadata": {},
     "output_type": "execute_result"
    }
   ],
   "source": [
    "# Get a statistical description on all variables of the training data\n",
    "\n",
    "train_df.describe(include='all')"
   ]
  },
  {
   "cell_type": "markdown",
   "id": "dd309ed9",
   "metadata": {},
   "source": [
    "## Duplicates"
   ]
  },
  {
   "cell_type": "code",
   "execution_count": 10,
   "id": "3735d06f",
   "metadata": {},
   "outputs": [
    {
     "data": {
      "text/html": [
       "<div>\n",
       "<style scoped>\n",
       "    .dataframe tbody tr th:only-of-type {\n",
       "        vertical-align: middle;\n",
       "    }\n",
       "\n",
       "    .dataframe tbody tr th {\n",
       "        vertical-align: top;\n",
       "    }\n",
       "\n",
       "    .dataframe thead th {\n",
       "        text-align: right;\n",
       "    }\n",
       "</style>\n",
       "<table border=\"1\" class=\"dataframe\">\n",
       "  <thead>\n",
       "    <tr style=\"text-align: right;\">\n",
       "      <th></th>\n",
       "      <th>Id</th>\n",
       "      <th>Artist Name</th>\n",
       "      <th>Track Name</th>\n",
       "      <th>Popularity</th>\n",
       "      <th>danceability</th>\n",
       "      <th>energy</th>\n",
       "      <th>key</th>\n",
       "      <th>loudness</th>\n",
       "      <th>mode</th>\n",
       "      <th>speechiness</th>\n",
       "      <th>acousticness</th>\n",
       "      <th>instrumentalness</th>\n",
       "      <th>liveness</th>\n",
       "      <th>valence</th>\n",
       "      <th>tempo</th>\n",
       "      <th>duration_in min/ms</th>\n",
       "      <th>time_signature</th>\n",
       "      <th>Class</th>\n",
       "    </tr>\n",
       "  </thead>\n",
       "  <tbody>\n",
       "    <tr>\n",
       "      <th>600</th>\n",
       "      <td>601</td>\n",
       "      <td>The Chats</td>\n",
       "      <td>Drunk n Disorderly</td>\n",
       "      <td>47.0</td>\n",
       "      <td>0.509</td>\n",
       "      <td>0.733</td>\n",
       "      <td>9.0</td>\n",
       "      <td>-5.909</td>\n",
       "      <td>1</td>\n",
       "      <td>0.1260</td>\n",
       "      <td>0.016500</td>\n",
       "      <td>NaN</td>\n",
       "      <td>0.4040</td>\n",
       "      <td>0.676</td>\n",
       "      <td>109.736</td>\n",
       "      <td>75760.0</td>\n",
       "      <td>4</td>\n",
       "      <td>6</td>\n",
       "    </tr>\n",
       "    <tr>\n",
       "      <th>614</th>\n",
       "      <td>615</td>\n",
       "      <td>Wallice</td>\n",
       "      <td>Punching Bag</td>\n",
       "      <td>52.0</td>\n",
       "      <td>0.621</td>\n",
       "      <td>0.766</td>\n",
       "      <td>1.0</td>\n",
       "      <td>-1.730</td>\n",
       "      <td>0</td>\n",
       "      <td>0.0392</td>\n",
       "      <td>0.433000</td>\n",
       "      <td>0.000009</td>\n",
       "      <td>0.3230</td>\n",
       "      <td>0.612</td>\n",
       "      <td>138.974</td>\n",
       "      <td>153784.0</td>\n",
       "      <td>4</td>\n",
       "      <td>9</td>\n",
       "    </tr>\n",
       "    <tr>\n",
       "      <th>671</th>\n",
       "      <td>672</td>\n",
       "      <td>Alice Cooper</td>\n",
       "      <td>School's Out</td>\n",
       "      <td>68.0</td>\n",
       "      <td>0.294</td>\n",
       "      <td>0.745</td>\n",
       "      <td>5.0</td>\n",
       "      <td>-9.138</td>\n",
       "      <td>1</td>\n",
       "      <td>0.0461</td>\n",
       "      <td>0.050000</td>\n",
       "      <td>0.125000</td>\n",
       "      <td>0.6760</td>\n",
       "      <td>0.347</td>\n",
       "      <td>134.364</td>\n",
       "      <td>210107.0</td>\n",
       "      <td>4</td>\n",
       "      <td>10</td>\n",
       "    </tr>\n",
       "    <tr>\n",
       "      <th>709</th>\n",
       "      <td>710</td>\n",
       "      <td>Foals</td>\n",
       "      <td>My Number</td>\n",
       "      <td>68.0</td>\n",
       "      <td>0.639</td>\n",
       "      <td>0.715</td>\n",
       "      <td>6.0</td>\n",
       "      <td>-8.954</td>\n",
       "      <td>0</td>\n",
       "      <td>0.0392</td>\n",
       "      <td>0.024300</td>\n",
       "      <td>0.000552</td>\n",
       "      <td>0.6190</td>\n",
       "      <td>0.813</td>\n",
       "      <td>128.072</td>\n",
       "      <td>238853.0</td>\n",
       "      <td>4</td>\n",
       "      <td>10</td>\n",
       "    </tr>\n",
       "    <tr>\n",
       "      <th>862</th>\n",
       "      <td>863</td>\n",
       "      <td>Freeds</td>\n",
       "      <td>Fruit Bats</td>\n",
       "      <td>42.0</td>\n",
       "      <td>0.897</td>\n",
       "      <td>0.466</td>\n",
       "      <td>10.0</td>\n",
       "      <td>-10.180</td>\n",
       "      <td>1</td>\n",
       "      <td>0.0478</td>\n",
       "      <td>0.556000</td>\n",
       "      <td>0.000165</td>\n",
       "      <td>0.1190</td>\n",
       "      <td>0.522</td>\n",
       "      <td>104.944</td>\n",
       "      <td>175313.0</td>\n",
       "      <td>4</td>\n",
       "      <td>9</td>\n",
       "    </tr>\n",
       "    <tr>\n",
       "      <th>...</th>\n",
       "      <td>...</td>\n",
       "      <td>...</td>\n",
       "      <td>...</td>\n",
       "      <td>...</td>\n",
       "      <td>...</td>\n",
       "      <td>...</td>\n",
       "      <td>...</td>\n",
       "      <td>...</td>\n",
       "      <td>...</td>\n",
       "      <td>...</td>\n",
       "      <td>...</td>\n",
       "      <td>...</td>\n",
       "      <td>...</td>\n",
       "      <td>...</td>\n",
       "      <td>...</td>\n",
       "      <td>...</td>\n",
       "      <td>...</td>\n",
       "      <td>...</td>\n",
       "    </tr>\n",
       "    <tr>\n",
       "      <th>14377</th>\n",
       "      <td>14378</td>\n",
       "      <td>Resolve</td>\n",
       "      <td>Seasick Sailor</td>\n",
       "      <td>43.0</td>\n",
       "      <td>0.468</td>\n",
       "      <td>0.964</td>\n",
       "      <td>1.0</td>\n",
       "      <td>-5.384</td>\n",
       "      <td>0</td>\n",
       "      <td>0.0931</td>\n",
       "      <td>0.009140</td>\n",
       "      <td>0.000014</td>\n",
       "      <td>0.3500</td>\n",
       "      <td>0.185</td>\n",
       "      <td>95.035</td>\n",
       "      <td>219185.0</td>\n",
       "      <td>4</td>\n",
       "      <td>8</td>\n",
       "    </tr>\n",
       "    <tr>\n",
       "      <th>14379</th>\n",
       "      <td>14380</td>\n",
       "      <td>POORSTACY</td>\n",
       "      <td>Public Enemy</td>\n",
       "      <td>NaN</td>\n",
       "      <td>0.520</td>\n",
       "      <td>0.967</td>\n",
       "      <td>3.0</td>\n",
       "      <td>-3.837</td>\n",
       "      <td>0</td>\n",
       "      <td>0.4890</td>\n",
       "      <td>0.002480</td>\n",
       "      <td>0.000003</td>\n",
       "      <td>0.3280</td>\n",
       "      <td>0.477</td>\n",
       "      <td>179.924</td>\n",
       "      <td>149500.0</td>\n",
       "      <td>4</td>\n",
       "      <td>1</td>\n",
       "    </tr>\n",
       "    <tr>\n",
       "      <th>14381</th>\n",
       "      <td>14382</td>\n",
       "      <td>Ozzy Osbourne</td>\n",
       "      <td>Mama, I'm Coming Home</td>\n",
       "      <td>69.0</td>\n",
       "      <td>0.282</td>\n",
       "      <td>0.656</td>\n",
       "      <td>8.0</td>\n",
       "      <td>-6.557</td>\n",
       "      <td>1</td>\n",
       "      <td>0.0302</td>\n",
       "      <td>0.010500</td>\n",
       "      <td>NaN</td>\n",
       "      <td>0.0892</td>\n",
       "      <td>0.242</td>\n",
       "      <td>139.352</td>\n",
       "      <td>251867.0</td>\n",
       "      <td>4</td>\n",
       "      <td>10</td>\n",
       "    </tr>\n",
       "    <tr>\n",
       "      <th>14384</th>\n",
       "      <td>14385</td>\n",
       "      <td>Jackie Hayes</td>\n",
       "      <td>eye 2 eye</td>\n",
       "      <td>48.0</td>\n",
       "      <td>0.638</td>\n",
       "      <td>0.666</td>\n",
       "      <td>4.0</td>\n",
       "      <td>-6.951</td>\n",
       "      <td>0</td>\n",
       "      <td>0.0392</td>\n",
       "      <td>0.007840</td>\n",
       "      <td>0.000067</td>\n",
       "      <td>0.3140</td>\n",
       "      <td>0.651</td>\n",
       "      <td>131.962</td>\n",
       "      <td>185455.0</td>\n",
       "      <td>4</td>\n",
       "      <td>6</td>\n",
       "    </tr>\n",
       "    <tr>\n",
       "      <th>14390</th>\n",
       "      <td>14391</td>\n",
       "      <td>M83</td>\n",
       "      <td>Kim &amp; Jessie</td>\n",
       "      <td>45.0</td>\n",
       "      <td>0.492</td>\n",
       "      <td>0.567</td>\n",
       "      <td>5.0</td>\n",
       "      <td>-6.159</td>\n",
       "      <td>1</td>\n",
       "      <td>0.0327</td>\n",
       "      <td>0.000114</td>\n",
       "      <td>0.536000</td>\n",
       "      <td>0.3580</td>\n",
       "      <td>0.245</td>\n",
       "      <td>111.010</td>\n",
       "      <td>323373.0</td>\n",
       "      <td>4</td>\n",
       "      <td>10</td>\n",
       "    </tr>\n",
       "  </tbody>\n",
       "</table>\n",
       "<p>1220 rows × 18 columns</p>\n",
       "</div>"
      ],
      "text/plain": [
       "          Id    Artist Name             Track Name  Popularity  danceability  \\\n",
       "600      601      The Chats     Drunk n Disorderly        47.0         0.509   \n",
       "614      615        Wallice           Punching Bag        52.0         0.621   \n",
       "671      672   Alice Cooper           School's Out        68.0         0.294   \n",
       "709      710          Foals              My Number        68.0         0.639   \n",
       "862      863         Freeds             Fruit Bats        42.0         0.897   \n",
       "...      ...            ...                    ...         ...           ...   \n",
       "14377  14378        Resolve         Seasick Sailor        43.0         0.468   \n",
       "14379  14380      POORSTACY           Public Enemy         NaN         0.520   \n",
       "14381  14382  Ozzy Osbourne  Mama, I'm Coming Home        69.0         0.282   \n",
       "14384  14385   Jackie Hayes              eye 2 eye        48.0         0.638   \n",
       "14390  14391            M83           Kim & Jessie        45.0         0.492   \n",
       "\n",
       "       energy   key  loudness  mode  speechiness  acousticness  \\\n",
       "600     0.733   9.0    -5.909     1       0.1260      0.016500   \n",
       "614     0.766   1.0    -1.730     0       0.0392      0.433000   \n",
       "671     0.745   5.0    -9.138     1       0.0461      0.050000   \n",
       "709     0.715   6.0    -8.954     0       0.0392      0.024300   \n",
       "862     0.466  10.0   -10.180     1       0.0478      0.556000   \n",
       "...       ...   ...       ...   ...          ...           ...   \n",
       "14377   0.964   1.0    -5.384     0       0.0931      0.009140   \n",
       "14379   0.967   3.0    -3.837     0       0.4890      0.002480   \n",
       "14381   0.656   8.0    -6.557     1       0.0302      0.010500   \n",
       "14384   0.666   4.0    -6.951     0       0.0392      0.007840   \n",
       "14390   0.567   5.0    -6.159     1       0.0327      0.000114   \n",
       "\n",
       "       instrumentalness  liveness  valence    tempo  duration_in min/ms  \\\n",
       "600                 NaN    0.4040    0.676  109.736             75760.0   \n",
       "614            0.000009    0.3230    0.612  138.974            153784.0   \n",
       "671            0.125000    0.6760    0.347  134.364            210107.0   \n",
       "709            0.000552    0.6190    0.813  128.072            238853.0   \n",
       "862            0.000165    0.1190    0.522  104.944            175313.0   \n",
       "...                 ...       ...      ...      ...                 ...   \n",
       "14377          0.000014    0.3500    0.185   95.035            219185.0   \n",
       "14379          0.000003    0.3280    0.477  179.924            149500.0   \n",
       "14381               NaN    0.0892    0.242  139.352            251867.0   \n",
       "14384          0.000067    0.3140    0.651  131.962            185455.0   \n",
       "14390          0.536000    0.3580    0.245  111.010            323373.0   \n",
       "\n",
       "       time_signature  Class  \n",
       "600                 4      6  \n",
       "614                 4      9  \n",
       "671                 4     10  \n",
       "709                 4     10  \n",
       "862                 4      9  \n",
       "...               ...    ...  \n",
       "14377               4      8  \n",
       "14379               4      1  \n",
       "14381               4     10  \n",
       "14384               4      6  \n",
       "14390               4     10  \n",
       "\n",
       "[1220 rows x 18 columns]"
      ]
     },
     "execution_count": 10,
     "metadata": {},
     "output_type": "execute_result"
    }
   ],
   "source": [
    "# Get the list of records that have the same artist & track name\n",
    "\n",
    "train_df[train_df[['Artist Name', 'Track Name']].duplicated()]"
   ]
  },
  {
   "cell_type": "code",
   "execution_count": 11,
   "id": "84feda1a",
   "metadata": {},
   "outputs": [
    {
     "data": {
      "text/html": [
       "<div>\n",
       "<style scoped>\n",
       "    .dataframe tbody tr th:only-of-type {\n",
       "        vertical-align: middle;\n",
       "    }\n",
       "\n",
       "    .dataframe tbody tr th {\n",
       "        vertical-align: top;\n",
       "    }\n",
       "\n",
       "    .dataframe thead th {\n",
       "        text-align: right;\n",
       "    }\n",
       "</style>\n",
       "<table border=\"1\" class=\"dataframe\">\n",
       "  <thead>\n",
       "    <tr style=\"text-align: right;\">\n",
       "      <th></th>\n",
       "      <th>Id</th>\n",
       "      <th>Artist Name</th>\n",
       "      <th>Track Name</th>\n",
       "      <th>Popularity</th>\n",
       "      <th>danceability</th>\n",
       "      <th>energy</th>\n",
       "      <th>key</th>\n",
       "      <th>loudness</th>\n",
       "      <th>mode</th>\n",
       "      <th>speechiness</th>\n",
       "      <th>acousticness</th>\n",
       "      <th>instrumentalness</th>\n",
       "      <th>liveness</th>\n",
       "      <th>valence</th>\n",
       "      <th>tempo</th>\n",
       "      <th>duration_in min/ms</th>\n",
       "      <th>time_signature</th>\n",
       "      <th>Class</th>\n",
       "    </tr>\n",
       "  </thead>\n",
       "  <tbody>\n",
       "    <tr>\n",
       "      <th>466</th>\n",
       "      <td>467</td>\n",
       "      <td>The Game</td>\n",
       "      <td>Dreams</td>\n",
       "      <td>58.0</td>\n",
       "      <td>0.630</td>\n",
       "      <td>0.780</td>\n",
       "      <td>6.0</td>\n",
       "      <td>-5.353</td>\n",
       "      <td>1</td>\n",
       "      <td>0.2210</td>\n",
       "      <td>0.004990</td>\n",
       "      <td>NaN</td>\n",
       "      <td>0.2060</td>\n",
       "      <td>0.281</td>\n",
       "      <td>155.779</td>\n",
       "      <td>286453.0</td>\n",
       "      <td>4</td>\n",
       "      <td>5</td>\n",
       "    </tr>\n",
       "    <tr>\n",
       "      <th>600</th>\n",
       "      <td>601</td>\n",
       "      <td>The Chats</td>\n",
       "      <td>Drunk n Disorderly</td>\n",
       "      <td>47.0</td>\n",
       "      <td>0.509</td>\n",
       "      <td>0.733</td>\n",
       "      <td>9.0</td>\n",
       "      <td>-5.909</td>\n",
       "      <td>1</td>\n",
       "      <td>0.1260</td>\n",
       "      <td>0.016500</td>\n",
       "      <td>NaN</td>\n",
       "      <td>0.4040</td>\n",
       "      <td>0.676</td>\n",
       "      <td>109.736</td>\n",
       "      <td>75760.0</td>\n",
       "      <td>4</td>\n",
       "      <td>6</td>\n",
       "    </tr>\n",
       "    <tr>\n",
       "      <th>614</th>\n",
       "      <td>615</td>\n",
       "      <td>Wallice</td>\n",
       "      <td>Punching Bag</td>\n",
       "      <td>52.0</td>\n",
       "      <td>0.621</td>\n",
       "      <td>0.766</td>\n",
       "      <td>1.0</td>\n",
       "      <td>-1.730</td>\n",
       "      <td>0</td>\n",
       "      <td>0.0392</td>\n",
       "      <td>0.433000</td>\n",
       "      <td>0.000009</td>\n",
       "      <td>0.3230</td>\n",
       "      <td>0.612</td>\n",
       "      <td>138.974</td>\n",
       "      <td>153784.0</td>\n",
       "      <td>4</td>\n",
       "      <td>9</td>\n",
       "    </tr>\n",
       "    <tr>\n",
       "      <th>643</th>\n",
       "      <td>644</td>\n",
       "      <td>Foghat</td>\n",
       "      <td>My Babe</td>\n",
       "      <td>NaN</td>\n",
       "      <td>0.383</td>\n",
       "      <td>0.803</td>\n",
       "      <td>7.0</td>\n",
       "      <td>-9.353</td>\n",
       "      <td>1</td>\n",
       "      <td>0.0709</td>\n",
       "      <td>0.086100</td>\n",
       "      <td>0.018600</td>\n",
       "      <td>0.1710</td>\n",
       "      <td>0.618</td>\n",
       "      <td>143.188</td>\n",
       "      <td>276760.0</td>\n",
       "      <td>4</td>\n",
       "      <td>2</td>\n",
       "    </tr>\n",
       "    <tr>\n",
       "      <th>665</th>\n",
       "      <td>666</td>\n",
       "      <td>La Roux</td>\n",
       "      <td>Bulletproof</td>\n",
       "      <td>72.0</td>\n",
       "      <td>0.674</td>\n",
       "      <td>0.882</td>\n",
       "      <td>3.0</td>\n",
       "      <td>-2.771</td>\n",
       "      <td>0</td>\n",
       "      <td>0.0477</td>\n",
       "      <td>0.000441</td>\n",
       "      <td>0.000065</td>\n",
       "      <td>0.0680</td>\n",
       "      <td>0.682</td>\n",
       "      <td>123.016</td>\n",
       "      <td>205733.0</td>\n",
       "      <td>4</td>\n",
       "      <td>9</td>\n",
       "    </tr>\n",
       "    <tr>\n",
       "      <th>...</th>\n",
       "      <td>...</td>\n",
       "      <td>...</td>\n",
       "      <td>...</td>\n",
       "      <td>...</td>\n",
       "      <td>...</td>\n",
       "      <td>...</td>\n",
       "      <td>...</td>\n",
       "      <td>...</td>\n",
       "      <td>...</td>\n",
       "      <td>...</td>\n",
       "      <td>...</td>\n",
       "      <td>...</td>\n",
       "      <td>...</td>\n",
       "      <td>...</td>\n",
       "      <td>...</td>\n",
       "      <td>...</td>\n",
       "      <td>...</td>\n",
       "      <td>...</td>\n",
       "    </tr>\n",
       "    <tr>\n",
       "      <th>14377</th>\n",
       "      <td>14378</td>\n",
       "      <td>Resolve</td>\n",
       "      <td>Seasick Sailor</td>\n",
       "      <td>43.0</td>\n",
       "      <td>0.468</td>\n",
       "      <td>0.964</td>\n",
       "      <td>1.0</td>\n",
       "      <td>-5.384</td>\n",
       "      <td>0</td>\n",
       "      <td>0.0931</td>\n",
       "      <td>0.009140</td>\n",
       "      <td>0.000014</td>\n",
       "      <td>0.3500</td>\n",
       "      <td>0.185</td>\n",
       "      <td>95.035</td>\n",
       "      <td>219185.0</td>\n",
       "      <td>4</td>\n",
       "      <td>8</td>\n",
       "    </tr>\n",
       "    <tr>\n",
       "      <th>14379</th>\n",
       "      <td>14380</td>\n",
       "      <td>POORSTACY</td>\n",
       "      <td>Public Enemy</td>\n",
       "      <td>NaN</td>\n",
       "      <td>0.520</td>\n",
       "      <td>0.967</td>\n",
       "      <td>3.0</td>\n",
       "      <td>-3.837</td>\n",
       "      <td>0</td>\n",
       "      <td>0.4890</td>\n",
       "      <td>0.002480</td>\n",
       "      <td>0.000003</td>\n",
       "      <td>0.3280</td>\n",
       "      <td>0.477</td>\n",
       "      <td>179.924</td>\n",
       "      <td>149500.0</td>\n",
       "      <td>4</td>\n",
       "      <td>1</td>\n",
       "    </tr>\n",
       "    <tr>\n",
       "      <th>14381</th>\n",
       "      <td>14382</td>\n",
       "      <td>Ozzy Osbourne</td>\n",
       "      <td>Mama, I'm Coming Home</td>\n",
       "      <td>69.0</td>\n",
       "      <td>0.282</td>\n",
       "      <td>0.656</td>\n",
       "      <td>8.0</td>\n",
       "      <td>-6.557</td>\n",
       "      <td>1</td>\n",
       "      <td>0.0302</td>\n",
       "      <td>0.010500</td>\n",
       "      <td>NaN</td>\n",
       "      <td>0.0892</td>\n",
       "      <td>0.242</td>\n",
       "      <td>139.352</td>\n",
       "      <td>251867.0</td>\n",
       "      <td>4</td>\n",
       "      <td>10</td>\n",
       "    </tr>\n",
       "    <tr>\n",
       "      <th>14384</th>\n",
       "      <td>14385</td>\n",
       "      <td>Jackie Hayes</td>\n",
       "      <td>eye 2 eye</td>\n",
       "      <td>48.0</td>\n",
       "      <td>0.638</td>\n",
       "      <td>0.666</td>\n",
       "      <td>4.0</td>\n",
       "      <td>-6.951</td>\n",
       "      <td>0</td>\n",
       "      <td>0.0392</td>\n",
       "      <td>0.007840</td>\n",
       "      <td>0.000067</td>\n",
       "      <td>0.3140</td>\n",
       "      <td>0.651</td>\n",
       "      <td>131.962</td>\n",
       "      <td>185455.0</td>\n",
       "      <td>4</td>\n",
       "      <td>6</td>\n",
       "    </tr>\n",
       "    <tr>\n",
       "      <th>14390</th>\n",
       "      <td>14391</td>\n",
       "      <td>M83</td>\n",
       "      <td>Kim &amp; Jessie</td>\n",
       "      <td>45.0</td>\n",
       "      <td>0.492</td>\n",
       "      <td>0.567</td>\n",
       "      <td>5.0</td>\n",
       "      <td>-6.159</td>\n",
       "      <td>1</td>\n",
       "      <td>0.0327</td>\n",
       "      <td>0.000114</td>\n",
       "      <td>0.536000</td>\n",
       "      <td>0.3580</td>\n",
       "      <td>0.245</td>\n",
       "      <td>111.010</td>\n",
       "      <td>323373.0</td>\n",
       "      <td>4</td>\n",
       "      <td>10</td>\n",
       "    </tr>\n",
       "  </tbody>\n",
       "</table>\n",
       "<p>1941 rows × 18 columns</p>\n",
       "</div>"
      ],
      "text/plain": [
       "          Id    Artist Name             Track Name  Popularity  danceability  \\\n",
       "466      467       The Game                 Dreams        58.0         0.630   \n",
       "600      601      The Chats     Drunk n Disorderly        47.0         0.509   \n",
       "614      615        Wallice           Punching Bag        52.0         0.621   \n",
       "643      644         Foghat                My Babe         NaN         0.383   \n",
       "665      666        La Roux            Bulletproof        72.0         0.674   \n",
       "...      ...            ...                    ...         ...           ...   \n",
       "14377  14378        Resolve         Seasick Sailor        43.0         0.468   \n",
       "14379  14380      POORSTACY           Public Enemy         NaN         0.520   \n",
       "14381  14382  Ozzy Osbourne  Mama, I'm Coming Home        69.0         0.282   \n",
       "14384  14385   Jackie Hayes              eye 2 eye        48.0         0.638   \n",
       "14390  14391            M83           Kim & Jessie        45.0         0.492   \n",
       "\n",
       "       energy  key  loudness  mode  speechiness  acousticness  \\\n",
       "466     0.780  6.0    -5.353     1       0.2210      0.004990   \n",
       "600     0.733  9.0    -5.909     1       0.1260      0.016500   \n",
       "614     0.766  1.0    -1.730     0       0.0392      0.433000   \n",
       "643     0.803  7.0    -9.353     1       0.0709      0.086100   \n",
       "665     0.882  3.0    -2.771     0       0.0477      0.000441   \n",
       "...       ...  ...       ...   ...          ...           ...   \n",
       "14377   0.964  1.0    -5.384     0       0.0931      0.009140   \n",
       "14379   0.967  3.0    -3.837     0       0.4890      0.002480   \n",
       "14381   0.656  8.0    -6.557     1       0.0302      0.010500   \n",
       "14384   0.666  4.0    -6.951     0       0.0392      0.007840   \n",
       "14390   0.567  5.0    -6.159     1       0.0327      0.000114   \n",
       "\n",
       "       instrumentalness  liveness  valence    tempo  duration_in min/ms  \\\n",
       "466                 NaN    0.2060    0.281  155.779            286453.0   \n",
       "600                 NaN    0.4040    0.676  109.736             75760.0   \n",
       "614            0.000009    0.3230    0.612  138.974            153784.0   \n",
       "643            0.018600    0.1710    0.618  143.188            276760.0   \n",
       "665            0.000065    0.0680    0.682  123.016            205733.0   \n",
       "...                 ...       ...      ...      ...                 ...   \n",
       "14377          0.000014    0.3500    0.185   95.035            219185.0   \n",
       "14379          0.000003    0.3280    0.477  179.924            149500.0   \n",
       "14381               NaN    0.0892    0.242  139.352            251867.0   \n",
       "14384          0.000067    0.3140    0.651  131.962            185455.0   \n",
       "14390          0.536000    0.3580    0.245  111.010            323373.0   \n",
       "\n",
       "       time_signature  Class  \n",
       "466                 4      5  \n",
       "600                 4      6  \n",
       "614                 4      9  \n",
       "643                 4      2  \n",
       "665                 4      9  \n",
       "...               ...    ...  \n",
       "14377               4      8  \n",
       "14379               4      1  \n",
       "14381               4     10  \n",
       "14384               4      6  \n",
       "14390               4     10  \n",
       "\n",
       "[1941 rows x 18 columns]"
      ]
     },
     "execution_count": 11,
     "metadata": {},
     "output_type": "execute_result"
    }
   ],
   "source": [
    "# Get the list of songs that have duplicated track names\n",
    "\n",
    "train_df[train_df[['Track Name']].duplicated()]"
   ]
  },
  {
   "cell_type": "code",
   "execution_count": 12,
   "id": "61ebcb79",
   "metadata": {},
   "outputs": [
    {
     "data": {
      "text/html": [
       "<div>\n",
       "<style scoped>\n",
       "    .dataframe tbody tr th:only-of-type {\n",
       "        vertical-align: middle;\n",
       "    }\n",
       "\n",
       "    .dataframe tbody tr th {\n",
       "        vertical-align: top;\n",
       "    }\n",
       "\n",
       "    .dataframe thead th {\n",
       "        text-align: right;\n",
       "    }\n",
       "</style>\n",
       "<table border=\"1\" class=\"dataframe\">\n",
       "  <thead>\n",
       "    <tr style=\"text-align: right;\">\n",
       "      <th></th>\n",
       "      <th>Id</th>\n",
       "      <th>Artist Name</th>\n",
       "      <th>Track Name</th>\n",
       "      <th>Popularity</th>\n",
       "      <th>danceability</th>\n",
       "      <th>energy</th>\n",
       "      <th>key</th>\n",
       "      <th>loudness</th>\n",
       "      <th>mode</th>\n",
       "      <th>speechiness</th>\n",
       "      <th>acousticness</th>\n",
       "      <th>instrumentalness</th>\n",
       "      <th>liveness</th>\n",
       "      <th>valence</th>\n",
       "      <th>tempo</th>\n",
       "      <th>duration_in min/ms</th>\n",
       "      <th>time_signature</th>\n",
       "      <th>Class</th>\n",
       "    </tr>\n",
       "  </thead>\n",
       "  <tbody>\n",
       "    <tr>\n",
       "      <th>592</th>\n",
       "      <td>593</td>\n",
       "      <td>The Chats</td>\n",
       "      <td>Drunk n Disorderly</td>\n",
       "      <td>47.0</td>\n",
       "      <td>0.509</td>\n",
       "      <td>0.733</td>\n",
       "      <td>9.0</td>\n",
       "      <td>-5.909</td>\n",
       "      <td>1</td>\n",
       "      <td>0.126</td>\n",
       "      <td>0.0165</td>\n",
       "      <td>NaN</td>\n",
       "      <td>0.404</td>\n",
       "      <td>0.676</td>\n",
       "      <td>109.736</td>\n",
       "      <td>75760.0</td>\n",
       "      <td>4</td>\n",
       "      <td>10</td>\n",
       "    </tr>\n",
       "    <tr>\n",
       "      <th>600</th>\n",
       "      <td>601</td>\n",
       "      <td>The Chats</td>\n",
       "      <td>Drunk n Disorderly</td>\n",
       "      <td>47.0</td>\n",
       "      <td>0.509</td>\n",
       "      <td>0.733</td>\n",
       "      <td>9.0</td>\n",
       "      <td>-5.909</td>\n",
       "      <td>1</td>\n",
       "      <td>0.126</td>\n",
       "      <td>0.0165</td>\n",
       "      <td>NaN</td>\n",
       "      <td>0.404</td>\n",
       "      <td>0.676</td>\n",
       "      <td>109.736</td>\n",
       "      <td>75760.0</td>\n",
       "      <td>4</td>\n",
       "      <td>6</td>\n",
       "    </tr>\n",
       "    <tr>\n",
       "      <th>3947</th>\n",
       "      <td>3948</td>\n",
       "      <td>The Chats</td>\n",
       "      <td>Drunk n Disorderly</td>\n",
       "      <td>47.0</td>\n",
       "      <td>0.509</td>\n",
       "      <td>0.733</td>\n",
       "      <td>9.0</td>\n",
       "      <td>-5.909</td>\n",
       "      <td>1</td>\n",
       "      <td>0.126</td>\n",
       "      <td>0.0165</td>\n",
       "      <td>NaN</td>\n",
       "      <td>0.404</td>\n",
       "      <td>0.676</td>\n",
       "      <td>109.736</td>\n",
       "      <td>75760.0</td>\n",
       "      <td>4</td>\n",
       "      <td>1</td>\n",
       "    </tr>\n",
       "  </tbody>\n",
       "</table>\n",
       "</div>"
      ],
      "text/plain": [
       "        Id Artist Name          Track Name  Popularity  danceability  energy  \\\n",
       "592    593   The Chats  Drunk n Disorderly        47.0         0.509   0.733   \n",
       "600    601   The Chats  Drunk n Disorderly        47.0         0.509   0.733   \n",
       "3947  3948   The Chats  Drunk n Disorderly        47.0         0.509   0.733   \n",
       "\n",
       "      key  loudness  mode  speechiness  acousticness  instrumentalness  \\\n",
       "592   9.0    -5.909     1        0.126        0.0165               NaN   \n",
       "600   9.0    -5.909     1        0.126        0.0165               NaN   \n",
       "3947  9.0    -5.909     1        0.126        0.0165               NaN   \n",
       "\n",
       "      liveness  valence    tempo  duration_in min/ms  time_signature  Class  \n",
       "592      0.404    0.676  109.736             75760.0               4     10  \n",
       "600      0.404    0.676  109.736             75760.0               4      6  \n",
       "3947     0.404    0.676  109.736             75760.0               4      1  "
      ]
     },
     "execution_count": 12,
     "metadata": {},
     "output_type": "execute_result"
    }
   ],
   "source": [
    "# Take a look at some records that have the same artist and track name\n",
    "\n",
    "train_df[train_df['Track Name'] == 'Drunk n Disorderly']"
   ]
  },
  {
   "cell_type": "code",
   "execution_count": 13,
   "id": "37aa899a",
   "metadata": {},
   "outputs": [
    {
     "data": {
      "text/html": [
       "<div>\n",
       "<style scoped>\n",
       "    .dataframe tbody tr th:only-of-type {\n",
       "        vertical-align: middle;\n",
       "    }\n",
       "\n",
       "    .dataframe tbody tr th {\n",
       "        vertical-align: top;\n",
       "    }\n",
       "\n",
       "    .dataframe thead th {\n",
       "        text-align: right;\n",
       "    }\n",
       "</style>\n",
       "<table border=\"1\" class=\"dataframe\">\n",
       "  <thead>\n",
       "    <tr style=\"text-align: right;\">\n",
       "      <th></th>\n",
       "      <th>Id</th>\n",
       "      <th>Artist Name</th>\n",
       "      <th>Track Name</th>\n",
       "      <th>Popularity</th>\n",
       "      <th>danceability</th>\n",
       "      <th>energy</th>\n",
       "      <th>key</th>\n",
       "      <th>loudness</th>\n",
       "      <th>mode</th>\n",
       "      <th>speechiness</th>\n",
       "      <th>acousticness</th>\n",
       "      <th>instrumentalness</th>\n",
       "      <th>liveness</th>\n",
       "      <th>valence</th>\n",
       "      <th>tempo</th>\n",
       "      <th>duration_in min/ms</th>\n",
       "      <th>time_signature</th>\n",
       "      <th>Class</th>\n",
       "    </tr>\n",
       "  </thead>\n",
       "  <tbody>\n",
       "    <tr>\n",
       "      <th>191</th>\n",
       "      <td>192</td>\n",
       "      <td>Irish Women In Harmony</td>\n",
       "      <td>Dreams</td>\n",
       "      <td>48.0</td>\n",
       "      <td>0.558</td>\n",
       "      <td>0.475</td>\n",
       "      <td>4.0</td>\n",
       "      <td>-8.623</td>\n",
       "      <td>1</td>\n",
       "      <td>0.0282</td>\n",
       "      <td>0.51600</td>\n",
       "      <td>0.000006</td>\n",
       "      <td>0.1070</td>\n",
       "      <td>0.344</td>\n",
       "      <td>116.924</td>\n",
       "      <td>4.150167</td>\n",
       "      <td>4</td>\n",
       "      <td>0</td>\n",
       "    </tr>\n",
       "    <tr>\n",
       "      <th>466</th>\n",
       "      <td>467</td>\n",
       "      <td>The Game</td>\n",
       "      <td>Dreams</td>\n",
       "      <td>58.0</td>\n",
       "      <td>0.630</td>\n",
       "      <td>0.780</td>\n",
       "      <td>6.0</td>\n",
       "      <td>-5.353</td>\n",
       "      <td>1</td>\n",
       "      <td>0.2210</td>\n",
       "      <td>0.00499</td>\n",
       "      <td>NaN</td>\n",
       "      <td>0.2060</td>\n",
       "      <td>0.281</td>\n",
       "      <td>155.779</td>\n",
       "      <td>286453.000000</td>\n",
       "      <td>4</td>\n",
       "      <td>5</td>\n",
       "    </tr>\n",
       "    <tr>\n",
       "      <th>5703</th>\n",
       "      <td>5704</td>\n",
       "      <td>Fleetwood Mac</td>\n",
       "      <td>Dreams</td>\n",
       "      <td>85.0</td>\n",
       "      <td>0.828</td>\n",
       "      <td>0.492</td>\n",
       "      <td>NaN</td>\n",
       "      <td>-9.744</td>\n",
       "      <td>1</td>\n",
       "      <td>0.0276</td>\n",
       "      <td>0.06440</td>\n",
       "      <td>0.004280</td>\n",
       "      <td>0.1280</td>\n",
       "      <td>0.789</td>\n",
       "      <td>120.151</td>\n",
       "      <td>257800.000000</td>\n",
       "      <td>4</td>\n",
       "      <td>10</td>\n",
       "    </tr>\n",
       "    <tr>\n",
       "      <th>7842</th>\n",
       "      <td>7843</td>\n",
       "      <td>chloe moriondo</td>\n",
       "      <td>Dreams</td>\n",
       "      <td>57.0</td>\n",
       "      <td>0.812</td>\n",
       "      <td>0.472</td>\n",
       "      <td>NaN</td>\n",
       "      <td>-9.649</td>\n",
       "      <td>1</td>\n",
       "      <td>0.0388</td>\n",
       "      <td>0.46800</td>\n",
       "      <td>0.000037</td>\n",
       "      <td>0.1030</td>\n",
       "      <td>0.603</td>\n",
       "      <td>119.970</td>\n",
       "      <td>215844.000000</td>\n",
       "      <td>4</td>\n",
       "      <td>6</td>\n",
       "    </tr>\n",
       "    <tr>\n",
       "      <th>10301</th>\n",
       "      <td>10302</td>\n",
       "      <td>Van Halen</td>\n",
       "      <td>Dreams</td>\n",
       "      <td>60.0</td>\n",
       "      <td>0.455</td>\n",
       "      <td>0.758</td>\n",
       "      <td>NaN</td>\n",
       "      <td>-11.361</td>\n",
       "      <td>1</td>\n",
       "      <td>0.0454</td>\n",
       "      <td>0.22300</td>\n",
       "      <td>0.000003</td>\n",
       "      <td>0.0986</td>\n",
       "      <td>0.540</td>\n",
       "      <td>141.304</td>\n",
       "      <td>294000.000000</td>\n",
       "      <td>4</td>\n",
       "      <td>10</td>\n",
       "    </tr>\n",
       "    <tr>\n",
       "      <th>13840</th>\n",
       "      <td>13841</td>\n",
       "      <td>Langston Hughes</td>\n",
       "      <td>Dreams</td>\n",
       "      <td>8.0</td>\n",
       "      <td>0.745</td>\n",
       "      <td>0.102</td>\n",
       "      <td>2.0</td>\n",
       "      <td>-19.061</td>\n",
       "      <td>1</td>\n",
       "      <td>0.9370</td>\n",
       "      <td>0.98200</td>\n",
       "      <td>NaN</td>\n",
       "      <td>0.1240</td>\n",
       "      <td>0.371</td>\n",
       "      <td>88.247</td>\n",
       "      <td>57443.000000</td>\n",
       "      <td>4</td>\n",
       "      <td>5</td>\n",
       "    </tr>\n",
       "  </tbody>\n",
       "</table>\n",
       "</div>"
      ],
      "text/plain": [
       "          Id             Artist Name Track Name  Popularity  danceability  \\\n",
       "191      192  Irish Women In Harmony     Dreams        48.0         0.558   \n",
       "466      467                The Game     Dreams        58.0         0.630   \n",
       "5703    5704           Fleetwood Mac     Dreams        85.0         0.828   \n",
       "7842    7843          chloe moriondo     Dreams        57.0         0.812   \n",
       "10301  10302               Van Halen     Dreams        60.0         0.455   \n",
       "13840  13841         Langston Hughes     Dreams         8.0         0.745   \n",
       "\n",
       "       energy  key  loudness  mode  speechiness  acousticness  \\\n",
       "191     0.475  4.0    -8.623     1       0.0282       0.51600   \n",
       "466     0.780  6.0    -5.353     1       0.2210       0.00499   \n",
       "5703    0.492  NaN    -9.744     1       0.0276       0.06440   \n",
       "7842    0.472  NaN    -9.649     1       0.0388       0.46800   \n",
       "10301   0.758  NaN   -11.361     1       0.0454       0.22300   \n",
       "13840   0.102  2.0   -19.061     1       0.9370       0.98200   \n",
       "\n",
       "       instrumentalness  liveness  valence    tempo  duration_in min/ms  \\\n",
       "191            0.000006    0.1070    0.344  116.924            4.150167   \n",
       "466                 NaN    0.2060    0.281  155.779       286453.000000   \n",
       "5703           0.004280    0.1280    0.789  120.151       257800.000000   \n",
       "7842           0.000037    0.1030    0.603  119.970       215844.000000   \n",
       "10301          0.000003    0.0986    0.540  141.304       294000.000000   \n",
       "13840               NaN    0.1240    0.371   88.247        57443.000000   \n",
       "\n",
       "       time_signature  Class  \n",
       "191                 4      0  \n",
       "466                 4      5  \n",
       "5703                4     10  \n",
       "7842                4      6  \n",
       "10301               4     10  \n",
       "13840               4      5  "
      ]
     },
     "execution_count": 13,
     "metadata": {},
     "output_type": "execute_result"
    }
   ],
   "source": [
    "# Take a look at some records that have only the same track name and not necesserily the same artist name\n",
    "\n",
    "train_df[train_df['Track Name'] == 'Dreams']"
   ]
  },
  {
   "cell_type": "code",
   "execution_count": 14,
   "id": "eeb5e878",
   "metadata": {},
   "outputs": [
    {
     "data": {
      "text/html": [
       "<div>\n",
       "<style scoped>\n",
       "    .dataframe tbody tr th:only-of-type {\n",
       "        vertical-align: middle;\n",
       "    }\n",
       "\n",
       "    .dataframe tbody tr th {\n",
       "        vertical-align: top;\n",
       "    }\n",
       "\n",
       "    .dataframe thead th {\n",
       "        text-align: right;\n",
       "    }\n",
       "</style>\n",
       "<table border=\"1\" class=\"dataframe\">\n",
       "  <thead>\n",
       "    <tr style=\"text-align: right;\">\n",
       "      <th></th>\n",
       "      <th>Id</th>\n",
       "      <th>Artist Name</th>\n",
       "      <th>Track Name</th>\n",
       "      <th>Popularity</th>\n",
       "      <th>danceability</th>\n",
       "      <th>energy</th>\n",
       "      <th>key</th>\n",
       "      <th>loudness</th>\n",
       "      <th>mode</th>\n",
       "      <th>speechiness</th>\n",
       "      <th>acousticness</th>\n",
       "      <th>instrumentalness</th>\n",
       "      <th>liveness</th>\n",
       "      <th>valence</th>\n",
       "      <th>tempo</th>\n",
       "      <th>duration_in min/ms</th>\n",
       "      <th>time_signature</th>\n",
       "      <th>Class</th>\n",
       "    </tr>\n",
       "  </thead>\n",
       "  <tbody>\n",
       "    <tr>\n",
       "      <th>1597</th>\n",
       "      <td>1598</td>\n",
       "      <td>The Rolling Stones</td>\n",
       "      <td>Beast Of Burden - Remastered</td>\n",
       "      <td>13.0</td>\n",
       "      <td>0.786</td>\n",
       "      <td>0.870</td>\n",
       "      <td>1.0</td>\n",
       "      <td>-3.875</td>\n",
       "      <td>0</td>\n",
       "      <td>0.0316</td>\n",
       "      <td>0.413000</td>\n",
       "      <td>0.000494</td>\n",
       "      <td>0.0389</td>\n",
       "      <td>0.864</td>\n",
       "      <td>100.660</td>\n",
       "      <td>4.419550</td>\n",
       "      <td>4</td>\n",
       "      <td>10</td>\n",
       "    </tr>\n",
       "    <tr>\n",
       "      <th>3068</th>\n",
       "      <td>3069</td>\n",
       "      <td>Sleepy Hallow</td>\n",
       "      <td>2055</td>\n",
       "      <td>82.0</td>\n",
       "      <td>0.829</td>\n",
       "      <td>0.512</td>\n",
       "      <td>6.0</td>\n",
       "      <td>-5.865</td>\n",
       "      <td>0</td>\n",
       "      <td>0.1870</td>\n",
       "      <td>0.492000</td>\n",
       "      <td>NaN</td>\n",
       "      <td>0.1200</td>\n",
       "      <td>0.638</td>\n",
       "      <td>80.511</td>\n",
       "      <td>2.066450</td>\n",
       "      <td>4</td>\n",
       "      <td>9</td>\n",
       "    </tr>\n",
       "    <tr>\n",
       "      <th>3299</th>\n",
       "      <td>3300</td>\n",
       "      <td>The Byrds</td>\n",
       "      <td>Turn! Turn! Turn! (To Everything There Is a Se...</td>\n",
       "      <td>66.0</td>\n",
       "      <td>0.451</td>\n",
       "      <td>0.818</td>\n",
       "      <td>2.0</td>\n",
       "      <td>-8.124</td>\n",
       "      <td>1</td>\n",
       "      <td>0.0439</td>\n",
       "      <td>0.135000</td>\n",
       "      <td>0.000029</td>\n",
       "      <td>0.0520</td>\n",
       "      <td>0.755</td>\n",
       "      <td>124.532</td>\n",
       "      <td>3.822667</td>\n",
       "      <td>4</td>\n",
       "      <td>10</td>\n",
       "    </tr>\n",
       "    <tr>\n",
       "      <th>3470</th>\n",
       "      <td>3471</td>\n",
       "      <td>Creedence Clearwater Revival</td>\n",
       "      <td>Fortunate Son</td>\n",
       "      <td>82.0</td>\n",
       "      <td>0.640</td>\n",
       "      <td>0.663</td>\n",
       "      <td>NaN</td>\n",
       "      <td>-7.516</td>\n",
       "      <td>1</td>\n",
       "      <td>0.0374</td>\n",
       "      <td>0.201000</td>\n",
       "      <td>0.008060</td>\n",
       "      <td>0.1520</td>\n",
       "      <td>0.663</td>\n",
       "      <td>132.770</td>\n",
       "      <td>140773.000000</td>\n",
       "      <td>4</td>\n",
       "      <td>10</td>\n",
       "    </tr>\n",
       "    <tr>\n",
       "      <th>4067</th>\n",
       "      <td>4068</td>\n",
       "      <td>The Backyardigans</td>\n",
       "      <td>Castaways</td>\n",
       "      <td>73.0</td>\n",
       "      <td>0.756</td>\n",
       "      <td>0.211</td>\n",
       "      <td>5.0</td>\n",
       "      <td>-17.646</td>\n",
       "      <td>1</td>\n",
       "      <td>0.4090</td>\n",
       "      <td>0.784000</td>\n",
       "      <td>0.000009</td>\n",
       "      <td>0.1100</td>\n",
       "      <td>0.307</td>\n",
       "      <td>81.253</td>\n",
       "      <td>87707.000000</td>\n",
       "      <td>4</td>\n",
       "      <td>9</td>\n",
       "    </tr>\n",
       "    <tr>\n",
       "      <th>...</th>\n",
       "      <td>...</td>\n",
       "      <td>...</td>\n",
       "      <td>...</td>\n",
       "      <td>...</td>\n",
       "      <td>...</td>\n",
       "      <td>...</td>\n",
       "      <td>...</td>\n",
       "      <td>...</td>\n",
       "      <td>...</td>\n",
       "      <td>...</td>\n",
       "      <td>...</td>\n",
       "      <td>...</td>\n",
       "      <td>...</td>\n",
       "      <td>...</td>\n",
       "      <td>...</td>\n",
       "      <td>...</td>\n",
       "      <td>...</td>\n",
       "      <td>...</td>\n",
       "    </tr>\n",
       "    <tr>\n",
       "      <th>13771</th>\n",
       "      <td>13772</td>\n",
       "      <td>Creedence Clearwater Revival</td>\n",
       "      <td>Have You Ever Seen The Rain</td>\n",
       "      <td>78.0</td>\n",
       "      <td>0.741</td>\n",
       "      <td>0.697</td>\n",
       "      <td>NaN</td>\n",
       "      <td>-7.028</td>\n",
       "      <td>1</td>\n",
       "      <td>0.0277</td>\n",
       "      <td>0.066400</td>\n",
       "      <td>0.000023</td>\n",
       "      <td>0.1330</td>\n",
       "      <td>0.774</td>\n",
       "      <td>116.109</td>\n",
       "      <td>160133.000000</td>\n",
       "      <td>4</td>\n",
       "      <td>10</td>\n",
       "    </tr>\n",
       "    <tr>\n",
       "      <th>13994</th>\n",
       "      <td>13995</td>\n",
       "      <td>Jefferson Airplane</td>\n",
       "      <td>Somebody to Love</td>\n",
       "      <td>71.0</td>\n",
       "      <td>0.504</td>\n",
       "      <td>0.578</td>\n",
       "      <td>4.0</td>\n",
       "      <td>-9.302</td>\n",
       "      <td>1</td>\n",
       "      <td>0.0310</td>\n",
       "      <td>0.408000</td>\n",
       "      <td>NaN</td>\n",
       "      <td>0.3210</td>\n",
       "      <td>0.654</td>\n",
       "      <td>132.411</td>\n",
       "      <td>2.914000</td>\n",
       "      <td>4</td>\n",
       "      <td>10</td>\n",
       "    </tr>\n",
       "    <tr>\n",
       "      <th>14056</th>\n",
       "      <td>14057</td>\n",
       "      <td>The Animals</td>\n",
       "      <td>House Of The Rising Sun</td>\n",
       "      <td>62.0</td>\n",
       "      <td>0.315</td>\n",
       "      <td>0.534</td>\n",
       "      <td>9.0</td>\n",
       "      <td>-7.552</td>\n",
       "      <td>0</td>\n",
       "      <td>0.0310</td>\n",
       "      <td>0.000825</td>\n",
       "      <td>0.108000</td>\n",
       "      <td>0.1010</td>\n",
       "      <td>0.283</td>\n",
       "      <td>116.891</td>\n",
       "      <td>4.495333</td>\n",
       "      <td>3</td>\n",
       "      <td>10</td>\n",
       "    </tr>\n",
       "    <tr>\n",
       "      <th>14204</th>\n",
       "      <td>14205</td>\n",
       "      <td>Survivor</td>\n",
       "      <td>Eye of the Tiger</td>\n",
       "      <td>73.0</td>\n",
       "      <td>0.815</td>\n",
       "      <td>0.438</td>\n",
       "      <td>NaN</td>\n",
       "      <td>-14.522</td>\n",
       "      <td>0</td>\n",
       "      <td>0.0346</td>\n",
       "      <td>0.216000</td>\n",
       "      <td>0.000466</td>\n",
       "      <td>0.0787</td>\n",
       "      <td>0.552</td>\n",
       "      <td>108.965</td>\n",
       "      <td>4.062883</td>\n",
       "      <td>4</td>\n",
       "      <td>10</td>\n",
       "    </tr>\n",
       "    <tr>\n",
       "      <th>14375</th>\n",
       "      <td>14376</td>\n",
       "      <td>Masked Wolf</td>\n",
       "      <td>Astronaut In The Ocean</td>\n",
       "      <td>90.0</td>\n",
       "      <td>0.778</td>\n",
       "      <td>0.695</td>\n",
       "      <td>4.0</td>\n",
       "      <td>-6.865</td>\n",
       "      <td>0</td>\n",
       "      <td>0.0913</td>\n",
       "      <td>0.175000</td>\n",
       "      <td>NaN</td>\n",
       "      <td>0.1500</td>\n",
       "      <td>0.472</td>\n",
       "      <td>149.996</td>\n",
       "      <td>2.213000</td>\n",
       "      <td>4</td>\n",
       "      <td>9</td>\n",
       "    </tr>\n",
       "  </tbody>\n",
       "</table>\n",
       "<p>71 rows × 18 columns</p>\n",
       "</div>"
      ],
      "text/plain": [
       "          Id                   Artist Name  \\\n",
       "1597    1598            The Rolling Stones   \n",
       "3068    3069                 Sleepy Hallow   \n",
       "3299    3300                     The Byrds   \n",
       "3470    3471  Creedence Clearwater Revival   \n",
       "4067    4068             The Backyardigans   \n",
       "...      ...                           ...   \n",
       "13771  13772  Creedence Clearwater Revival   \n",
       "13994  13995            Jefferson Airplane   \n",
       "14056  14057                   The Animals   \n",
       "14204  14205                      Survivor   \n",
       "14375  14376                   Masked Wolf   \n",
       "\n",
       "                                              Track Name  Popularity  \\\n",
       "1597                        Beast Of Burden - Remastered        13.0   \n",
       "3068                                                2055        82.0   \n",
       "3299   Turn! Turn! Turn! (To Everything There Is a Se...        66.0   \n",
       "3470                                       Fortunate Son        82.0   \n",
       "4067                                           Castaways        73.0   \n",
       "...                                                  ...         ...   \n",
       "13771                        Have You Ever Seen The Rain        78.0   \n",
       "13994                                   Somebody to Love        71.0   \n",
       "14056                            House Of The Rising Sun        62.0   \n",
       "14204                                   Eye of the Tiger        73.0   \n",
       "14375                             Astronaut In The Ocean        90.0   \n",
       "\n",
       "       danceability  energy  key  loudness  mode  speechiness  acousticness  \\\n",
       "1597          0.786   0.870  1.0    -3.875     0       0.0316      0.413000   \n",
       "3068          0.829   0.512  6.0    -5.865     0       0.1870      0.492000   \n",
       "3299          0.451   0.818  2.0    -8.124     1       0.0439      0.135000   \n",
       "3470          0.640   0.663  NaN    -7.516     1       0.0374      0.201000   \n",
       "4067          0.756   0.211  5.0   -17.646     1       0.4090      0.784000   \n",
       "...             ...     ...  ...       ...   ...          ...           ...   \n",
       "13771         0.741   0.697  NaN    -7.028     1       0.0277      0.066400   \n",
       "13994         0.504   0.578  4.0    -9.302     1       0.0310      0.408000   \n",
       "14056         0.315   0.534  9.0    -7.552     0       0.0310      0.000825   \n",
       "14204         0.815   0.438  NaN   -14.522     0       0.0346      0.216000   \n",
       "14375         0.778   0.695  4.0    -6.865     0       0.0913      0.175000   \n",
       "\n",
       "       instrumentalness  liveness  valence    tempo  duration_in min/ms  \\\n",
       "1597           0.000494    0.0389    0.864  100.660            4.419550   \n",
       "3068                NaN    0.1200    0.638   80.511            2.066450   \n",
       "3299           0.000029    0.0520    0.755  124.532            3.822667   \n",
       "3470           0.008060    0.1520    0.663  132.770       140773.000000   \n",
       "4067           0.000009    0.1100    0.307   81.253        87707.000000   \n",
       "...                 ...       ...      ...      ...                 ...   \n",
       "13771          0.000023    0.1330    0.774  116.109       160133.000000   \n",
       "13994               NaN    0.3210    0.654  132.411            2.914000   \n",
       "14056          0.108000    0.1010    0.283  116.891            4.495333   \n",
       "14204          0.000466    0.0787    0.552  108.965            4.062883   \n",
       "14375               NaN    0.1500    0.472  149.996            2.213000   \n",
       "\n",
       "       time_signature  Class  \n",
       "1597                4     10  \n",
       "3068                4      9  \n",
       "3299                4     10  \n",
       "3470                4     10  \n",
       "4067                4      9  \n",
       "...               ...    ...  \n",
       "13771               4     10  \n",
       "13994               4     10  \n",
       "14056               3     10  \n",
       "14204               4     10  \n",
       "14375               4      9  \n",
       "\n",
       "[71 rows x 18 columns]"
      ]
     },
     "execution_count": 14,
     "metadata": {},
     "output_type": "execute_result"
    }
   ],
   "source": [
    "# Get the list of songs that have duplicated artist & track name and class, because we noticed that our data is multi-labeled\n",
    "\n",
    "train_df[train_df[['Artist Name', 'Track Name', 'Class']].duplicated()]"
   ]
  },
  {
   "cell_type": "code",
   "execution_count": 15,
   "id": "b16b0def",
   "metadata": {},
   "outputs": [
    {
     "data": {
      "text/html": [
       "<div>\n",
       "<style scoped>\n",
       "    .dataframe tbody tr th:only-of-type {\n",
       "        vertical-align: middle;\n",
       "    }\n",
       "\n",
       "    .dataframe tbody tr th {\n",
       "        vertical-align: top;\n",
       "    }\n",
       "\n",
       "    .dataframe thead th {\n",
       "        text-align: right;\n",
       "    }\n",
       "</style>\n",
       "<table border=\"1\" class=\"dataframe\">\n",
       "  <thead>\n",
       "    <tr style=\"text-align: right;\">\n",
       "      <th></th>\n",
       "      <th>Id</th>\n",
       "      <th>Artist Name</th>\n",
       "      <th>Track Name</th>\n",
       "      <th>Popularity</th>\n",
       "      <th>danceability</th>\n",
       "      <th>energy</th>\n",
       "      <th>key</th>\n",
       "      <th>loudness</th>\n",
       "      <th>mode</th>\n",
       "      <th>speechiness</th>\n",
       "      <th>acousticness</th>\n",
       "      <th>instrumentalness</th>\n",
       "      <th>liveness</th>\n",
       "      <th>valence</th>\n",
       "      <th>tempo</th>\n",
       "      <th>duration_in min/ms</th>\n",
       "      <th>time_signature</th>\n",
       "      <th>Class</th>\n",
       "    </tr>\n",
       "  </thead>\n",
       "  <tbody>\n",
       "    <tr>\n",
       "      <th>1572</th>\n",
       "      <td>1573</td>\n",
       "      <td>The Rolling Stones</td>\n",
       "      <td>Beast Of Burden - Remastered</td>\n",
       "      <td>74.0</td>\n",
       "      <td>0.783</td>\n",
       "      <td>0.878</td>\n",
       "      <td>1.0</td>\n",
       "      <td>-3.864</td>\n",
       "      <td>0</td>\n",
       "      <td>0.0308</td>\n",
       "      <td>0.390</td>\n",
       "      <td>0.000778</td>\n",
       "      <td>0.0426</td>\n",
       "      <td>0.885</td>\n",
       "      <td>100.626</td>\n",
       "      <td>265173.00000</td>\n",
       "      <td>4</td>\n",
       "      <td>10</td>\n",
       "    </tr>\n",
       "    <tr>\n",
       "      <th>1597</th>\n",
       "      <td>1598</td>\n",
       "      <td>The Rolling Stones</td>\n",
       "      <td>Beast Of Burden - Remastered</td>\n",
       "      <td>13.0</td>\n",
       "      <td>0.786</td>\n",
       "      <td>0.870</td>\n",
       "      <td>1.0</td>\n",
       "      <td>-3.875</td>\n",
       "      <td>0</td>\n",
       "      <td>0.0316</td>\n",
       "      <td>0.413</td>\n",
       "      <td>0.000494</td>\n",
       "      <td>0.0389</td>\n",
       "      <td>0.864</td>\n",
       "      <td>100.660</td>\n",
       "      <td>4.41955</td>\n",
       "      <td>4</td>\n",
       "      <td>10</td>\n",
       "    </tr>\n",
       "  </tbody>\n",
       "</table>\n",
       "</div>"
      ],
      "text/plain": [
       "        Id         Artist Name                    Track Name  Popularity  \\\n",
       "1572  1573  The Rolling Stones  Beast Of Burden - Remastered        74.0   \n",
       "1597  1598  The Rolling Stones  Beast Of Burden - Remastered        13.0   \n",
       "\n",
       "      danceability  energy  key  loudness  mode  speechiness  acousticness  \\\n",
       "1572         0.783   0.878  1.0    -3.864     0       0.0308         0.390   \n",
       "1597         0.786   0.870  1.0    -3.875     0       0.0316         0.413   \n",
       "\n",
       "      instrumentalness  liveness  valence    tempo  duration_in min/ms  \\\n",
       "1572          0.000778    0.0426    0.885  100.626        265173.00000   \n",
       "1597          0.000494    0.0389    0.864  100.660             4.41955   \n",
       "\n",
       "      time_signature  Class  \n",
       "1572               4     10  \n",
       "1597               4     10  "
      ]
     },
     "execution_count": 15,
     "metadata": {},
     "output_type": "execute_result"
    }
   ],
   "source": [
    "# Take a look at some samples that have the same artist & track name and class\n",
    "\n",
    "train_df[train_df['Track Name'] == 'Beast Of Burden - Remastered']"
   ]
  },
  {
   "cell_type": "code",
   "execution_count": 16,
   "id": "859da46d",
   "metadata": {},
   "outputs": [
    {
     "data": {
      "text/html": [
       "<div>\n",
       "<style scoped>\n",
       "    .dataframe tbody tr th:only-of-type {\n",
       "        vertical-align: middle;\n",
       "    }\n",
       "\n",
       "    .dataframe tbody tr th {\n",
       "        vertical-align: top;\n",
       "    }\n",
       "\n",
       "    .dataframe thead th {\n",
       "        text-align: right;\n",
       "    }\n",
       "</style>\n",
       "<table border=\"1\" class=\"dataframe\">\n",
       "  <thead>\n",
       "    <tr style=\"text-align: right;\">\n",
       "      <th></th>\n",
       "      <th>Id</th>\n",
       "      <th>Artist Name</th>\n",
       "      <th>Track Name</th>\n",
       "      <th>Popularity</th>\n",
       "      <th>danceability</th>\n",
       "      <th>energy</th>\n",
       "      <th>key</th>\n",
       "      <th>loudness</th>\n",
       "      <th>mode</th>\n",
       "      <th>speechiness</th>\n",
       "      <th>acousticness</th>\n",
       "      <th>instrumentalness</th>\n",
       "      <th>liveness</th>\n",
       "      <th>valence</th>\n",
       "      <th>tempo</th>\n",
       "      <th>duration_in min/ms</th>\n",
       "      <th>time_signature</th>\n",
       "      <th>Class</th>\n",
       "    </tr>\n",
       "  </thead>\n",
       "  <tbody>\n",
       "  </tbody>\n",
       "</table>\n",
       "</div>"
      ],
      "text/plain": [
       "Empty DataFrame\n",
       "Columns: [Id, Artist Name, Track Name, Popularity, danceability, energy, key, loudness, mode, speechiness, acousticness, instrumentalness, liveness, valence, tempo, duration_in min/ms, time_signature, Class]\n",
       "Index: []"
      ]
     },
     "execution_count": 16,
     "metadata": {},
     "output_type": "execute_result"
    }
   ],
   "source": [
    "# Get the list of duplicated records upon all variables except Id\n",
    "\n",
    "train_df[train_df.drop('Id', axis=1).duplicated()]"
   ]
  },
  {
   "cell_type": "markdown",
   "id": "fa9c1a8b",
   "metadata": {},
   "source": [
    "# EDA"
   ]
  },
  {
   "cell_type": "code",
   "execution_count": 17,
   "id": "e611dadc",
   "metadata": {},
   "outputs": [
    {
     "data": {
      "image/png": "[encoded data removed]",
      "text/plain": [
       "<Figure size 640x480 with 1 Axes>"
      ]
     },
     "metadata": {},
     "output_type": "display_data"
    }
   ],
   "source": [
    "# Visualize the distribution of Popularity variable\n",
    "\n",
    "sns.histplot(data=train_df, x='Popularity')\n",
    "plt.show()"
   ]
  },
  {
   "cell_type": "code",
   "execution_count": 18,
   "id": "9c9acc66",
   "metadata": {},
   "outputs": [
    {
     "data": {
      "image/png": "[encoded data removed]",
      "text/plain": [
       "<Figure size 640x480 with 1 Axes>"
      ]
     },
     "metadata": {},
     "output_type": "display_data"
    }
   ],
   "source": [
    "# Search if there is a relationship between Popularity & Class\n",
    "\n",
    "sns.barplot(data=train_df, x='Class', y='Popularity')\n",
    "plt.show()"
   ]
  },
  {
   "cell_type": "code",
   "execution_count": 19,
   "id": "e0aeb19c",
   "metadata": {},
   "outputs": [
    {
     "data": {
      "image/png": "[encoded data removed]",
      "text/plain": [
       "<Figure size 640x480 with 1 Axes>"
      ]
     },
     "metadata": {},
     "output_type": "display_data"
    }
   ],
   "source": [
    "# Make a boxplot for Popularity to see whether there are outliers or not\n",
    "\n",
    "sns.boxplot(data=train_df, x='Popularity')\n",
    "plt.show()"
   ]
  },
  {
   "cell_type": "code",
   "execution_count": 20,
   "id": "8e8f0405",
   "metadata": {},
   "outputs": [
    {
     "data": {
      "image/png": "[encoded data removed]",
      "text/plain": [
       "<Figure size 640x480 with 1 Axes>"
      ]
     },
     "metadata": {},
     "output_type": "display_data"
    }
   ],
   "source": [
    "# Visualize the distribution of danceability\n",
    "\n",
    "sns.histplot(data=train_df, x='danceability')\n",
    "plt.show()"
   ]
  },
  {
   "cell_type": "code",
   "execution_count": 21,
   "id": "9ebe3049",
   "metadata": {},
   "outputs": [
    {
     "data": {
      "image/png": "[encoded data removed]",
      "text/plain": [
       "<Figure size 640x480 with 1 Axes>"
      ]
     },
     "metadata": {},
     "output_type": "display_data"
    }
   ],
   "source": [
    "# Explore the relationship between danceability & Class\n",
    "\n",
    "sns.barplot(data=train_df, x='Class', y='danceability')\n",
    "plt.show()"
   ]
  },
  {
   "cell_type": "code",
   "execution_count": 22,
   "id": "7a131cc7",
   "metadata": {},
   "outputs": [
    {
     "data": {
      "image/png": "[encoded data removed]",
      "text/plain": [
       "<Figure size 640x480 with 1 Axes>"
      ]
     },
     "metadata": {},
     "output_type": "display_data"
    }
   ],
   "source": [
    "# Make a boxplot for danceability to see if there are outliers or not\n",
    "\n",
    "sns.boxplot(data=train_df, x='danceability')\n",
    "plt.show()"
   ]
  },
  {
   "cell_type": "code",
   "execution_count": 23,
   "id": "75310c7d",
   "metadata": {},
   "outputs": [
    {
     "data": {
      "image/png": "[encoded data removed]",
      "text/plain": [
       "<Figure size 640x480 with 1 Axes>"
      ]
     },
     "metadata": {},
     "output_type": "display_data"
    }
   ],
   "source": [
    "# Visualize the distribution of energy\n",
    "\n",
    "sns.histplot(data=train_df, x='energy')\n",
    "plt.show()"
   ]
  },
  {
   "cell_type": "code",
   "execution_count": 24,
   "id": "bd807eab",
   "metadata": {},
   "outputs": [
    {
     "data": {
      "image/png": "[encoded data removed]",
      "text/plain": [
       "<Figure size 640x480 with 1 Axes>"
      ]
     },
     "metadata": {},
     "output_type": "display_data"
    }
   ],
   "source": [
    "# Explore the relationship between energy & Class\n",
    "\n",
    "sns.barplot(data=train_df, x='Class', y='energy')\n",
    "plt.show()"
   ]
  },
  {
   "cell_type": "code",
   "execution_count": 25,
   "id": "07d2a508",
   "metadata": {},
   "outputs": [
    {
     "data": {
      "image/png": "[encoded data removed]",
      "text/plain": [
       "<Figure size 640x480 with 1 Axes>"
      ]
     },
     "metadata": {},
     "output_type": "display_data"
    }
   ],
   "source": [
    "# Make a boxplot for energy to see if there are some outliers or not\n",
    "\n",
    "sns.boxplot(data=train_df, x='energy')\n",
    "plt.show()"
   ]
  },
  {
   "cell_type": "code",
   "execution_count": 26,
   "id": "3af236aa",
   "metadata": {},
   "outputs": [
    {
     "data": {
      "text/plain": [
       "7.0     1650\n",
       "9.0     1590\n",
       "2.0     1582\n",
       "1.0     1351\n",
       "4.0     1252\n",
       "11.0    1176\n",
       "5.0     1115\n",
       "6.0      963\n",
       "8.0      872\n",
       "10.0     825\n",
       "3.0      411\n",
       "Name: key, dtype: int64"
      ]
     },
     "execution_count": 26,
     "metadata": {},
     "output_type": "execute_result"
    }
   ],
   "source": [
    "# As key is a categorical variable, we calculate the number of samples for every category\n",
    "\n",
    "train_df['key'].value_counts()"
   ]
  },
  {
   "cell_type": "code",
   "execution_count": 27,
   "id": "3ca5d98c",
   "metadata": {},
   "outputs": [
    {
     "data": {
      "text/html": [
       "<div>\n",
       "<style scoped>\n",
       "    .dataframe tbody tr th:only-of-type {\n",
       "        vertical-align: middle;\n",
       "    }\n",
       "\n",
       "    .dataframe tbody tr th {\n",
       "        vertical-align: top;\n",
       "    }\n",
       "\n",
       "    .dataframe thead th {\n",
       "        text-align: right;\n",
       "    }\n",
       "</style>\n",
       "<table border=\"1\" class=\"dataframe\">\n",
       "  <thead>\n",
       "    <tr style=\"text-align: right;\">\n",
       "      <th>key</th>\n",
       "      <th>1.0</th>\n",
       "      <th>2.0</th>\n",
       "      <th>3.0</th>\n",
       "      <th>4.0</th>\n",
       "      <th>5.0</th>\n",
       "      <th>6.0</th>\n",
       "      <th>7.0</th>\n",
       "      <th>8.0</th>\n",
       "      <th>9.0</th>\n",
       "      <th>10.0</th>\n",
       "      <th>11.0</th>\n",
       "    </tr>\n",
       "    <tr>\n",
       "      <th>Class</th>\n",
       "      <th></th>\n",
       "      <th></th>\n",
       "      <th></th>\n",
       "      <th></th>\n",
       "      <th></th>\n",
       "      <th></th>\n",
       "      <th></th>\n",
       "      <th></th>\n",
       "      <th></th>\n",
       "      <th></th>\n",
       "      <th></th>\n",
       "    </tr>\n",
       "  </thead>\n",
       "  <tbody>\n",
       "    <tr>\n",
       "      <th>0</th>\n",
       "      <td>43</td>\n",
       "      <td>67</td>\n",
       "      <td>19</td>\n",
       "      <td>42</td>\n",
       "      <td>47</td>\n",
       "      <td>29</td>\n",
       "      <td>60</td>\n",
       "      <td>24</td>\n",
       "      <td>46</td>\n",
       "      <td>27</td>\n",
       "      <td>43</td>\n",
       "    </tr>\n",
       "    <tr>\n",
       "      <th>1</th>\n",
       "      <td>93</td>\n",
       "      <td>129</td>\n",
       "      <td>29</td>\n",
       "      <td>94</td>\n",
       "      <td>71</td>\n",
       "      <td>83</td>\n",
       "      <td>138</td>\n",
       "      <td>64</td>\n",
       "      <td>127</td>\n",
       "      <td>75</td>\n",
       "      <td>74</td>\n",
       "    </tr>\n",
       "    <tr>\n",
       "      <th>2</th>\n",
       "      <td>46</td>\n",
       "      <td>113</td>\n",
       "      <td>31</td>\n",
       "      <td>87</td>\n",
       "      <td>99</td>\n",
       "      <td>43</td>\n",
       "      <td>134</td>\n",
       "      <td>58</td>\n",
       "      <td>132</td>\n",
       "      <td>50</td>\n",
       "      <td>69</td>\n",
       "    </tr>\n",
       "    <tr>\n",
       "      <th>3</th>\n",
       "      <td>23</td>\n",
       "      <td>35</td>\n",
       "      <td>25</td>\n",
       "      <td>26</td>\n",
       "      <td>40</td>\n",
       "      <td>25</td>\n",
       "      <td>41</td>\n",
       "      <td>26</td>\n",
       "      <td>31</td>\n",
       "      <td>8</td>\n",
       "      <td>15</td>\n",
       "    </tr>\n",
       "    <tr>\n",
       "      <th>4</th>\n",
       "      <td>19</td>\n",
       "      <td>34</td>\n",
       "      <td>14</td>\n",
       "      <td>32</td>\n",
       "      <td>26</td>\n",
       "      <td>21</td>\n",
       "      <td>36</td>\n",
       "      <td>19</td>\n",
       "      <td>35</td>\n",
       "      <td>21</td>\n",
       "      <td>18</td>\n",
       "    </tr>\n",
       "    <tr>\n",
       "      <th>5</th>\n",
       "      <td>207</td>\n",
       "      <td>81</td>\n",
       "      <td>26</td>\n",
       "      <td>70</td>\n",
       "      <td>82</td>\n",
       "      <td>106</td>\n",
       "      <td>106</td>\n",
       "      <td>80</td>\n",
       "      <td>87</td>\n",
       "      <td>99</td>\n",
       "      <td>129</td>\n",
       "    </tr>\n",
       "    <tr>\n",
       "      <th>6</th>\n",
       "      <td>184</td>\n",
       "      <td>204</td>\n",
       "      <td>56</td>\n",
       "      <td>172</td>\n",
       "      <td>158</td>\n",
       "      <td>159</td>\n",
       "      <td>228</td>\n",
       "      <td>105</td>\n",
       "      <td>259</td>\n",
       "      <td>131</td>\n",
       "      <td>179</td>\n",
       "    </tr>\n",
       "    <tr>\n",
       "      <th>7</th>\n",
       "      <td>20</td>\n",
       "      <td>64</td>\n",
       "      <td>21</td>\n",
       "      <td>32</td>\n",
       "      <td>66</td>\n",
       "      <td>9</td>\n",
       "      <td>58</td>\n",
       "      <td>26</td>\n",
       "      <td>50</td>\n",
       "      <td>31</td>\n",
       "      <td>11</td>\n",
       "    </tr>\n",
       "    <tr>\n",
       "      <th>8</th>\n",
       "      <td>181</td>\n",
       "      <td>157</td>\n",
       "      <td>41</td>\n",
       "      <td>136</td>\n",
       "      <td>102</td>\n",
       "      <td>112</td>\n",
       "      <td>170</td>\n",
       "      <td>112</td>\n",
       "      <td>143</td>\n",
       "      <td>76</td>\n",
       "      <td>125</td>\n",
       "    </tr>\n",
       "    <tr>\n",
       "      <th>9</th>\n",
       "      <td>218</td>\n",
       "      <td>193</td>\n",
       "      <td>69</td>\n",
       "      <td>159</td>\n",
       "      <td>160</td>\n",
       "      <td>146</td>\n",
       "      <td>195</td>\n",
       "      <td>146</td>\n",
       "      <td>179</td>\n",
       "      <td>120</td>\n",
       "      <td>199</td>\n",
       "    </tr>\n",
       "    <tr>\n",
       "      <th>10</th>\n",
       "      <td>317</td>\n",
       "      <td>505</td>\n",
       "      <td>80</td>\n",
       "      <td>402</td>\n",
       "      <td>264</td>\n",
       "      <td>230</td>\n",
       "      <td>484</td>\n",
       "      <td>212</td>\n",
       "      <td>501</td>\n",
       "      <td>187</td>\n",
       "      <td>314</td>\n",
       "    </tr>\n",
       "  </tbody>\n",
       "</table>\n",
       "</div>"
      ],
      "text/plain": [
       "key    1.0   2.0   3.0   4.0   5.0   6.0   7.0   8.0   9.0   10.0  11.0\n",
       "Class                                                                  \n",
       "0        43    67    19    42    47    29    60    24    46    27    43\n",
       "1        93   129    29    94    71    83   138    64   127    75    74\n",
       "2        46   113    31    87    99    43   134    58   132    50    69\n",
       "3        23    35    25    26    40    25    41    26    31     8    15\n",
       "4        19    34    14    32    26    21    36    19    35    21    18\n",
       "5       207    81    26    70    82   106   106    80    87    99   129\n",
       "6       184   204    56   172   158   159   228   105   259   131   179\n",
       "7        20    64    21    32    66     9    58    26    50    31    11\n",
       "8       181   157    41   136   102   112   170   112   143    76   125\n",
       "9       218   193    69   159   160   146   195   146   179   120   199\n",
       "10      317   505    80   402   264   230   484   212   501   187   314"
      ]
     },
     "execution_count": 27,
     "metadata": {},
     "output_type": "execute_result"
    }
   ],
   "source": [
    "# Explore the relationship between key & Class by making a crosstab between both variables\n",
    "\n",
    "pd.crosstab(train_df['Class'], train_df['key'])"
   ]
  },
  {
   "cell_type": "code",
   "execution_count": 28,
   "id": "63471c99",
   "metadata": {},
   "outputs": [
    {
     "data": {
      "image/png": "[encoded data removed]",
      "text/plain": [
       "<Figure size 640x480 with 1 Axes>"
      ]
     },
     "metadata": {},
     "output_type": "display_data"
    }
   ],
   "source": [
    "# Visualize the distribution of loudness\n",
    "\n",
    "sns.histplot(data=train_df, x='loudness')\n",
    "plt.show()"
   ]
  },
  {
   "cell_type": "code",
   "execution_count": 29,
   "id": "5d12a572",
   "metadata": {},
   "outputs": [
    {
     "data": {
      "image/png": "[encoded data removed]",
      "text/plain": [
       "<Figure size 640x480 with 1 Axes>"
      ]
     },
     "metadata": {},
     "output_type": "display_data"
    }
   ],
   "source": [
    "# Explore the relationship between loudness & Class\n",
    "\n",
    "sns.barplot(data=train_df, x='Class', y='loudness')\n",
    "plt.show()"
   ]
  },
  {
   "cell_type": "code",
   "execution_count": 30,
   "id": "a03a660a",
   "metadata": {},
   "outputs": [
    {
     "data": {
      "image/png": "[encoded data removed]",
      "text/plain": [
       "<Figure size 640x480 with 1 Axes>"
      ]
     },
     "metadata": {},
     "output_type": "display_data"
    }
   ],
   "source": [
    "# Make a boxplot of loudness to search the presence of possible outliers\n",
    "\n",
    "sns.boxplot(data=train_df, x='loudness')\n",
    "plt.show()"
   ]
  },
  {
   "cell_type": "code",
   "execution_count": 31,
   "id": "42a94713",
   "metadata": {},
   "outputs": [
    {
     "data": {
      "text/plain": [
       "1    9217\n",
       "0    5179\n",
       "Name: mode, dtype: int64"
      ]
     },
     "execution_count": 31,
     "metadata": {},
     "output_type": "execute_result"
    }
   ],
   "source": [
    "# As mode is a categorical variable (binary), we calculate the number of samples for every category\n",
    "\n",
    "train_df['mode'].value_counts()"
   ]
  },
  {
   "cell_type": "code",
   "execution_count": 32,
   "id": "967d41f3",
   "metadata": {},
   "outputs": [
    {
     "data": {
      "text/html": [
       "<div>\n",
       "<style scoped>\n",
       "    .dataframe tbody tr th:only-of-type {\n",
       "        vertical-align: middle;\n",
       "    }\n",
       "\n",
       "    .dataframe tbody tr th {\n",
       "        vertical-align: top;\n",
       "    }\n",
       "\n",
       "    .dataframe thead th {\n",
       "        text-align: right;\n",
       "    }\n",
       "</style>\n",
       "<table border=\"1\" class=\"dataframe\">\n",
       "  <thead>\n",
       "    <tr style=\"text-align: right;\">\n",
       "      <th>mode</th>\n",
       "      <th>0</th>\n",
       "      <th>1</th>\n",
       "    </tr>\n",
       "    <tr>\n",
       "      <th>Class</th>\n",
       "      <th></th>\n",
       "      <th></th>\n",
       "    </tr>\n",
       "  </thead>\n",
       "  <tbody>\n",
       "    <tr>\n",
       "      <th>0</th>\n",
       "      <td>98</td>\n",
       "      <td>402</td>\n",
       "    </tr>\n",
       "    <tr>\n",
       "      <th>1</th>\n",
       "      <td>375</td>\n",
       "      <td>723</td>\n",
       "    </tr>\n",
       "    <tr>\n",
       "      <th>2</th>\n",
       "      <td>354</td>\n",
       "      <td>664</td>\n",
       "    </tr>\n",
       "    <tr>\n",
       "      <th>3</th>\n",
       "      <td>111</td>\n",
       "      <td>211</td>\n",
       "    </tr>\n",
       "    <tr>\n",
       "      <th>4</th>\n",
       "      <td>20</td>\n",
       "      <td>290</td>\n",
       "    </tr>\n",
       "    <tr>\n",
       "      <th>5</th>\n",
       "      <td>549</td>\n",
       "      <td>608</td>\n",
       "    </tr>\n",
       "    <tr>\n",
       "      <th>6</th>\n",
       "      <td>694</td>\n",
       "      <td>1375</td>\n",
       "    </tr>\n",
       "    <tr>\n",
       "      <th>7</th>\n",
       "      <td>175</td>\n",
       "      <td>286</td>\n",
       "    </tr>\n",
       "    <tr>\n",
       "      <th>8</th>\n",
       "      <td>604</td>\n",
       "      <td>879</td>\n",
       "    </tr>\n",
       "    <tr>\n",
       "      <th>9</th>\n",
       "      <td>887</td>\n",
       "      <td>1132</td>\n",
       "    </tr>\n",
       "    <tr>\n",
       "      <th>10</th>\n",
       "      <td>1312</td>\n",
       "      <td>2647</td>\n",
       "    </tr>\n",
       "  </tbody>\n",
       "</table>\n",
       "</div>"
      ],
      "text/plain": [
       "mode      0     1\n",
       "Class            \n",
       "0        98   402\n",
       "1       375   723\n",
       "2       354   664\n",
       "3       111   211\n",
       "4        20   290\n",
       "5       549   608\n",
       "6       694  1375\n",
       "7       175   286\n",
       "8       604   879\n",
       "9       887  1132\n",
       "10     1312  2647"
      ]
     },
     "execution_count": 32,
     "metadata": {},
     "output_type": "execute_result"
    }
   ],
   "source": [
    "# Explore the relationship between mode & Class by making a crosstab\n",
    "\n",
    "pd.crosstab(train_df['Class'], train_df['mode'])"
   ]
  },
  {
   "cell_type": "code",
   "execution_count": 33,
   "id": "c4f393bd",
   "metadata": {},
   "outputs": [
    {
     "data": {
      "image/png": "[encoded data removed]",
      "text/plain": [
       "<Figure size 640x480 with 1 Axes>"
      ]
     },
     "metadata": {},
     "output_type": "display_data"
    }
   ],
   "source": [
    "# Visualize the distribution of speechiness\n",
    "\n",
    "sns.histplot(data=train_df, x='speechiness')\n",
    "plt.show()"
   ]
  },
  {
   "cell_type": "code",
   "execution_count": 34,
   "id": "e75ab7b8",
   "metadata": {},
   "outputs": [
    {
     "data": {
      "image/png": "[encoded data removed]",
      "text/plain": [
       "<Figure size 640x480 with 1 Axes>"
      ]
     },
     "metadata": {},
     "output_type": "display_data"
    }
   ],
   "source": [
    "# Explore the relationship between speechiness & Class variables\n",
    "\n",
    "sns.barplot(data=train_df, x='Class', y='speechiness')\n",
    "plt.show()"
   ]
  },
  {
   "cell_type": "code",
   "execution_count": 35,
   "id": "cfbe5c8f",
   "metadata": {},
   "outputs": [
    {
     "data": {
      "image/png": "[encoded data removed]",
      "text/plain": [
       "<Figure size 640x480 with 1 Axes>"
      ]
     },
     "metadata": {},
     "output_type": "display_data"
    }
   ],
   "source": [
    "# Make a boxplot for speechiness variable to seek for outliers presence\n",
    "\n",
    "sns.boxplot(data=train_df, x='speechiness')\n",
    "plt.show()"
   ]
  },
  {
   "cell_type": "code",
   "execution_count": 36,
   "id": "95bf57f3",
   "metadata": {},
   "outputs": [
    {
     "data": {
      "image/png": "[encoded data removed]",
      "text/plain": [
       "<Figure size 640x480 with 1 Axes>"
      ]
     },
     "metadata": {},
     "output_type": "display_data"
    }
   ],
   "source": [
    "# Visualize the distribution of acousticness\n",
    "\n",
    "sns.histplot(data=train_df, x='acousticness')\n",
    "plt.show()"
   ]
  },
  {
   "cell_type": "code",
   "execution_count": 37,
   "id": "375e18e2",
   "metadata": {},
   "outputs": [
    {
     "data": {
      "image/png": "[encoded data removed]",
      "text/plain": [
       "<Figure size 640x480 with 1 Axes>"
      ]
     },
     "metadata": {},
     "output_type": "display_data"
    }
   ],
   "source": [
    "# Explore the relationship between acousticness & Class\n",
    "\n",
    "sns.barplot(data=train_df, x='Class', y='acousticness')\n",
    "plt.show()"
   ]
  },
  {
   "cell_type": "code",
   "execution_count": 38,
   "id": "dc0f9f74",
   "metadata": {},
   "outputs": [
    {
     "data": {
      "image/png": "[encoded data removed]",
      "text/plain": [
       "<Figure size 640x480 with 1 Axes>"
      ]
     },
     "metadata": {},
     "output_type": "display_data"
    }
   ],
   "source": [
    "# Make a boxplot for acousticness to see if there are some outliers\n",
    "\n",
    "sns.boxplot(data=train_df, x='acousticness')\n",
    "plt.show()"
   ]
  },
  {
   "cell_type": "code",
   "execution_count": 39,
   "id": "5d747162",
   "metadata": {},
   "outputs": [
    {
     "data": {
      "image/png": "[encoded data removed]",
      "text/plain": [
       "<Figure size 640x480 with 1 Axes>"
      ]
     },
     "metadata": {},
     "output_type": "display_data"
    }
   ],
   "source": [
    "# Visualize the distribution of instrumentalness feature\n",
    "\n",
    "sns.histplot(data=train_df, x='instrumentalness')\n",
    "plt.show()"
   ]
  },
  {
   "cell_type": "code",
   "execution_count": 40,
   "id": "0ad01aec",
   "metadata": {},
   "outputs": [
    {
     "data": {
      "image/png": "[encoded data removed]",
      "text/plain": [
       "<Figure size 640x480 with 1 Axes>"
      ]
     },
     "metadata": {},
     "output_type": "display_data"
    }
   ],
   "source": [
    "# Explore the relationship between instrumentalness and Class\n",
    "\n",
    "sns.barplot(data=train_df, x='Class', y='instrumentalness')\n",
    "plt.show()"
   ]
  },
  {
   "cell_type": "code",
   "execution_count": 41,
   "id": "f7cfe79a",
   "metadata": {},
   "outputs": [
    {
     "data": {
      "image/png": "[encoded data removed]",
      "text/plain": [
       "<Figure size 640x480 with 1 Axes>"
      ]
     },
     "metadata": {},
     "output_type": "display_data"
    }
   ],
   "source": [
    "# Create a boxplot to see if there are outliers in instrumentalness variable\n",
    "\n",
    "sns.boxplot(data=train_df, x='instrumentalness')\n",
    "plt.show()"
   ]
  },
  {
   "cell_type": "code",
   "execution_count": 42,
   "id": "b03ecf5c",
   "metadata": {},
   "outputs": [
    {
     "data": {
      "image/png": "[encoded data removed]",
      "text/plain": [
       "<Figure size 640x480 with 1 Axes>"
      ]
     },
     "metadata": {},
     "output_type": "display_data"
    }
   ],
   "source": [
    "# Plot the distribution of liveness\n",
    "\n",
    "sns.histplot(data=train_df, x='liveness')\n",
    "plt.show()"
   ]
  },
  {
   "cell_type": "code",
   "execution_count": 43,
   "id": "ae938f2e",
   "metadata": {},
   "outputs": [
    {
     "data": {
      "image/png": "[encoded data removed]",
      "text/plain": [
       "<Figure size 640x480 with 1 Axes>"
      ]
     },
     "metadata": {},
     "output_type": "display_data"
    }
   ],
   "source": [
    "# Explore the relationship between liveness & Class\n",
    "\n",
    "sns.barplot(data=train_df, x='Class', y='liveness')\n",
    "plt.show()"
   ]
  },
  {
   "cell_type": "code",
   "execution_count": 44,
   "id": "a6e7f795",
   "metadata": {},
   "outputs": [
    {
     "data": {
      "image/png": "[encoded data removed]",
      "text/plain": [
       "<Figure size 640x480 with 1 Axes>"
      ]
     },
     "metadata": {},
     "output_type": "display_data"
    }
   ],
   "source": [
    "# Create a boxplot for liveness feature to explore the presence of outliers\n",
    "\n",
    "sns.boxplot(data=train_df, x='liveness')\n",
    "plt.show()"
   ]
  },
  {
   "cell_type": "code",
   "execution_count": 45,
   "id": "2ce078f9",
   "metadata": {},
   "outputs": [
    {
     "data": {
      "image/png": "[encoded data removed]",
      "text/plain": [
       "<Figure size 640x480 with 1 Axes>"
      ]
     },
     "metadata": {},
     "output_type": "display_data"
    }
   ],
   "source": [
    "# Explore the distribution of valence\n",
    "\n",
    "sns.histplot(data=train_df, x='valence')\n",
    "plt.show()"
   ]
  },
  {
   "cell_type": "code",
   "execution_count": 46,
   "id": "2ee724ce",
   "metadata": {},
   "outputs": [
    {
     "data": {
      "image/png": "[encoded data removed]",
      "text/plain": [
       "<Figure size 640x480 with 1 Axes>"
      ]
     },
     "metadata": {},
     "output_type": "display_data"
    }
   ],
   "source": [
    "# Explore the relationship between valence & Class\n",
    "\n",
    "sns.barplot(data=train_df, x='Class', y='valence')\n",
    "plt.show()"
   ]
  },
  {
   "cell_type": "code",
   "execution_count": 47,
   "id": "d218f360",
   "metadata": {},
   "outputs": [
    {
     "data": {
      "image/png": "[encoded data removed]",
      "text/plain": [
       "<Figure size 640x480 with 1 Axes>"
      ]
     },
     "metadata": {},
     "output_type": "display_data"
    }
   ],
   "source": [
    "# Search for outliers within valence variable\n",
    "\n",
    "sns.boxplot(data=train_df, x='valence')\n",
    "plt.show()"
   ]
  },
  {
   "cell_type": "code",
   "execution_count": 48,
   "id": "6139de22",
   "metadata": {},
   "outputs": [
    {
     "data": {
      "image/png": "[encoded data removed]",
      "text/plain": [
       "<Figure size 640x480 with 1 Axes>"
      ]
     },
     "metadata": {},
     "output_type": "display_data"
    }
   ],
   "source": [
    "# Visualize the distribution of tempo\n",
    "\n",
    "sns.histplot(data=train_df, x='tempo')\n",
    "plt.show()"
   ]
  },
  {
   "cell_type": "code",
   "execution_count": 49,
   "id": "96604b50",
   "metadata": {},
   "outputs": [
    {
     "data": {
      "image/png": "[encoded data removed]",
      "text/plain": [
       "<Figure size 640x480 with 1 Axes>"
      ]
     },
     "metadata": {},
     "output_type": "display_data"
    }
   ],
   "source": [
    "# Discover the relationship between tempo and Class\n",
    "\n",
    "sns.barplot(data=train_df, x='Class', y='tempo')\n",
    "plt.show()"
   ]
  },
  {
   "cell_type": "code",
   "execution_count": 50,
   "id": "93cd4a03",
   "metadata": {},
   "outputs": [
    {
     "data": {
      "image/png": "[encoded data removed]",
      "text/plain": [
       "<Figure size 640x480 with 1 Axes>"
      ]
     },
     "metadata": {},
     "output_type": "display_data"
    }
   ],
   "source": [
    "# Make a boxplot for tempo feature\n",
    "\n",
    "sns.boxplot(data=train_df, x='tempo')\n",
    "plt.show()"
   ]
  },
  {
   "cell_type": "code",
   "execution_count": 51,
   "id": "30204219",
   "metadata": {},
   "outputs": [
    {
     "data": {
      "image/png": "[encoded data removed]",
      "text/plain": [
       "<Figure size 640x480 with 1 Axes>"
      ]
     },
     "metadata": {},
     "output_type": "display_data"
    }
   ],
   "source": [
    "# Explore the distribution of duration_in min/ms\n",
    "\n",
    "sns.histplot(data=train_df, x='duration_in min/ms')\n",
    "plt.show()"
   ]
  },
  {
   "cell_type": "code",
   "execution_count": 52,
   "id": "1c1463a0",
   "metadata": {},
   "outputs": [
    {
     "data": {
      "image/png": "[encoded data removed]",
      "text/plain": [
       "<Figure size 640x480 with 1 Axes>"
      ]
     },
     "metadata": {},
     "output_type": "display_data"
    }
   ],
   "source": [
    "# Explore the relationship between duration_in min/ms & Class\n",
    "\n",
    "sns.barplot(data=train_df, x='Class', y='duration_in min/ms')\n",
    "plt.show()"
   ]
  },
  {
   "cell_type": "code",
   "execution_count": 53,
   "id": "7a84731a",
   "metadata": {},
   "outputs": [
    {
     "data": {
      "image/png": "[encoded data removed]",
      "text/plain": [
       "<Figure size 640x480 with 1 Axes>"
      ]
     },
     "metadata": {},
     "output_type": "display_data"
    }
   ],
   "source": [
    "# Seek for outliers within duration_in min/ms variable\n",
    "\n",
    "sns.boxplot(data=train_df, x='duration_in min/ms')\n",
    "plt.show()"
   ]
  },
  {
   "cell_type": "code",
   "execution_count": 54,
   "id": "27f87aad",
   "metadata": {},
   "outputs": [
    {
     "data": {
      "text/plain": [
       "4    13149\n",
       "3      994\n",
       "5      166\n",
       "1       87\n",
       "Name: time_signature, dtype: int64"
      ]
     },
     "execution_count": 54,
     "metadata": {},
     "output_type": "execute_result"
    }
   ],
   "source": [
    "# Calculate the number of records for every time_signature category\n",
    "\n",
    "train_df['time_signature'].value_counts()"
   ]
  },
  {
   "cell_type": "code",
   "execution_count": 55,
   "id": "7f84c4ae",
   "metadata": {},
   "outputs": [
    {
     "data": {
      "text/html": [
       "<div>\n",
       "<style scoped>\n",
       "    .dataframe tbody tr th:only-of-type {\n",
       "        vertical-align: middle;\n",
       "    }\n",
       "\n",
       "    .dataframe tbody tr th {\n",
       "        vertical-align: top;\n",
       "    }\n",
       "\n",
       "    .dataframe thead th {\n",
       "        text-align: right;\n",
       "    }\n",
       "</style>\n",
       "<table border=\"1\" class=\"dataframe\">\n",
       "  <thead>\n",
       "    <tr style=\"text-align: right;\">\n",
       "      <th>time_signature</th>\n",
       "      <th>1</th>\n",
       "      <th>3</th>\n",
       "      <th>4</th>\n",
       "      <th>5</th>\n",
       "    </tr>\n",
       "    <tr>\n",
       "      <th>Class</th>\n",
       "      <th></th>\n",
       "      <th></th>\n",
       "      <th></th>\n",
       "      <th></th>\n",
       "    </tr>\n",
       "  </thead>\n",
       "  <tbody>\n",
       "    <tr>\n",
       "      <th>0</th>\n",
       "      <td>5</td>\n",
       "      <td>50</td>\n",
       "      <td>433</td>\n",
       "      <td>12</td>\n",
       "    </tr>\n",
       "    <tr>\n",
       "      <th>1</th>\n",
       "      <td>5</td>\n",
       "      <td>50</td>\n",
       "      <td>1034</td>\n",
       "      <td>9</td>\n",
       "    </tr>\n",
       "    <tr>\n",
       "      <th>2</th>\n",
       "      <td>9</td>\n",
       "      <td>150</td>\n",
       "      <td>855</td>\n",
       "      <td>4</td>\n",
       "    </tr>\n",
       "    <tr>\n",
       "      <th>3</th>\n",
       "      <td>3</td>\n",
       "      <td>57</td>\n",
       "      <td>260</td>\n",
       "      <td>2</td>\n",
       "    </tr>\n",
       "    <tr>\n",
       "      <th>4</th>\n",
       "      <td>0</td>\n",
       "      <td>19</td>\n",
       "      <td>291</td>\n",
       "      <td>0</td>\n",
       "    </tr>\n",
       "    <tr>\n",
       "      <th>5</th>\n",
       "      <td>6</td>\n",
       "      <td>34</td>\n",
       "      <td>1080</td>\n",
       "      <td>37</td>\n",
       "    </tr>\n",
       "    <tr>\n",
       "      <th>6</th>\n",
       "      <td>8</td>\n",
       "      <td>114</td>\n",
       "      <td>1923</td>\n",
       "      <td>24</td>\n",
       "    </tr>\n",
       "    <tr>\n",
       "      <th>7</th>\n",
       "      <td>10</td>\n",
       "      <td>103</td>\n",
       "      <td>339</td>\n",
       "      <td>9</td>\n",
       "    </tr>\n",
       "    <tr>\n",
       "      <th>8</th>\n",
       "      <td>14</td>\n",
       "      <td>122</td>\n",
       "      <td>1331</td>\n",
       "      <td>16</td>\n",
       "    </tr>\n",
       "    <tr>\n",
       "      <th>9</th>\n",
       "      <td>7</td>\n",
       "      <td>87</td>\n",
       "      <td>1901</td>\n",
       "      <td>24</td>\n",
       "    </tr>\n",
       "    <tr>\n",
       "      <th>10</th>\n",
       "      <td>20</td>\n",
       "      <td>208</td>\n",
       "      <td>3702</td>\n",
       "      <td>29</td>\n",
       "    </tr>\n",
       "  </tbody>\n",
       "</table>\n",
       "</div>"
      ],
      "text/plain": [
       "time_signature   1    3     4   5\n",
       "Class                            \n",
       "0                5   50   433  12\n",
       "1                5   50  1034   9\n",
       "2                9  150   855   4\n",
       "3                3   57   260   2\n",
       "4                0   19   291   0\n",
       "5                6   34  1080  37\n",
       "6                8  114  1923  24\n",
       "7               10  103   339   9\n",
       "8               14  122  1331  16\n",
       "9                7   87  1901  24\n",
       "10              20  208  3702  29"
      ]
     },
     "execution_count": 55,
     "metadata": {},
     "output_type": "execute_result"
    }
   ],
   "source": [
    "# Discover the relationship between time_signature & Class variables\n",
    "\n",
    "pd.crosstab(train_df['Class'], train_df['time_signature'])"
   ]
  },
  {
   "cell_type": "code",
   "execution_count": 56,
   "id": "7d49c97d",
   "metadata": {},
   "outputs": [
    {
     "data": {
      "text/plain": [
       "10    3959\n",
       "6     2069\n",
       "9     2019\n",
       "8     1483\n",
       "5     1157\n",
       "1     1098\n",
       "2     1018\n",
       "0      500\n",
       "7      461\n",
       "3      322\n",
       "4      310\n",
       "Name: Class, dtype: int64"
      ]
     },
     "execution_count": 56,
     "metadata": {},
     "output_type": "execute_result"
    }
   ],
   "source": [
    "# Calculate the number of samples for every category of the dependent variable\n",
    "\n",
    "train_df['Class'].value_counts()"
   ]
  },
  {
   "cell_type": "markdown",
   "id": "25227528",
   "metadata": {},
   "source": [
    "## Correlation"
   ]
  },
  {
   "cell_type": "code",
   "execution_count": 57,
   "id": "617dfd53",
   "metadata": {},
   "outputs": [
    {
     "data": {
      "image/png": "[encoded data removed]",
      "text/plain": [
       "<Figure size 640x480 with 2 Axes>"
      ]
     },
     "metadata": {},
     "output_type": "display_data"
    }
   ],
   "source": [
    "# We calculate correlation coefficients between all float features to see if there are any relationship between them\n",
    "\n",
    "cols_for_correlation = ['Popularity', 'danceability', 'energy', 'loudness', 'speechiness', 'acousticness',\n",
    "       'instrumentalness', 'liveness', 'valence', 'tempo', 'duration_in min/ms']\n",
    "sns.heatmap(train_df[cols_for_correlation].corr(), annot=True)\n",
    "plt.show()"
   ]
  },
  {
   "cell_type": "markdown",
   "id": "ad14bb06",
   "metadata": {},
   "source": [
    "## Conclusions :\n",
    "\n",
    "* We have 11 classes, so it's a multi-class problem.\n",
    "* Id, Artist Name & Track Name cannot be used in the modeling process as they do not have so much information to add as predictors.\n",
    "* Only Popularity, key & instrumentalness have null values. We should manage that.\n",
    "* Energy & loudness have a right-skewed distribution. They need to be standardized.\n",
    "* speechiness, acousticness, instrumentalness, liveness & duration_in min/ms have a left-skewed distribution. They need to be standardized.\n",
    "* We need to scale all float features so they would be ready for modeling process.\n",
    "* There are some duplicates in our data (They have the same Artist Name, Track Name & Class) which is not acceptable and needs to be dealed with. There are some tracks which have multiple classes (multi-label classes), so they are counted as duplicates even so they have the same artist and track name.\n",
    "* Popularity, danceability, loudness, speechiness, instrumentalness, liveness, tempo & duration_in min/ms have outliers whether they are lower or upper ones, so we should handle that.\n",
    "* Popularity, energy, loudness, mode, speechiness, acousticness, instrumentalness, valence, duration_in min/ms & time_signature are possible predictors that should be used in the modeling process.\n",
    "* acousticness is highly negatively correlated with energy and loudness (-0.75 & -0.61 respectively) while energy & loudness are highly positively correlated with a coefficient of 0.77."
   ]
  },
  {
   "cell_type": "markdown",
   "id": "6da87de5",
   "metadata": {},
   "source": [
    "# Data Cleaning & Data Preprocessing"
   ]
  },
  {
   "cell_type": "markdown",
   "id": "5ad02033",
   "metadata": {},
   "source": [
    "## Missing Values Imputation"
   ]
  },
  {
   "cell_type": "code",
   "execution_count": 4,
   "id": "e77adef1",
   "metadata": {},
   "outputs": [
    {
     "name": "stdout",
     "output_type": "stream",
     "text": [
      "Mean Population by class : 44.525207992604706\n",
      "Median Population by class : 44.0\n"
     ]
    }
   ],
   "source": [
    "# We calculate the mean & median values for Popularity feature\n",
    "\n",
    "Mean_Population = train_df['Popularity'].mean()\n",
    "Median_Population = train_df['Popularity'].median()\n",
    "print('Mean Population by class :', Mean_Population)\n",
    "print('Median Population by class :', Median_Population)"
   ]
  },
  {
   "cell_type": "markdown",
   "id": "4bef6f72",
   "metadata": {},
   "source": [
    "All values in Popularity column are in the format of integers (floats with no decimals after the comma) so, it's more common to fill null values with the median."
   ]
  },
  {
   "cell_type": "code",
   "execution_count": 5,
   "id": "191e4cfc",
   "metadata": {},
   "outputs": [
    {
     "data": {
      "text/plain": [
       "Id                       0\n",
       "Artist Name              0\n",
       "Track Name               0\n",
       "Popularity               0\n",
       "danceability             0\n",
       "energy                   0\n",
       "key                   1609\n",
       "loudness                 0\n",
       "mode                     0\n",
       "speechiness              0\n",
       "acousticness             0\n",
       "instrumentalness      3541\n",
       "liveness                 0\n",
       "valence                  0\n",
       "tempo                    0\n",
       "duration_in min/ms       0\n",
       "time_signature           0\n",
       "Class                    0\n",
       "dtype: int64"
      ]
     },
     "execution_count": 5,
     "metadata": {},
     "output_type": "execute_result"
    }
   ],
   "source": [
    "# We impute missing values within Popularity variable and check the number of none values after the operation\n",
    "\n",
    "train_df['Popularity'].fillna(Median_Population, inplace=True)\n",
    "train_df.isna().sum()"
   ]
  },
  {
   "cell_type": "code",
   "execution_count": 6,
   "id": "d867ad0b",
   "metadata": {},
   "outputs": [
    {
     "name": "stdout",
     "output_type": "stream",
     "text": [
      "Mean key : 5.953781184015015\n",
      "Median key : 6.0\n",
      "Mode key : 7.0\n"
     ]
    }
   ],
   "source": [
    "# We calculate the mean, median and mode for key variable\n",
    "\n",
    "Mean_key = train_df['key'].mean()\n",
    "Median_key = train_df['key'].median()\n",
    "Mode_key = train_df['key'].mode()[0]\n",
    "print('Mean key :', Mean_key)\n",
    "print('Median key :', Median_key)\n",
    "print('Mode key :', Mode_key)"
   ]
  },
  {
   "cell_type": "code",
   "execution_count": 7,
   "id": "49010f93",
   "metadata": {},
   "outputs": [
    {
     "data": {
      "text/plain": [
       "10    463\n",
       "9     235\n",
       "6     234\n",
       "2     156\n",
       "8     128\n",
       "1     121\n",
       "5      84\n",
       "7      73\n",
       "0      53\n",
       "4      35\n",
       "3      27\n",
       "Name: Class, dtype: int64"
      ]
     },
     "execution_count": 7,
     "metadata": {},
     "output_type": "execute_result"
    }
   ],
   "source": [
    "# We calculate the number of null values within key variable for each category of Class feature to decide which value we should impute with\n",
    "\n",
    "train_df.loc[train_df['key'].isna(), 'Class'].value_counts()"
   ]
  },
  {
   "cell_type": "markdown",
   "id": "babde342",
   "metadata": {},
   "source": [
    "Mean & Median are the same (6.0) but they are different from the mode (7.0). Adding to that, most records that has null values in key column has a class of 10, 9, 8, 6, 2 or 1 and we notice that the majority of records that are in this list of classes have a key of 6, so we'll impute the null values with the mean or median."
   ]
  },
  {
   "cell_type": "code",
   "execution_count": 8,
   "id": "c9f1d32a",
   "metadata": {},
   "outputs": [
    {
     "data": {
      "text/plain": [
       "Id                       0\n",
       "Artist Name              0\n",
       "Track Name               0\n",
       "Popularity               0\n",
       "danceability             0\n",
       "energy                   0\n",
       "key                      0\n",
       "loudness                 0\n",
       "mode                     0\n",
       "speechiness              0\n",
       "acousticness             0\n",
       "instrumentalness      3541\n",
       "liveness                 0\n",
       "valence                  0\n",
       "tempo                    0\n",
       "duration_in min/ms       0\n",
       "time_signature           0\n",
       "Class                    0\n",
       "dtype: int64"
      ]
     },
     "execution_count": 8,
     "metadata": {},
     "output_type": "execute_result"
    }
   ],
   "source": [
    "# We imputed key variable and check if there are still any null value in it\n",
    "\n",
    "train_df['key'].fillna(Median_key, inplace=True)\n",
    "train_df.isna().sum()"
   ]
  },
  {
   "cell_type": "code",
   "execution_count": 9,
   "id": "b13198b7",
   "metadata": {},
   "outputs": [
    {
     "name": "stdout",
     "output_type": "stream",
     "text": [
      "Mean instrumentalness : 0.17812871735974128\n",
      "Median instrumentalness : 0.00392\n"
     ]
    }
   ],
   "source": [
    "# We calculate the mean and median of instrumentalness variable\n",
    "\n",
    "Mean_instrumentalness = train_df['instrumentalness'].mean()\n",
    "Median_instrumentalness = train_df['instrumentalness'].median()\n",
    "print('Mean instrumentalness :', Mean_instrumentalness)\n",
    "print('Median instrumentalness :', Median_instrumentalness)"
   ]
  },
  {
   "cell_type": "markdown",
   "id": "77bf2360",
   "metadata": {},
   "source": [
    "As we noticed that instrumentalness have a left-skewed distribution, we should impute null values with the median so they don't get affected by outliers."
   ]
  },
  {
   "cell_type": "code",
   "execution_count": 10,
   "id": "7910328c",
   "metadata": {},
   "outputs": [
    {
     "data": {
      "text/plain": [
       "Id                    0\n",
       "Artist Name           0\n",
       "Track Name            0\n",
       "Popularity            0\n",
       "danceability          0\n",
       "energy                0\n",
       "key                   0\n",
       "loudness              0\n",
       "mode                  0\n",
       "speechiness           0\n",
       "acousticness          0\n",
       "instrumentalness      0\n",
       "liveness              0\n",
       "valence               0\n",
       "tempo                 0\n",
       "duration_in min/ms    0\n",
       "time_signature        0\n",
       "Class                 0\n",
       "dtype: int64"
      ]
     },
     "execution_count": 10,
     "metadata": {},
     "output_type": "execute_result"
    }
   ],
   "source": [
    "# We impute instrumentalness feature and check the number of null values after we treated this variable\n",
    "\n",
    "train_df['instrumentalness'].fillna(Median_instrumentalness, inplace=True)\n",
    "train_df.isna().sum()"
   ]
  },
  {
   "cell_type": "code",
   "execution_count": 11,
   "id": "b114598b",
   "metadata": {},
   "outputs": [
    {
     "data": {
      "text/plain": [
       "Id                      0\n",
       "Artist Name             0\n",
       "Track Name              0\n",
       "Popularity             95\n",
       "danceability            0\n",
       "energy                  0\n",
       "key                   405\n",
       "loudness                0\n",
       "mode                    0\n",
       "speechiness             0\n",
       "acousticness            0\n",
       "instrumentalness      836\n",
       "liveness                0\n",
       "valence                 0\n",
       "tempo                   0\n",
       "duration_in min/ms      0\n",
       "time_signature          0\n",
       "dtype: int64"
      ]
     },
     "execution_count": 11,
     "metadata": {},
     "output_type": "execute_result"
    }
   ],
   "source": [
    "# We calculate the number of null values for each variable in the test dataset\n",
    "\n",
    "test_df.isna().sum()"
   ]
  },
  {
   "cell_type": "markdown",
   "id": "722f35de",
   "metadata": {},
   "source": [
    "So we don't fell into <code>data leakage</code> issue, we'll use training dataset's statistics to impute test dataset's null values."
   ]
  },
  {
   "cell_type": "code",
   "execution_count": 12,
   "id": "b3c49fb2",
   "metadata": {},
   "outputs": [
    {
     "data": {
      "text/plain": [
       "Id                    0\n",
       "Artist Name           0\n",
       "Track Name            0\n",
       "Popularity            0\n",
       "danceability          0\n",
       "energy                0\n",
       "key                   0\n",
       "loudness              0\n",
       "mode                  0\n",
       "speechiness           0\n",
       "acousticness          0\n",
       "instrumentalness      0\n",
       "liveness              0\n",
       "valence               0\n",
       "tempo                 0\n",
       "duration_in min/ms    0\n",
       "time_signature        0\n",
       "dtype: int64"
      ]
     },
     "execution_count": 12,
     "metadata": {},
     "output_type": "execute_result"
    }
   ],
   "source": [
    "# We impute test dataset's null values with training dataset's descriptive statistics (median to be specific) and check the validity of the operation\n",
    "\n",
    "test_df['Popularity'].fillna(Median_Population, inplace=True)\n",
    "test_df['key'].fillna(Median_key, inplace=True)\n",
    "test_df['instrumentalness'].fillna(Median_instrumentalness, inplace=True)\n",
    "test_df.isna().sum()"
   ]
  },
  {
   "cell_type": "markdown",
   "id": "dd23af6f",
   "metadata": {},
   "source": [
    "## Encoding Categorical Data"
   ]
  },
  {
   "cell_type": "code",
   "execution_count": 13,
   "id": "ce7460e7",
   "metadata": {},
   "outputs": [
    {
     "data": {
      "text/html": [
       "<div>\n",
       "<style scoped>\n",
       "    .dataframe tbody tr th:only-of-type {\n",
       "        vertical-align: middle;\n",
       "    }\n",
       "\n",
       "    .dataframe tbody tr th {\n",
       "        vertical-align: top;\n",
       "    }\n",
       "\n",
       "    .dataframe thead th {\n",
       "        text-align: right;\n",
       "    }\n",
       "</style>\n",
       "<table border=\"1\" class=\"dataframe\">\n",
       "  <thead>\n",
       "    <tr style=\"text-align: right;\">\n",
       "      <th></th>\n",
       "      <th>Id</th>\n",
       "      <th>Artist Name</th>\n",
       "      <th>Track Name</th>\n",
       "      <th>Popularity</th>\n",
       "      <th>danceability</th>\n",
       "      <th>energy</th>\n",
       "      <th>key</th>\n",
       "      <th>loudness</th>\n",
       "      <th>mode</th>\n",
       "      <th>speechiness</th>\n",
       "      <th>acousticness</th>\n",
       "      <th>instrumentalness</th>\n",
       "      <th>liveness</th>\n",
       "      <th>valence</th>\n",
       "      <th>tempo</th>\n",
       "      <th>duration_in min/ms</th>\n",
       "      <th>time_signature</th>\n",
       "      <th>Class</th>\n",
       "    </tr>\n",
       "  </thead>\n",
       "  <tbody>\n",
       "    <tr>\n",
       "      <th>0</th>\n",
       "      <td>1</td>\n",
       "      <td>4260</td>\n",
       "      <td>6755</td>\n",
       "      <td>37.0</td>\n",
       "      <td>0.334</td>\n",
       "      <td>0.536</td>\n",
       "      <td>9.0</td>\n",
       "      <td>-6.649</td>\n",
       "      <td>0</td>\n",
       "      <td>0.0381</td>\n",
       "      <td>0.378000</td>\n",
       "      <td>0.00392</td>\n",
       "      <td>0.106</td>\n",
       "      <td>0.235</td>\n",
       "      <td>152.429</td>\n",
       "      <td>204947.0</td>\n",
       "      <td>4</td>\n",
       "      <td>9</td>\n",
       "    </tr>\n",
       "    <tr>\n",
       "      <th>1</th>\n",
       "      <td>2</td>\n",
       "      <td>6558</td>\n",
       "      <td>4263</td>\n",
       "      <td>67.0</td>\n",
       "      <td>0.725</td>\n",
       "      <td>0.747</td>\n",
       "      <td>11.0</td>\n",
       "      <td>-5.545</td>\n",
       "      <td>1</td>\n",
       "      <td>0.0876</td>\n",
       "      <td>0.027200</td>\n",
       "      <td>0.04680</td>\n",
       "      <td>0.104</td>\n",
       "      <td>0.380</td>\n",
       "      <td>132.921</td>\n",
       "      <td>191956.0</td>\n",
       "      <td>4</td>\n",
       "      <td>6</td>\n",
       "    </tr>\n",
       "    <tr>\n",
       "      <th>2</th>\n",
       "      <td>3</td>\n",
       "      <td>5639</td>\n",
       "      <td>11474</td>\n",
       "      <td>44.0</td>\n",
       "      <td>0.584</td>\n",
       "      <td>0.804</td>\n",
       "      <td>7.0</td>\n",
       "      <td>-6.094</td>\n",
       "      <td>1</td>\n",
       "      <td>0.0619</td>\n",
       "      <td>0.000968</td>\n",
       "      <td>0.63500</td>\n",
       "      <td>0.284</td>\n",
       "      <td>0.635</td>\n",
       "      <td>159.953</td>\n",
       "      <td>161037.0</td>\n",
       "      <td>4</td>\n",
       "      <td>10</td>\n",
       "    </tr>\n",
       "    <tr>\n",
       "      <th>3</th>\n",
       "      <td>4</td>\n",
       "      <td>1750</td>\n",
       "      <td>6223</td>\n",
       "      <td>12.0</td>\n",
       "      <td>0.515</td>\n",
       "      <td>0.308</td>\n",
       "      <td>6.0</td>\n",
       "      <td>-14.711</td>\n",
       "      <td>1</td>\n",
       "      <td>0.0312</td>\n",
       "      <td>0.907000</td>\n",
       "      <td>0.02130</td>\n",
       "      <td>0.300</td>\n",
       "      <td>0.501</td>\n",
       "      <td>172.472</td>\n",
       "      <td>298093.0</td>\n",
       "      <td>3</td>\n",
       "      <td>2</td>\n",
       "    </tr>\n",
       "    <tr>\n",
       "      <th>4</th>\n",
       "      <td>5</td>\n",
       "      <td>1377</td>\n",
       "      <td>6441</td>\n",
       "      <td>48.0</td>\n",
       "      <td>0.565</td>\n",
       "      <td>0.777</td>\n",
       "      <td>6.0</td>\n",
       "      <td>-5.096</td>\n",
       "      <td>0</td>\n",
       "      <td>0.2490</td>\n",
       "      <td>0.183000</td>\n",
       "      <td>0.00392</td>\n",
       "      <td>0.211</td>\n",
       "      <td>0.619</td>\n",
       "      <td>88.311</td>\n",
       "      <td>254145.0</td>\n",
       "      <td>4</td>\n",
       "      <td>5</td>\n",
       "    </tr>\n",
       "  </tbody>\n",
       "</table>\n",
       "</div>"
      ],
      "text/plain": [
       "   Id  Artist Name  Track Name  Popularity  danceability  energy   key  \\\n",
       "0   1         4260        6755        37.0         0.334   0.536   9.0   \n",
       "1   2         6558        4263        67.0         0.725   0.747  11.0   \n",
       "2   3         5639       11474        44.0         0.584   0.804   7.0   \n",
       "3   4         1750        6223        12.0         0.515   0.308   6.0   \n",
       "4   5         1377        6441        48.0         0.565   0.777   6.0   \n",
       "\n",
       "   loudness  mode  speechiness  acousticness  instrumentalness  liveness  \\\n",
       "0    -6.649     0       0.0381      0.378000           0.00392     0.106   \n",
       "1    -5.545     1       0.0876      0.027200           0.04680     0.104   \n",
       "2    -6.094     1       0.0619      0.000968           0.63500     0.284   \n",
       "3   -14.711     1       0.0312      0.907000           0.02130     0.300   \n",
       "4    -5.096     0       0.2490      0.183000           0.00392     0.211   \n",
       "\n",
       "   valence    tempo  duration_in min/ms  time_signature  Class  \n",
       "0    0.235  152.429            204947.0               4      9  \n",
       "1    0.380  132.921            191956.0               4      6  \n",
       "2    0.635  159.953            161037.0               4     10  \n",
       "3    0.501  172.472            298093.0               3      2  \n",
       "4    0.619   88.311            254145.0               4      5  "
      ]
     },
     "execution_count": 13,
     "metadata": {},
     "output_type": "execute_result"
    }
   ],
   "source": [
    "# Encoding Track and Artist Name features to be numerical so, they could be used in the modeling process\n",
    "\n",
    "from sklearn.preprocessing import LabelEncoder\n",
    "le = LabelEncoder()\n",
    "le.fit(train_df['Track Name'])\n",
    "encoded_tracks = le.transform(train_df['Track Name'])\n",
    "le.fit(train_df['Artist Name'])\n",
    "encoded_artists = le.transform(train_df['Artist Name'])\n",
    "train_df['Track Name'] = encoded_tracks\n",
    "train_df['Artist Name'] = encoded_artists\n",
    "train_df.head()"
   ]
  },
  {
   "cell_type": "markdown",
   "id": "3f398dc0",
   "metadata": {},
   "source": [
    "# Feature Engineering"
   ]
  },
  {
   "cell_type": "markdown",
   "id": "3e3ee35c",
   "metadata": {},
   "source": [
    "## Id"
   ]
  },
  {
   "cell_type": "code",
   "execution_count": 14,
   "id": "384ee0b6",
   "metadata": {},
   "outputs": [
    {
     "data": {
      "text/html": [
       "<div>\n",
       "<style scoped>\n",
       "    .dataframe tbody tr th:only-of-type {\n",
       "        vertical-align: middle;\n",
       "    }\n",
       "\n",
       "    .dataframe tbody tr th {\n",
       "        vertical-align: top;\n",
       "    }\n",
       "\n",
       "    .dataframe thead th {\n",
       "        text-align: right;\n",
       "    }\n",
       "</style>\n",
       "<table border=\"1\" class=\"dataframe\">\n",
       "  <thead>\n",
       "    <tr style=\"text-align: right;\">\n",
       "      <th></th>\n",
       "      <th>Artist Name</th>\n",
       "      <th>Track Name</th>\n",
       "      <th>Popularity</th>\n",
       "      <th>danceability</th>\n",
       "      <th>energy</th>\n",
       "      <th>key</th>\n",
       "      <th>loudness</th>\n",
       "      <th>mode</th>\n",
       "      <th>speechiness</th>\n",
       "      <th>acousticness</th>\n",
       "      <th>instrumentalness</th>\n",
       "      <th>liveness</th>\n",
       "      <th>valence</th>\n",
       "      <th>tempo</th>\n",
       "      <th>duration_in min/ms</th>\n",
       "      <th>time_signature</th>\n",
       "      <th>Class</th>\n",
       "    </tr>\n",
       "  </thead>\n",
       "  <tbody>\n",
       "    <tr>\n",
       "      <th>0</th>\n",
       "      <td>4260</td>\n",
       "      <td>6755</td>\n",
       "      <td>37.0</td>\n",
       "      <td>0.334</td>\n",
       "      <td>0.536</td>\n",
       "      <td>9.0</td>\n",
       "      <td>-6.649</td>\n",
       "      <td>0</td>\n",
       "      <td>0.0381</td>\n",
       "      <td>0.378000</td>\n",
       "      <td>0.00392</td>\n",
       "      <td>0.106</td>\n",
       "      <td>0.235</td>\n",
       "      <td>152.429</td>\n",
       "      <td>204947.0</td>\n",
       "      <td>4</td>\n",
       "      <td>9</td>\n",
       "    </tr>\n",
       "    <tr>\n",
       "      <th>1</th>\n",
       "      <td>6558</td>\n",
       "      <td>4263</td>\n",
       "      <td>67.0</td>\n",
       "      <td>0.725</td>\n",
       "      <td>0.747</td>\n",
       "      <td>11.0</td>\n",
       "      <td>-5.545</td>\n",
       "      <td>1</td>\n",
       "      <td>0.0876</td>\n",
       "      <td>0.027200</td>\n",
       "      <td>0.04680</td>\n",
       "      <td>0.104</td>\n",
       "      <td>0.380</td>\n",
       "      <td>132.921</td>\n",
       "      <td>191956.0</td>\n",
       "      <td>4</td>\n",
       "      <td>6</td>\n",
       "    </tr>\n",
       "    <tr>\n",
       "      <th>2</th>\n",
       "      <td>5639</td>\n",
       "      <td>11474</td>\n",
       "      <td>44.0</td>\n",
       "      <td>0.584</td>\n",
       "      <td>0.804</td>\n",
       "      <td>7.0</td>\n",
       "      <td>-6.094</td>\n",
       "      <td>1</td>\n",
       "      <td>0.0619</td>\n",
       "      <td>0.000968</td>\n",
       "      <td>0.63500</td>\n",
       "      <td>0.284</td>\n",
       "      <td>0.635</td>\n",
       "      <td>159.953</td>\n",
       "      <td>161037.0</td>\n",
       "      <td>4</td>\n",
       "      <td>10</td>\n",
       "    </tr>\n",
       "    <tr>\n",
       "      <th>3</th>\n",
       "      <td>1750</td>\n",
       "      <td>6223</td>\n",
       "      <td>12.0</td>\n",
       "      <td>0.515</td>\n",
       "      <td>0.308</td>\n",
       "      <td>6.0</td>\n",
       "      <td>-14.711</td>\n",
       "      <td>1</td>\n",
       "      <td>0.0312</td>\n",
       "      <td>0.907000</td>\n",
       "      <td>0.02130</td>\n",
       "      <td>0.300</td>\n",
       "      <td>0.501</td>\n",
       "      <td>172.472</td>\n",
       "      <td>298093.0</td>\n",
       "      <td>3</td>\n",
       "      <td>2</td>\n",
       "    </tr>\n",
       "    <tr>\n",
       "      <th>4</th>\n",
       "      <td>1377</td>\n",
       "      <td>6441</td>\n",
       "      <td>48.0</td>\n",
       "      <td>0.565</td>\n",
       "      <td>0.777</td>\n",
       "      <td>6.0</td>\n",
       "      <td>-5.096</td>\n",
       "      <td>0</td>\n",
       "      <td>0.2490</td>\n",
       "      <td>0.183000</td>\n",
       "      <td>0.00392</td>\n",
       "      <td>0.211</td>\n",
       "      <td>0.619</td>\n",
       "      <td>88.311</td>\n",
       "      <td>254145.0</td>\n",
       "      <td>4</td>\n",
       "      <td>5</td>\n",
       "    </tr>\n",
       "  </tbody>\n",
       "</table>\n",
       "</div>"
      ],
      "text/plain": [
       "   Artist Name  Track Name  Popularity  danceability  energy   key  loudness  \\\n",
       "0         4260        6755        37.0         0.334   0.536   9.0    -6.649   \n",
       "1         6558        4263        67.0         0.725   0.747  11.0    -5.545   \n",
       "2         5639       11474        44.0         0.584   0.804   7.0    -6.094   \n",
       "3         1750        6223        12.0         0.515   0.308   6.0   -14.711   \n",
       "4         1377        6441        48.0         0.565   0.777   6.0    -5.096   \n",
       "\n",
       "   mode  speechiness  acousticness  instrumentalness  liveness  valence  \\\n",
       "0     0       0.0381      0.378000           0.00392     0.106    0.235   \n",
       "1     1       0.0876      0.027200           0.04680     0.104    0.380   \n",
       "2     1       0.0619      0.000968           0.63500     0.284    0.635   \n",
       "3     1       0.0312      0.907000           0.02130     0.300    0.501   \n",
       "4     0       0.2490      0.183000           0.00392     0.211    0.619   \n",
       "\n",
       "     tempo  duration_in min/ms  time_signature  Class  \n",
       "0  152.429            204947.0               4      9  \n",
       "1  132.921            191956.0               4      6  \n",
       "2  159.953            161037.0               4     10  \n",
       "3  172.472            298093.0               3      2  \n",
       "4   88.311            254145.0               4      5  "
      ]
     },
     "execution_count": 14,
     "metadata": {},
     "output_type": "execute_result"
    }
   ],
   "source": [
    "# We drop useless features (Id)\n",
    "\n",
    "train_df.drop('Id', axis=1, inplace=True)\n",
    "train_df.head()"
   ]
  },
  {
   "cell_type": "markdown",
   "id": "3a627e62",
   "metadata": {},
   "source": [
    "## Popularity"
   ]
  },
  {
   "cell_type": "code",
   "execution_count": 15,
   "id": "982f36b1",
   "metadata": {},
   "outputs": [
    {
     "data": {
      "text/html": [
       "<div>\n",
       "<style scoped>\n",
       "    .dataframe tbody tr th:only-of-type {\n",
       "        vertical-align: middle;\n",
       "    }\n",
       "\n",
       "    .dataframe tbody tr th {\n",
       "        vertical-align: top;\n",
       "    }\n",
       "\n",
       "    .dataframe thead th {\n",
       "        text-align: right;\n",
       "    }\n",
       "</style>\n",
       "<table border=\"1\" class=\"dataframe\">\n",
       "  <thead>\n",
       "    <tr style=\"text-align: right;\">\n",
       "      <th></th>\n",
       "      <th>Artist Name</th>\n",
       "      <th>Track Name</th>\n",
       "      <th>Popularity</th>\n",
       "      <th>danceability</th>\n",
       "      <th>energy</th>\n",
       "      <th>key</th>\n",
       "      <th>loudness</th>\n",
       "      <th>mode</th>\n",
       "      <th>speechiness</th>\n",
       "      <th>acousticness</th>\n",
       "      <th>instrumentalness</th>\n",
       "      <th>liveness</th>\n",
       "      <th>valence</th>\n",
       "      <th>tempo</th>\n",
       "      <th>duration_in min/ms</th>\n",
       "      <th>time_signature</th>\n",
       "      <th>Class</th>\n",
       "      <th>Popularity_bucket</th>\n",
       "    </tr>\n",
       "  </thead>\n",
       "  <tbody>\n",
       "    <tr>\n",
       "      <th>0</th>\n",
       "      <td>4260</td>\n",
       "      <td>6755</td>\n",
       "      <td>37.0</td>\n",
       "      <td>0.334</td>\n",
       "      <td>0.536</td>\n",
       "      <td>9.0</td>\n",
       "      <td>-6.649</td>\n",
       "      <td>0</td>\n",
       "      <td>0.0381</td>\n",
       "      <td>0.378000</td>\n",
       "      <td>0.00392</td>\n",
       "      <td>0.106</td>\n",
       "      <td>0.235</td>\n",
       "      <td>152.429</td>\n",
       "      <td>204947.0</td>\n",
       "      <td>4</td>\n",
       "      <td>9</td>\n",
       "      <td>7</td>\n",
       "    </tr>\n",
       "    <tr>\n",
       "      <th>1</th>\n",
       "      <td>6558</td>\n",
       "      <td>4263</td>\n",
       "      <td>67.0</td>\n",
       "      <td>0.725</td>\n",
       "      <td>0.747</td>\n",
       "      <td>11.0</td>\n",
       "      <td>-5.545</td>\n",
       "      <td>1</td>\n",
       "      <td>0.0876</td>\n",
       "      <td>0.027200</td>\n",
       "      <td>0.04680</td>\n",
       "      <td>0.104</td>\n",
       "      <td>0.380</td>\n",
       "      <td>132.921</td>\n",
       "      <td>191956.0</td>\n",
       "      <td>4</td>\n",
       "      <td>6</td>\n",
       "      <td>13</td>\n",
       "    </tr>\n",
       "    <tr>\n",
       "      <th>2</th>\n",
       "      <td>5639</td>\n",
       "      <td>11474</td>\n",
       "      <td>44.0</td>\n",
       "      <td>0.584</td>\n",
       "      <td>0.804</td>\n",
       "      <td>7.0</td>\n",
       "      <td>-6.094</td>\n",
       "      <td>1</td>\n",
       "      <td>0.0619</td>\n",
       "      <td>0.000968</td>\n",
       "      <td>0.63500</td>\n",
       "      <td>0.284</td>\n",
       "      <td>0.635</td>\n",
       "      <td>159.953</td>\n",
       "      <td>161037.0</td>\n",
       "      <td>4</td>\n",
       "      <td>10</td>\n",
       "      <td>8</td>\n",
       "    </tr>\n",
       "    <tr>\n",
       "      <th>3</th>\n",
       "      <td>1750</td>\n",
       "      <td>6223</td>\n",
       "      <td>12.0</td>\n",
       "      <td>0.515</td>\n",
       "      <td>0.308</td>\n",
       "      <td>6.0</td>\n",
       "      <td>-14.711</td>\n",
       "      <td>1</td>\n",
       "      <td>0.0312</td>\n",
       "      <td>0.907000</td>\n",
       "      <td>0.02130</td>\n",
       "      <td>0.300</td>\n",
       "      <td>0.501</td>\n",
       "      <td>172.472</td>\n",
       "      <td>298093.0</td>\n",
       "      <td>3</td>\n",
       "      <td>2</td>\n",
       "      <td>2</td>\n",
       "    </tr>\n",
       "    <tr>\n",
       "      <th>4</th>\n",
       "      <td>1377</td>\n",
       "      <td>6441</td>\n",
       "      <td>48.0</td>\n",
       "      <td>0.565</td>\n",
       "      <td>0.777</td>\n",
       "      <td>6.0</td>\n",
       "      <td>-5.096</td>\n",
       "      <td>0</td>\n",
       "      <td>0.2490</td>\n",
       "      <td>0.183000</td>\n",
       "      <td>0.00392</td>\n",
       "      <td>0.211</td>\n",
       "      <td>0.619</td>\n",
       "      <td>88.311</td>\n",
       "      <td>254145.0</td>\n",
       "      <td>4</td>\n",
       "      <td>5</td>\n",
       "      <td>9</td>\n",
       "    </tr>\n",
       "  </tbody>\n",
       "</table>\n",
       "</div>"
      ],
      "text/plain": [
       "   Artist Name  Track Name  Popularity  danceability  energy   key  loudness  \\\n",
       "0         4260        6755        37.0         0.334   0.536   9.0    -6.649   \n",
       "1         6558        4263        67.0         0.725   0.747  11.0    -5.545   \n",
       "2         5639       11474        44.0         0.584   0.804   7.0    -6.094   \n",
       "3         1750        6223        12.0         0.515   0.308   6.0   -14.711   \n",
       "4         1377        6441        48.0         0.565   0.777   6.0    -5.096   \n",
       "\n",
       "   mode  speechiness  acousticness  instrumentalness  liveness  valence  \\\n",
       "0     0       0.0381      0.378000           0.00392     0.106    0.235   \n",
       "1     1       0.0876      0.027200           0.04680     0.104    0.380   \n",
       "2     1       0.0619      0.000968           0.63500     0.284    0.635   \n",
       "3     1       0.0312      0.907000           0.02130     0.300    0.501   \n",
       "4     0       0.2490      0.183000           0.00392     0.211    0.619   \n",
       "\n",
       "     tempo  duration_in min/ms  time_signature  Class  Popularity_bucket  \n",
       "0  152.429            204947.0               4      9                  7  \n",
       "1  132.921            191956.0               4      6                 13  \n",
       "2  159.953            161037.0               4     10                  8  \n",
       "3  172.472            298093.0               3      2                  2  \n",
       "4   88.311            254145.0               4      5                  9  "
      ]
     },
     "execution_count": 15,
     "metadata": {},
     "output_type": "execute_result"
    }
   ],
   "source": [
    "# Create 5-point buckets for popularity feature\n",
    "\n",
    "train_df['Popularity_bucket'] = train_df['Popularity'].apply(lambda x : int(x/5))\n",
    "train_df.head()"
   ]
  },
  {
   "cell_type": "code",
   "execution_count": 16,
   "id": "8c9359da",
   "metadata": {},
   "outputs": [
    {
     "data": {
      "text/html": [
       "<div>\n",
       "<style scoped>\n",
       "    .dataframe tbody tr th:only-of-type {\n",
       "        vertical-align: middle;\n",
       "    }\n",
       "\n",
       "    .dataframe tbody tr th {\n",
       "        vertical-align: top;\n",
       "    }\n",
       "\n",
       "    .dataframe thead th {\n",
       "        text-align: right;\n",
       "    }\n",
       "</style>\n",
       "<table border=\"1\" class=\"dataframe\">\n",
       "  <thead>\n",
       "    <tr style=\"text-align: right;\">\n",
       "      <th></th>\n",
       "      <th>Artist Name</th>\n",
       "      <th>Track Name</th>\n",
       "      <th>danceability</th>\n",
       "      <th>energy</th>\n",
       "      <th>key</th>\n",
       "      <th>loudness</th>\n",
       "      <th>mode</th>\n",
       "      <th>speechiness</th>\n",
       "      <th>acousticness</th>\n",
       "      <th>instrumentalness</th>\n",
       "      <th>liveness</th>\n",
       "      <th>valence</th>\n",
       "      <th>tempo</th>\n",
       "      <th>duration_in min/ms</th>\n",
       "      <th>time_signature</th>\n",
       "      <th>Class</th>\n",
       "      <th>Popularity_bucket</th>\n",
       "    </tr>\n",
       "  </thead>\n",
       "  <tbody>\n",
       "    <tr>\n",
       "      <th>0</th>\n",
       "      <td>4260</td>\n",
       "      <td>6755</td>\n",
       "      <td>0.334</td>\n",
       "      <td>0.536</td>\n",
       "      <td>9.0</td>\n",
       "      <td>-6.649</td>\n",
       "      <td>0</td>\n",
       "      <td>0.0381</td>\n",
       "      <td>0.378000</td>\n",
       "      <td>0.00392</td>\n",
       "      <td>0.106</td>\n",
       "      <td>0.235</td>\n",
       "      <td>152.429</td>\n",
       "      <td>204947.0</td>\n",
       "      <td>4</td>\n",
       "      <td>9</td>\n",
       "      <td>7</td>\n",
       "    </tr>\n",
       "    <tr>\n",
       "      <th>1</th>\n",
       "      <td>6558</td>\n",
       "      <td>4263</td>\n",
       "      <td>0.725</td>\n",
       "      <td>0.747</td>\n",
       "      <td>11.0</td>\n",
       "      <td>-5.545</td>\n",
       "      <td>1</td>\n",
       "      <td>0.0876</td>\n",
       "      <td>0.027200</td>\n",
       "      <td>0.04680</td>\n",
       "      <td>0.104</td>\n",
       "      <td>0.380</td>\n",
       "      <td>132.921</td>\n",
       "      <td>191956.0</td>\n",
       "      <td>4</td>\n",
       "      <td>6</td>\n",
       "      <td>13</td>\n",
       "    </tr>\n",
       "    <tr>\n",
       "      <th>2</th>\n",
       "      <td>5639</td>\n",
       "      <td>11474</td>\n",
       "      <td>0.584</td>\n",
       "      <td>0.804</td>\n",
       "      <td>7.0</td>\n",
       "      <td>-6.094</td>\n",
       "      <td>1</td>\n",
       "      <td>0.0619</td>\n",
       "      <td>0.000968</td>\n",
       "      <td>0.63500</td>\n",
       "      <td>0.284</td>\n",
       "      <td>0.635</td>\n",
       "      <td>159.953</td>\n",
       "      <td>161037.0</td>\n",
       "      <td>4</td>\n",
       "      <td>10</td>\n",
       "      <td>8</td>\n",
       "    </tr>\n",
       "    <tr>\n",
       "      <th>3</th>\n",
       "      <td>1750</td>\n",
       "      <td>6223</td>\n",
       "      <td>0.515</td>\n",
       "      <td>0.308</td>\n",
       "      <td>6.0</td>\n",
       "      <td>-14.711</td>\n",
       "      <td>1</td>\n",
       "      <td>0.0312</td>\n",
       "      <td>0.907000</td>\n",
       "      <td>0.02130</td>\n",
       "      <td>0.300</td>\n",
       "      <td>0.501</td>\n",
       "      <td>172.472</td>\n",
       "      <td>298093.0</td>\n",
       "      <td>3</td>\n",
       "      <td>2</td>\n",
       "      <td>2</td>\n",
       "    </tr>\n",
       "    <tr>\n",
       "      <th>4</th>\n",
       "      <td>1377</td>\n",
       "      <td>6441</td>\n",
       "      <td>0.565</td>\n",
       "      <td>0.777</td>\n",
       "      <td>6.0</td>\n",
       "      <td>-5.096</td>\n",
       "      <td>0</td>\n",
       "      <td>0.2490</td>\n",
       "      <td>0.183000</td>\n",
       "      <td>0.00392</td>\n",
       "      <td>0.211</td>\n",
       "      <td>0.619</td>\n",
       "      <td>88.311</td>\n",
       "      <td>254145.0</td>\n",
       "      <td>4</td>\n",
       "      <td>5</td>\n",
       "      <td>9</td>\n",
       "    </tr>\n",
       "  </tbody>\n",
       "</table>\n",
       "</div>"
      ],
      "text/plain": [
       "   Artist Name  Track Name  danceability  energy   key  loudness  mode  \\\n",
       "0         4260        6755         0.334   0.536   9.0    -6.649     0   \n",
       "1         6558        4263         0.725   0.747  11.0    -5.545     1   \n",
       "2         5639       11474         0.584   0.804   7.0    -6.094     1   \n",
       "3         1750        6223         0.515   0.308   6.0   -14.711     1   \n",
       "4         1377        6441         0.565   0.777   6.0    -5.096     0   \n",
       "\n",
       "   speechiness  acousticness  instrumentalness  liveness  valence    tempo  \\\n",
       "0       0.0381      0.378000           0.00392     0.106    0.235  152.429   \n",
       "1       0.0876      0.027200           0.04680     0.104    0.380  132.921   \n",
       "2       0.0619      0.000968           0.63500     0.284    0.635  159.953   \n",
       "3       0.0312      0.907000           0.02130     0.300    0.501  172.472   \n",
       "4       0.2490      0.183000           0.00392     0.211    0.619   88.311   \n",
       "\n",
       "   duration_in min/ms  time_signature  Class  Popularity_bucket  \n",
       "0            204947.0               4      9                  7  \n",
       "1            191956.0               4      6                 13  \n",
       "2            161037.0               4     10                  8  \n",
       "3            298093.0               3      2                  2  \n",
       "4            254145.0               4      5                  9  "
      ]
     },
     "execution_count": 16,
     "metadata": {},
     "output_type": "execute_result"
    }
   ],
   "source": [
    "# Now, we'll drop Popularity column as we don't need it anymore\n",
    "\n",
    "train_df.drop('Popularity', axis=1, inplace=True)\n",
    "train_df.head()"
   ]
  },
  {
   "cell_type": "markdown",
   "id": "9dfaebd3",
   "metadata": {},
   "source": [
    "## duration_in min/ms"
   ]
  },
  {
   "cell_type": "markdown",
   "id": "d90c9110",
   "metadata": {},
   "source": [
    "After exploring duration_in min/ms column, we figured out that some records have a duration in minutes while others have been measured in milliseconds which gonna make our data a little bit noisy. Also, we have discovered that when duration is under 30 we can classify it as in minutes. So, we'll transform our data that way so it could be measured only in minutes."
   ]
  },
  {
   "cell_type": "code",
   "execution_count": 17,
   "id": "f8deeca4",
   "metadata": {},
   "outputs": [
    {
     "data": {
      "text/html": [
       "<div>\n",
       "<style scoped>\n",
       "    .dataframe tbody tr th:only-of-type {\n",
       "        vertical-align: middle;\n",
       "    }\n",
       "\n",
       "    .dataframe tbody tr th {\n",
       "        vertical-align: top;\n",
       "    }\n",
       "\n",
       "    .dataframe thead th {\n",
       "        text-align: right;\n",
       "    }\n",
       "</style>\n",
       "<table border=\"1\" class=\"dataframe\">\n",
       "  <thead>\n",
       "    <tr style=\"text-align: right;\">\n",
       "      <th></th>\n",
       "      <th>Artist Name</th>\n",
       "      <th>Track Name</th>\n",
       "      <th>danceability</th>\n",
       "      <th>energy</th>\n",
       "      <th>key</th>\n",
       "      <th>loudness</th>\n",
       "      <th>mode</th>\n",
       "      <th>speechiness</th>\n",
       "      <th>acousticness</th>\n",
       "      <th>instrumentalness</th>\n",
       "      <th>liveness</th>\n",
       "      <th>valence</th>\n",
       "      <th>tempo</th>\n",
       "      <th>duration_in min/ms</th>\n",
       "      <th>time_signature</th>\n",
       "      <th>Class</th>\n",
       "      <th>Popularity_bucket</th>\n",
       "      <th>in_minutes</th>\n",
       "    </tr>\n",
       "  </thead>\n",
       "  <tbody>\n",
       "    <tr>\n",
       "      <th>0</th>\n",
       "      <td>4260</td>\n",
       "      <td>6755</td>\n",
       "      <td>0.334</td>\n",
       "      <td>0.536</td>\n",
       "      <td>9.0</td>\n",
       "      <td>-6.649</td>\n",
       "      <td>0</td>\n",
       "      <td>0.0381</td>\n",
       "      <td>0.378000</td>\n",
       "      <td>0.00392</td>\n",
       "      <td>0.106</td>\n",
       "      <td>0.235</td>\n",
       "      <td>152.429</td>\n",
       "      <td>204947.0</td>\n",
       "      <td>4</td>\n",
       "      <td>9</td>\n",
       "      <td>7</td>\n",
       "      <td>False</td>\n",
       "    </tr>\n",
       "    <tr>\n",
       "      <th>1</th>\n",
       "      <td>6558</td>\n",
       "      <td>4263</td>\n",
       "      <td>0.725</td>\n",
       "      <td>0.747</td>\n",
       "      <td>11.0</td>\n",
       "      <td>-5.545</td>\n",
       "      <td>1</td>\n",
       "      <td>0.0876</td>\n",
       "      <td>0.027200</td>\n",
       "      <td>0.04680</td>\n",
       "      <td>0.104</td>\n",
       "      <td>0.380</td>\n",
       "      <td>132.921</td>\n",
       "      <td>191956.0</td>\n",
       "      <td>4</td>\n",
       "      <td>6</td>\n",
       "      <td>13</td>\n",
       "      <td>False</td>\n",
       "    </tr>\n",
       "    <tr>\n",
       "      <th>2</th>\n",
       "      <td>5639</td>\n",
       "      <td>11474</td>\n",
       "      <td>0.584</td>\n",
       "      <td>0.804</td>\n",
       "      <td>7.0</td>\n",
       "      <td>-6.094</td>\n",
       "      <td>1</td>\n",
       "      <td>0.0619</td>\n",
       "      <td>0.000968</td>\n",
       "      <td>0.63500</td>\n",
       "      <td>0.284</td>\n",
       "      <td>0.635</td>\n",
       "      <td>159.953</td>\n",
       "      <td>161037.0</td>\n",
       "      <td>4</td>\n",
       "      <td>10</td>\n",
       "      <td>8</td>\n",
       "      <td>False</td>\n",
       "    </tr>\n",
       "    <tr>\n",
       "      <th>3</th>\n",
       "      <td>1750</td>\n",
       "      <td>6223</td>\n",
       "      <td>0.515</td>\n",
       "      <td>0.308</td>\n",
       "      <td>6.0</td>\n",
       "      <td>-14.711</td>\n",
       "      <td>1</td>\n",
       "      <td>0.0312</td>\n",
       "      <td>0.907000</td>\n",
       "      <td>0.02130</td>\n",
       "      <td>0.300</td>\n",
       "      <td>0.501</td>\n",
       "      <td>172.472</td>\n",
       "      <td>298093.0</td>\n",
       "      <td>3</td>\n",
       "      <td>2</td>\n",
       "      <td>2</td>\n",
       "      <td>False</td>\n",
       "    </tr>\n",
       "    <tr>\n",
       "      <th>4</th>\n",
       "      <td>1377</td>\n",
       "      <td>6441</td>\n",
       "      <td>0.565</td>\n",
       "      <td>0.777</td>\n",
       "      <td>6.0</td>\n",
       "      <td>-5.096</td>\n",
       "      <td>0</td>\n",
       "      <td>0.2490</td>\n",
       "      <td>0.183000</td>\n",
       "      <td>0.00392</td>\n",
       "      <td>0.211</td>\n",
       "      <td>0.619</td>\n",
       "      <td>88.311</td>\n",
       "      <td>254145.0</td>\n",
       "      <td>4</td>\n",
       "      <td>5</td>\n",
       "      <td>9</td>\n",
       "      <td>False</td>\n",
       "    </tr>\n",
       "  </tbody>\n",
       "</table>\n",
       "</div>"
      ],
      "text/plain": [
       "   Artist Name  Track Name  danceability  energy   key  loudness  mode  \\\n",
       "0         4260        6755         0.334   0.536   9.0    -6.649     0   \n",
       "1         6558        4263         0.725   0.747  11.0    -5.545     1   \n",
       "2         5639       11474         0.584   0.804   7.0    -6.094     1   \n",
       "3         1750        6223         0.515   0.308   6.0   -14.711     1   \n",
       "4         1377        6441         0.565   0.777   6.0    -5.096     0   \n",
       "\n",
       "   speechiness  acousticness  instrumentalness  liveness  valence    tempo  \\\n",
       "0       0.0381      0.378000           0.00392     0.106    0.235  152.429   \n",
       "1       0.0876      0.027200           0.04680     0.104    0.380  132.921   \n",
       "2       0.0619      0.000968           0.63500     0.284    0.635  159.953   \n",
       "3       0.0312      0.907000           0.02130     0.300    0.501  172.472   \n",
       "4       0.2490      0.183000           0.00392     0.211    0.619   88.311   \n",
       "\n",
       "   duration_in min/ms  time_signature  Class  Popularity_bucket  in_minutes  \n",
       "0            204947.0               4      9                  7       False  \n",
       "1            191956.0               4      6                 13       False  \n",
       "2            161037.0               4     10                  8       False  \n",
       "3            298093.0               3      2                  2       False  \n",
       "4            254145.0               4      5                  9       False  "
      ]
     },
     "execution_count": 17,
     "metadata": {},
     "output_type": "execute_result"
    }
   ],
   "source": [
    "# Create a column that records whether a duration is in minutes or not\n",
    "\n",
    "train_df['in_minutes'] = train_df['duration_in min/ms'].apply(lambda x : x<30)\n",
    "train_df.head()"
   ]
  },
  {
   "cell_type": "code",
   "execution_count": 18,
   "id": "39100d17",
   "metadata": {},
   "outputs": [
    {
     "data": {
      "text/html": [
       "<div>\n",
       "<style scoped>\n",
       "    .dataframe tbody tr th:only-of-type {\n",
       "        vertical-align: middle;\n",
       "    }\n",
       "\n",
       "    .dataframe tbody tr th {\n",
       "        vertical-align: top;\n",
       "    }\n",
       "\n",
       "    .dataframe thead th {\n",
       "        text-align: right;\n",
       "    }\n",
       "</style>\n",
       "<table border=\"1\" class=\"dataframe\">\n",
       "  <thead>\n",
       "    <tr style=\"text-align: right;\">\n",
       "      <th></th>\n",
       "      <th>Artist Name</th>\n",
       "      <th>Track Name</th>\n",
       "      <th>danceability</th>\n",
       "      <th>energy</th>\n",
       "      <th>key</th>\n",
       "      <th>loudness</th>\n",
       "      <th>mode</th>\n",
       "      <th>speechiness</th>\n",
       "      <th>acousticness</th>\n",
       "      <th>instrumentalness</th>\n",
       "      <th>liveness</th>\n",
       "      <th>valence</th>\n",
       "      <th>tempo</th>\n",
       "      <th>duration_in min/ms</th>\n",
       "      <th>time_signature</th>\n",
       "      <th>Class</th>\n",
       "      <th>Popularity_bucket</th>\n",
       "      <th>in_minutes</th>\n",
       "      <th>duration_minutes</th>\n",
       "    </tr>\n",
       "  </thead>\n",
       "  <tbody>\n",
       "    <tr>\n",
       "      <th>0</th>\n",
       "      <td>4260</td>\n",
       "      <td>6755</td>\n",
       "      <td>0.334</td>\n",
       "      <td>0.536</td>\n",
       "      <td>9.0</td>\n",
       "      <td>-6.649</td>\n",
       "      <td>0</td>\n",
       "      <td>0.0381</td>\n",
       "      <td>0.378000</td>\n",
       "      <td>0.00392</td>\n",
       "      <td>0.106</td>\n",
       "      <td>0.235</td>\n",
       "      <td>152.429</td>\n",
       "      <td>204947.0</td>\n",
       "      <td>4</td>\n",
       "      <td>9</td>\n",
       "      <td>7</td>\n",
       "      <td>False</td>\n",
       "      <td>3.415783</td>\n",
       "    </tr>\n",
       "    <tr>\n",
       "      <th>1</th>\n",
       "      <td>6558</td>\n",
       "      <td>4263</td>\n",
       "      <td>0.725</td>\n",
       "      <td>0.747</td>\n",
       "      <td>11.0</td>\n",
       "      <td>-5.545</td>\n",
       "      <td>1</td>\n",
       "      <td>0.0876</td>\n",
       "      <td>0.027200</td>\n",
       "      <td>0.04680</td>\n",
       "      <td>0.104</td>\n",
       "      <td>0.380</td>\n",
       "      <td>132.921</td>\n",
       "      <td>191956.0</td>\n",
       "      <td>4</td>\n",
       "      <td>6</td>\n",
       "      <td>13</td>\n",
       "      <td>False</td>\n",
       "      <td>3.199267</td>\n",
       "    </tr>\n",
       "    <tr>\n",
       "      <th>2</th>\n",
       "      <td>5639</td>\n",
       "      <td>11474</td>\n",
       "      <td>0.584</td>\n",
       "      <td>0.804</td>\n",
       "      <td>7.0</td>\n",
       "      <td>-6.094</td>\n",
       "      <td>1</td>\n",
       "      <td>0.0619</td>\n",
       "      <td>0.000968</td>\n",
       "      <td>0.63500</td>\n",
       "      <td>0.284</td>\n",
       "      <td>0.635</td>\n",
       "      <td>159.953</td>\n",
       "      <td>161037.0</td>\n",
       "      <td>4</td>\n",
       "      <td>10</td>\n",
       "      <td>8</td>\n",
       "      <td>False</td>\n",
       "      <td>2.683950</td>\n",
       "    </tr>\n",
       "    <tr>\n",
       "      <th>3</th>\n",
       "      <td>1750</td>\n",
       "      <td>6223</td>\n",
       "      <td>0.515</td>\n",
       "      <td>0.308</td>\n",
       "      <td>6.0</td>\n",
       "      <td>-14.711</td>\n",
       "      <td>1</td>\n",
       "      <td>0.0312</td>\n",
       "      <td>0.907000</td>\n",
       "      <td>0.02130</td>\n",
       "      <td>0.300</td>\n",
       "      <td>0.501</td>\n",
       "      <td>172.472</td>\n",
       "      <td>298093.0</td>\n",
       "      <td>3</td>\n",
       "      <td>2</td>\n",
       "      <td>2</td>\n",
       "      <td>False</td>\n",
       "      <td>4.968217</td>\n",
       "    </tr>\n",
       "    <tr>\n",
       "      <th>4</th>\n",
       "      <td>1377</td>\n",
       "      <td>6441</td>\n",
       "      <td>0.565</td>\n",
       "      <td>0.777</td>\n",
       "      <td>6.0</td>\n",
       "      <td>-5.096</td>\n",
       "      <td>0</td>\n",
       "      <td>0.2490</td>\n",
       "      <td>0.183000</td>\n",
       "      <td>0.00392</td>\n",
       "      <td>0.211</td>\n",
       "      <td>0.619</td>\n",
       "      <td>88.311</td>\n",
       "      <td>254145.0</td>\n",
       "      <td>4</td>\n",
       "      <td>5</td>\n",
       "      <td>9</td>\n",
       "      <td>False</td>\n",
       "      <td>4.235750</td>\n",
       "    </tr>\n",
       "  </tbody>\n",
       "</table>\n",
       "</div>"
      ],
      "text/plain": [
       "   Artist Name  Track Name  danceability  energy   key  loudness  mode  \\\n",
       "0         4260        6755         0.334   0.536   9.0    -6.649     0   \n",
       "1         6558        4263         0.725   0.747  11.0    -5.545     1   \n",
       "2         5639       11474         0.584   0.804   7.0    -6.094     1   \n",
       "3         1750        6223         0.515   0.308   6.0   -14.711     1   \n",
       "4         1377        6441         0.565   0.777   6.0    -5.096     0   \n",
       "\n",
       "   speechiness  acousticness  instrumentalness  liveness  valence    tempo  \\\n",
       "0       0.0381      0.378000           0.00392     0.106    0.235  152.429   \n",
       "1       0.0876      0.027200           0.04680     0.104    0.380  132.921   \n",
       "2       0.0619      0.000968           0.63500     0.284    0.635  159.953   \n",
       "3       0.0312      0.907000           0.02130     0.300    0.501  172.472   \n",
       "4       0.2490      0.183000           0.00392     0.211    0.619   88.311   \n",
       "\n",
       "   duration_in min/ms  time_signature  Class  Popularity_bucket  in_minutes  \\\n",
       "0            204947.0               4      9                  7       False   \n",
       "1            191956.0               4      6                 13       False   \n",
       "2            161037.0               4     10                  8       False   \n",
       "3            298093.0               3      2                  2       False   \n",
       "4            254145.0               4      5                  9       False   \n",
       "\n",
       "   duration_minutes  \n",
       "0          3.415783  \n",
       "1          3.199267  \n",
       "2          2.683950  \n",
       "3          4.968217  \n",
       "4          4.235750  "
      ]
     },
     "execution_count": 18,
     "metadata": {},
     "output_type": "execute_result"
    }
   ],
   "source": [
    "# Create a column that holds track's duration only in minutes\n",
    "\n",
    "train_df['duration_minutes'] = train_df.apply(lambda row : row['duration_in min/ms'] if row['in_minutes'] else row['duration_in min/ms'] / 60000, axis=1)\n",
    "train_df.head()"
   ]
  },
  {
   "cell_type": "code",
   "execution_count": 19,
   "id": "3e5008d9",
   "metadata": {},
   "outputs": [
    {
     "data": {
      "text/html": [
       "<div>\n",
       "<style scoped>\n",
       "    .dataframe tbody tr th:only-of-type {\n",
       "        vertical-align: middle;\n",
       "    }\n",
       "\n",
       "    .dataframe tbody tr th {\n",
       "        vertical-align: top;\n",
       "    }\n",
       "\n",
       "    .dataframe thead th {\n",
       "        text-align: right;\n",
       "    }\n",
       "</style>\n",
       "<table border=\"1\" class=\"dataframe\">\n",
       "  <thead>\n",
       "    <tr style=\"text-align: right;\">\n",
       "      <th></th>\n",
       "      <th>Artist Name</th>\n",
       "      <th>Track Name</th>\n",
       "      <th>danceability</th>\n",
       "      <th>energy</th>\n",
       "      <th>key</th>\n",
       "      <th>loudness</th>\n",
       "      <th>mode</th>\n",
       "      <th>speechiness</th>\n",
       "      <th>acousticness</th>\n",
       "      <th>instrumentalness</th>\n",
       "      <th>liveness</th>\n",
       "      <th>valence</th>\n",
       "      <th>tempo</th>\n",
       "      <th>time_signature</th>\n",
       "      <th>Class</th>\n",
       "      <th>Popularity_bucket</th>\n",
       "      <th>duration_minutes</th>\n",
       "    </tr>\n",
       "  </thead>\n",
       "  <tbody>\n",
       "    <tr>\n",
       "      <th>0</th>\n",
       "      <td>4260</td>\n",
       "      <td>6755</td>\n",
       "      <td>0.334</td>\n",
       "      <td>0.536</td>\n",
       "      <td>9.0</td>\n",
       "      <td>-6.649</td>\n",
       "      <td>0</td>\n",
       "      <td>0.0381</td>\n",
       "      <td>0.378000</td>\n",
       "      <td>0.00392</td>\n",
       "      <td>0.106</td>\n",
       "      <td>0.235</td>\n",
       "      <td>152.429</td>\n",
       "      <td>4</td>\n",
       "      <td>9</td>\n",
       "      <td>7</td>\n",
       "      <td>3.415783</td>\n",
       "    </tr>\n",
       "    <tr>\n",
       "      <th>1</th>\n",
       "      <td>6558</td>\n",
       "      <td>4263</td>\n",
       "      <td>0.725</td>\n",
       "      <td>0.747</td>\n",
       "      <td>11.0</td>\n",
       "      <td>-5.545</td>\n",
       "      <td>1</td>\n",
       "      <td>0.0876</td>\n",
       "      <td>0.027200</td>\n",
       "      <td>0.04680</td>\n",
       "      <td>0.104</td>\n",
       "      <td>0.380</td>\n",
       "      <td>132.921</td>\n",
       "      <td>4</td>\n",
       "      <td>6</td>\n",
       "      <td>13</td>\n",
       "      <td>3.199267</td>\n",
       "    </tr>\n",
       "    <tr>\n",
       "      <th>2</th>\n",
       "      <td>5639</td>\n",
       "      <td>11474</td>\n",
       "      <td>0.584</td>\n",
       "      <td>0.804</td>\n",
       "      <td>7.0</td>\n",
       "      <td>-6.094</td>\n",
       "      <td>1</td>\n",
       "      <td>0.0619</td>\n",
       "      <td>0.000968</td>\n",
       "      <td>0.63500</td>\n",
       "      <td>0.284</td>\n",
       "      <td>0.635</td>\n",
       "      <td>159.953</td>\n",
       "      <td>4</td>\n",
       "      <td>10</td>\n",
       "      <td>8</td>\n",
       "      <td>2.683950</td>\n",
       "    </tr>\n",
       "    <tr>\n",
       "      <th>3</th>\n",
       "      <td>1750</td>\n",
       "      <td>6223</td>\n",
       "      <td>0.515</td>\n",
       "      <td>0.308</td>\n",
       "      <td>6.0</td>\n",
       "      <td>-14.711</td>\n",
       "      <td>1</td>\n",
       "      <td>0.0312</td>\n",
       "      <td>0.907000</td>\n",
       "      <td>0.02130</td>\n",
       "      <td>0.300</td>\n",
       "      <td>0.501</td>\n",
       "      <td>172.472</td>\n",
       "      <td>3</td>\n",
       "      <td>2</td>\n",
       "      <td>2</td>\n",
       "      <td>4.968217</td>\n",
       "    </tr>\n",
       "    <tr>\n",
       "      <th>4</th>\n",
       "      <td>1377</td>\n",
       "      <td>6441</td>\n",
       "      <td>0.565</td>\n",
       "      <td>0.777</td>\n",
       "      <td>6.0</td>\n",
       "      <td>-5.096</td>\n",
       "      <td>0</td>\n",
       "      <td>0.2490</td>\n",
       "      <td>0.183000</td>\n",
       "      <td>0.00392</td>\n",
       "      <td>0.211</td>\n",
       "      <td>0.619</td>\n",
       "      <td>88.311</td>\n",
       "      <td>4</td>\n",
       "      <td>5</td>\n",
       "      <td>9</td>\n",
       "      <td>4.235750</td>\n",
       "    </tr>\n",
       "  </tbody>\n",
       "</table>\n",
       "</div>"
      ],
      "text/plain": [
       "   Artist Name  Track Name  danceability  energy   key  loudness  mode  \\\n",
       "0         4260        6755         0.334   0.536   9.0    -6.649     0   \n",
       "1         6558        4263         0.725   0.747  11.0    -5.545     1   \n",
       "2         5639       11474         0.584   0.804   7.0    -6.094     1   \n",
       "3         1750        6223         0.515   0.308   6.0   -14.711     1   \n",
       "4         1377        6441         0.565   0.777   6.0    -5.096     0   \n",
       "\n",
       "   speechiness  acousticness  instrumentalness  liveness  valence    tempo  \\\n",
       "0       0.0381      0.378000           0.00392     0.106    0.235  152.429   \n",
       "1       0.0876      0.027200           0.04680     0.104    0.380  132.921   \n",
       "2       0.0619      0.000968           0.63500     0.284    0.635  159.953   \n",
       "3       0.0312      0.907000           0.02130     0.300    0.501  172.472   \n",
       "4       0.2490      0.183000           0.00392     0.211    0.619   88.311   \n",
       "\n",
       "   time_signature  Class  Popularity_bucket  duration_minutes  \n",
       "0               4      9                  7          3.415783  \n",
       "1               4      6                 13          3.199267  \n",
       "2               4     10                  8          2.683950  \n",
       "3               3      2                  2          4.968217  \n",
       "4               4      5                  9          4.235750  "
      ]
     },
     "execution_count": 19,
     "metadata": {},
     "output_type": "execute_result"
    }
   ],
   "source": [
    "# Now, we drop duration_in min/ms & in_minutes variables after creating duration_minutes as we don't need them anymore\n",
    "\n",
    "train_df.drop(['duration_in min/ms', 'in_minutes'], axis=1, inplace=True)\n",
    "train_df.head()"
   ]
  },
  {
   "cell_type": "markdown",
   "id": "a732bd0a",
   "metadata": {},
   "source": [
    "# Modeling"
   ]
  },
  {
   "cell_type": "markdown",
   "id": "3933eb7c",
   "metadata": {},
   "source": [
    "## Data Preparation"
   ]
  },
  {
   "cell_type": "code",
   "execution_count": 20,
   "id": "ad4c5f00",
   "metadata": {},
   "outputs": [],
   "source": [
    "# Define the independent and dependent features to work with\n",
    "\n",
    "X = train_df.drop('Class', axis=1)\n",
    "y = train_df['Class']"
   ]
  },
  {
   "cell_type": "code",
   "execution_count": 21,
   "id": "a266d818",
   "metadata": {},
   "outputs": [],
   "source": [
    "# Split up the data into training and testing subsets to avoid overfitting with a stratified response variable\n",
    "\n",
    "from sklearn.model_selection import train_test_split\n",
    "X_train, X_test, y_train, y_test = train_test_split(X, y, test_size=.2, random_state=0, stratify=y)"
   ]
  },
  {
   "cell_type": "markdown",
   "id": "aec025d2",
   "metadata": {},
   "source": [
    "## Standardization"
   ]
  },
  {
   "cell_type": "code",
   "execution_count": 22,
   "id": "69a9286b",
   "metadata": {},
   "outputs": [],
   "source": [
    "# We standardize our data so it could be suitable for modeling\n",
    "\n",
    "from sklearn.preprocessing import StandardScaler\n",
    "sc_scaler = StandardScaler()\n",
    "sc_scaler.fit(X_train)\n",
    "X_train = pd.DataFrame(sc_scaler.transform(X_train), columns=X_train.columns)\n",
    "X_test = pd.DataFrame(sc_scaler.transform(X_test), columns=X_test.columns)"
   ]
  },
  {
   "cell_type": "markdown",
   "id": "97f588df",
   "metadata": {},
   "source": [
    "## Feature Selection"
   ]
  },
  {
   "cell_type": "code",
   "execution_count": 23,
   "id": "f405999f",
   "metadata": {},
   "outputs": [
    {
     "name": "stdout",
     "output_type": "stream",
     "text": [
      "Selection of features : [ True  True  True  True  True  True  True False  True  True  True  True\n",
      "  True  True  True  True]\n",
      "Selected features : ['Artist Name', 'Track Name', 'danceability', 'energy', 'key', 'loudness', 'mode', 'acousticness', 'instrumentalness', 'liveness', 'valence', 'tempo', 'time_signature', 'Popularity_bucket', 'duration_minutes']\n",
      "Deleted features : ['speechiness']\n"
     ]
    }
   ],
   "source": [
    "# We use variance Threshold Technique for feature selection\n",
    "\n",
    "X_train_1, X_test_1, y_train_1, y_test_1 = train_test_split(X, y, test_size=.2, random_state=0, stratify=y)\n",
    "\n",
    "from sklearn.feature_selection import VarianceThreshold\n",
    "sel_1 = VarianceThreshold(threshold=.02)\n",
    "sel_1.fit(X_train_1)\n",
    "print('Selection of features :', sel_1.get_support())\n",
    "print('Selected features :', list(X.columns[sel_1.get_support()]))\n",
    "print('Deleted features :', list(X.columns[~sel_1.get_support()]))"
   ]
  },
  {
   "cell_type": "code",
   "execution_count": 24,
   "id": "cbb98866",
   "metadata": {},
   "outputs": [
    {
     "name": "stdout",
     "output_type": "stream",
     "text": [
      "Selection of features : [False False  True  True False  True False  True  True  True False  True\n",
      " False False  True False]\n",
      "Scores of features : [ 13.68690219  23.10083649 364.46856068 510.56747478   1.69030749\n",
      " 494.77441279  27.156195   577.3773257  594.82581347 370.1136347\n",
      "  23.92193769 177.52992472  24.90673065  28.97687507 133.86421771\n",
      "  75.86475717]\n",
      "Selected features : ['danceability', 'energy', 'loudness', 'speechiness', 'acousticness', 'instrumentalness', 'valence', 'Popularity_bucket']\n",
      "Deleted features : ['Artist Name', 'Track Name', 'key', 'mode', 'liveness', 'tempo', 'time_signature', 'duration_minutes']\n"
     ]
    }
   ],
   "source": [
    "# We use KBest Technique for feature selection\n",
    "\n",
    "from sklearn.feature_selection import SelectKBest\n",
    "from sklearn.feature_selection import f_classif\n",
    "sel_2 = SelectKBest(score_func=f_classif, k=8)\n",
    "sel_2.fit(X_train, y_train)\n",
    "print('Selection of features :', sel_2.get_support())\n",
    "print('Scores of features :', sel_2.scores_)\n",
    "print('Selected features :', list(X.columns[sel_2.get_support()]))\n",
    "print('Deleted features :', list(X.columns[~sel_2.get_support()]))"
   ]
  },
  {
   "cell_type": "code",
   "execution_count": 25,
   "id": "703814fa",
   "metadata": {},
   "outputs": [
    {
     "data": {
      "text/plain": [
       "{'acousticness', 'loudness'}"
      ]
     },
     "execution_count": 25,
     "metadata": {},
     "output_type": "execute_result"
    }
   ],
   "source": [
    "# We use Correlation Technique for feature selection\n",
    "\n",
    "def correlatedFeatures(dataset, threshold):\n",
    "    correlated_columns = set()\n",
    "    correlations = dataset.corr()\n",
    "    for i in range(len(correlations)):\n",
    "        for j in range(i):\n",
    "            if abs(correlations.iloc[i,j]) > threshold:\n",
    "                correlated_columns.add(correlations.columns[i])\n",
    "    return correlated_columns\n",
    "\n",
    "cf = correlatedFeatures(X_train, .7)\n",
    "cf"
   ]
  },
  {
   "cell_type": "markdown",
   "id": "561f1d23",
   "metadata": {},
   "source": [
    "## Logistic Regression"
   ]
  },
  {
   "cell_type": "code",
   "execution_count": 27,
   "id": "965c7faa",
   "metadata": {},
   "outputs": [
    {
     "name": "stdout",
     "output_type": "stream",
     "text": [
      "The training accuracy score is: 0.46118443904133377\n",
      "The test accuracy score is: 0.45729166666666665\n"
     ]
    }
   ],
   "source": [
    "# We'll train a logistic regression model on all features that we have\n",
    "\n",
    "from sklearn.linear_model import LogisticRegression\n",
    "from sklearn.metrics import accuracy_score\n",
    "LogReg = LogisticRegression()\n",
    "LogReg.fit(X_train, y_train)\n",
    "y_pred_LogReg_train = LogReg.predict(X_train)\n",
    "y_pred_LogReg_test = LogReg.predict(X_test)\n",
    "print('The training accuracy score is:', accuracy_score(y_train, y_pred_LogReg_train))\n",
    "print('The test accuracy score is:', accuracy_score(y_test, y_pred_LogReg_test))"
   ]
  },
  {
   "cell_type": "code",
   "execution_count": 107,
   "id": "94d03f14",
   "metadata": {},
   "outputs": [
    {
     "name": "stdout",
     "output_type": "stream",
     "text": [
      "The training accuracy score is: 0.4338311913858979\n",
      "The test accuracy score is: 0.43506944444444445\n"
     ]
    }
   ],
   "source": [
    "# In here, we are training a logistic regression model on only selected features using first selector\n",
    "\n",
    "selected_features = list(X.columns[sel_1.get_support()])\n",
    "LogReg = LogisticRegression()\n",
    "LogReg.fit(X_train[selected_features], y_train)\n",
    "y_pred_LogReg_train = LogReg.predict(X_train[selected_features])\n",
    "y_pred_LogReg_test = LogReg.predict(X_test[selected_features])\n",
    "print('The training accuracy score is:', accuracy_score(y_train, y_pred_LogReg_train))\n",
    "print('The test accuracy score is:', accuracy_score(y_test, y_pred_LogReg_test))"
   ]
  },
  {
   "cell_type": "code",
   "execution_count": 108,
   "id": "01b8c5ba",
   "metadata": {},
   "outputs": [
    {
     "name": "stdout",
     "output_type": "stream",
     "text": [
      "The training accuracy score is: 0.4468565474122959\n",
      "The test accuracy score is: 0.440625\n"
     ]
    }
   ],
   "source": [
    "# In here, we are training a logistic regression model on only selected features using second selector\n",
    "\n",
    "selected_features = list(X.columns[sel_2.get_support()])\n",
    "LogReg = LogisticRegression()\n",
    "LogReg.fit(X_train[selected_features], y_train)\n",
    "y_pred_LogReg_train = LogReg.predict(X_train[selected_features])\n",
    "y_pred_LogReg_test = LogReg.predict(X_test[selected_features])\n",
    "print('The training accuracy score is:', accuracy_score(y_train, y_pred_LogReg_train))\n",
    "print('The test accuracy score is:', accuracy_score(y_test, y_pred_LogReg_test))"
   ]
  },
  {
   "cell_type": "code",
   "execution_count": 109,
   "id": "ffac238d",
   "metadata": {},
   "outputs": [
    {
     "name": "stdout",
     "output_type": "stream",
     "text": [
      "The training accuracy score is: 0.44346995484543245\n",
      "The test accuracy score is: 0.4375\n"
     ]
    }
   ],
   "source": [
    "# In here, we are training a logistic regression model on only selected features using third selector\n",
    "\n",
    "all_features = set(X.columns)\n",
    "selected_features = list(all_features.difference(cf))\n",
    "LogReg = LogisticRegression()\n",
    "LogReg.fit(X_train[selected_features], y_train)\n",
    "y_pred_LogReg_train = LogReg.predict(X_train[selected_features])\n",
    "y_pred_LogReg_test = LogReg.predict(X_test[selected_features])\n",
    "print('The training accuracy score is:', accuracy_score(y_train, y_pred_LogReg_train))\n",
    "print('The test accuracy score is:', accuracy_score(y_test, y_pred_LogReg_test))"
   ]
  },
  {
   "cell_type": "code",
   "execution_count": 34,
   "id": "d464635d",
   "metadata": {},
   "outputs": [
    {
     "name": "stdout",
     "output_type": "stream",
     "text": [
      "Selection of features : [ True  True  True  True False  True  True  True  True  True  True  True\n",
      "  True  True  True  True]\n",
      "Ranking of features : [1 1 1 1 2 1 1 1 1 1 1 1 1 1 1 1]\n",
      "Selected features : ['Artist Name', 'Track Name', 'danceability', 'energy', 'loudness', 'mode', 'speechiness', 'acousticness', 'instrumentalness', 'liveness', 'valence', 'tempo', 'time_signature', 'Popularity_bucket', 'duration_minutes']\n",
      "Deleted features : ['key']\n"
     ]
    }
   ],
   "source": [
    "# We use RFE Technique for feature selection\n",
    "\n",
    "from sklearn.feature_selection import RFE\n",
    "model = LogisticRegression()\n",
    "sel_3 = RFE(model, n_features_to_select=15)\n",
    "sel_3.fit(X_train, y_train)\n",
    "print('Selection of features :', sel_3.support_)\n",
    "print('Ranking of features :', sel_3.ranking_)\n",
    "print('Selected features :', list(X.columns[sel_3.support_]))\n",
    "print('Deleted features :', list(X.columns[~sel_3.support_]))"
   ]
  },
  {
   "cell_type": "code",
   "execution_count": 119,
   "id": "7b8a6d88",
   "metadata": {},
   "outputs": [
    {
     "name": "stdout",
     "output_type": "stream",
     "text": [
      "The training accuracy score is: 0.46161861757554706\n",
      "The test accuracy score is: 0.4576388888888889\n"
     ]
    }
   ],
   "source": [
    "# In here, we are training a logistic regression model on only selected features using fourth selector\n",
    "\n",
    "selected_features = list(X.columns[sel_3.support_])\n",
    "LogReg = LogisticRegression()\n",
    "LogReg.fit(X_train[selected_features], y_train)\n",
    "y_pred_LogReg_train = LogReg.predict(X_train[selected_features])\n",
    "y_pred_LogReg_test = LogReg.predict(X_test[selected_features])\n",
    "print('The training accuracy score is:', accuracy_score(y_train, y_pred_LogReg_train))\n",
    "print('The test accuracy score is:', accuracy_score(y_test, y_pred_LogReg_test))"
   ]
  },
  {
   "cell_type": "markdown",
   "id": "d29438a1",
   "metadata": {},
   "source": [
    "## Decision Tree Classifier"
   ]
  },
  {
   "cell_type": "code",
   "execution_count": 122,
   "id": "81e390a9",
   "metadata": {},
   "outputs": [
    {
     "name": "stdout",
     "output_type": "stream",
     "text": [
      "The training accuracy score is: 0.9373914553664466\n",
      "The test accuracy score is: 0.3260416666666667\n"
     ]
    }
   ],
   "source": [
    "# Train a decision tree classifier on all features\n",
    "\n",
    "from sklearn.tree import DecisionTreeClassifier\n",
    "Tree = DecisionTreeClassifier()\n",
    "Tree.fit(X_train, y_train)\n",
    "y_pred_Tree_train = Tree.predict(X_train)\n",
    "y_pred_Tree_test = Tree.predict(X_test)\n",
    "print('The training accuracy score is:', accuracy_score(y_train, y_pred_Tree_train))\n",
    "print('The test accuracy score is:', accuracy_score(y_test, y_pred_Tree_test))"
   ]
  },
  {
   "cell_type": "code",
   "execution_count": 123,
   "id": "3f1b45c2",
   "metadata": {},
   "outputs": [
    {
     "name": "stdout",
     "output_type": "stream",
     "text": [
      "The training accuracy score is: 0.9373914553664466\n",
      "The test accuracy score is: 0.31319444444444444\n"
     ]
    }
   ],
   "source": [
    "# Train a decision tree classifier on features selected using first selector\n",
    "\n",
    "selected_features = list(X.columns[sel_1.get_support()])\n",
    "Tree = DecisionTreeClassifier()\n",
    "Tree.fit(X_train[selected_features], y_train)\n",
    "y_pred_Tree_train = Tree.predict(X_train[selected_features])\n",
    "y_pred_Tree_test = Tree.predict(X_test[selected_features])\n",
    "print('The training accuracy score is:', accuracy_score(y_train, y_pred_Tree_train))\n",
    "print('The test accuracy score is:', accuracy_score(y_test, y_pred_Tree_test))"
   ]
  },
  {
   "cell_type": "code",
   "execution_count": 124,
   "id": "334759a4",
   "metadata": {},
   "outputs": [
    {
     "name": "stdout",
     "output_type": "stream",
     "text": [
      "The training accuracy score is: 0.9351337269885377\n",
      "The test accuracy score is: 0.30520833333333336\n"
     ]
    }
   ],
   "source": [
    "# Train a decision tree classifier on features selected using second selector\n",
    "\n",
    "selected_features = list(X.columns[sel_2.get_support()])\n",
    "Tree = DecisionTreeClassifier()\n",
    "Tree.fit(X_train[selected_features], y_train)\n",
    "y_pred_Tree_train = Tree.predict(X_train[selected_features])\n",
    "y_pred_Tree_test = Tree.predict(X_test[selected_features])\n",
    "print('The training accuracy score is:', accuracy_score(y_train, y_pred_Tree_train))\n",
    "print('The test accuracy score is:', accuracy_score(y_test, y_pred_Tree_test))"
   ]
  },
  {
   "cell_type": "code",
   "execution_count": 125,
   "id": "a4f5d137",
   "metadata": {},
   "outputs": [
    {
     "name": "stdout",
     "output_type": "stream",
     "text": [
      "The training accuracy score is: 0.9373914553664466\n",
      "The test accuracy score is: 0.3125\n"
     ]
    }
   ],
   "source": [
    "# Train a decision tree classifier on features selected using third selector\n",
    "\n",
    "all_features = set(X.columns)\n",
    "selected_features = list(all_features.difference(cf))\n",
    "Tree = DecisionTreeClassifier()\n",
    "Tree.fit(X_train[selected_features], y_train)\n",
    "y_pred_Tree_train = Tree.predict(X_train[selected_features])\n",
    "y_pred_Tree_test = Tree.predict(X_test[selected_features])\n",
    "print('The training accuracy score is:', accuracy_score(y_train, y_pred_Tree_train))\n",
    "print('The test accuracy score is:', accuracy_score(y_test, y_pred_Tree_test))"
   ]
  },
  {
   "cell_type": "code",
   "execution_count": 138,
   "id": "94aa8deb",
   "metadata": {},
   "outputs": [
    {
     "name": "stdout",
     "output_type": "stream",
     "text": [
      "Selection of features : [ True  True  True  True False  True False  True  True  True False  True\n",
      "  True False  True  True]\n",
      "Ranking of features : [1 1 1 1 3 1 4 1 1 1 2 1 1 5 1 1]\n",
      "Selected features : ['Artist Name', 'Track Name', 'danceability', 'energy', 'loudness', 'speechiness', 'acousticness', 'instrumentalness', 'valence', 'tempo', 'Popularity_bucket', 'duration_minutes']\n",
      "Deleted features : ['key', 'mode', 'liveness', 'time_signature']\n"
     ]
    }
   ],
   "source": [
    "# We use RFE Technique for feature selection\n",
    "\n",
    "model = DecisionTreeClassifier()\n",
    "sel_3 = RFE(model, n_features_to_select=12)\n",
    "sel_3.fit(X_train, y_train)\n",
    "print('Selection of features :', sel_3.support_)\n",
    "print('Ranking of features :', sel_3.ranking_)\n",
    "print('Selected features :', list(X.columns[sel_3.support_]))\n",
    "print('Deleted features :', list(X.columns[~sel_3.support_]))"
   ]
  },
  {
   "cell_type": "code",
   "execution_count": 144,
   "id": "77511871",
   "metadata": {},
   "outputs": [
    {
     "name": "stdout",
     "output_type": "stream",
     "text": [
      "The training accuracy score is: 0.9373914553664466\n",
      "The test accuracy score is: 0.33645833333333336\n"
     ]
    }
   ],
   "source": [
    "# Train a decision tree classifier on features selected using fourth selector\n",
    "\n",
    "selected_features = list(X.columns[sel_3.support_])\n",
    "Tree = DecisionTreeClassifier()\n",
    "Tree.fit(X_train[selected_features], y_train)\n",
    "y_pred_Tree_train = Tree.predict(X_train[selected_features])\n",
    "y_pred_Tree_test = Tree.predict(X_test[selected_features])\n",
    "print('The training accuracy score is:', accuracy_score(y_train, y_pred_Tree_train))\n",
    "print('The test accuracy score is:', accuracy_score(y_test, y_pred_Tree_test))"
   ]
  },
  {
   "cell_type": "markdown",
   "id": "5b0c985f",
   "metadata": {},
   "source": [
    "## Random Forest Classifier"
   ]
  },
  {
   "cell_type": "code",
   "execution_count": 145,
   "id": "8c2529e4",
   "metadata": {},
   "outputs": [
    {
     "name": "stdout",
     "output_type": "stream",
     "text": [
      "The training accuracy score is: 0.9373914553664466\n",
      "The test accuracy score is: 0.4809027777777778\n"
     ]
    }
   ],
   "source": [
    "# Train a random forest classifier on all features that we have\n",
    "\n",
    "from sklearn.ensemble import RandomForestClassifier\n",
    "Forest = RandomForestClassifier()\n",
    "Forest.fit(X_train, y_train)\n",
    "y_pred_Forest_train = Forest.predict(X_train)\n",
    "y_pred_Forest_test = Forest.predict(X_test)\n",
    "print('The training accuracy score is:', accuracy_score(y_train, y_pred_Forest_train))\n",
    "print('The test accuracy score is:', accuracy_score(y_test, y_pred_Forest_test))"
   ]
  },
  {
   "cell_type": "code",
   "execution_count": 146,
   "id": "52ff513b",
   "metadata": {},
   "outputs": [
    {
     "name": "stdout",
     "output_type": "stream",
     "text": [
      "The training accuracy score is: 0.9373914553664466\n",
      "The test accuracy score is: 0.4545138888888889\n"
     ]
    }
   ],
   "source": [
    "# Train a random forest classifier on selected features using first selector\n",
    "\n",
    "selected_features = list(X.columns[sel_1.get_support()])\n",
    "Forest = RandomForestClassifier()\n",
    "Forest.fit(X_train[selected_features], y_train)\n",
    "y_pred_Forest_train = Forest.predict(X_train[selected_features])\n",
    "y_pred_Forest_test = Forest.predict(X_test[selected_features])\n",
    "print('The training accuracy score is:', accuracy_score(y_train, y_pred_Forest_train))\n",
    "print('The test accuracy score is:', accuracy_score(y_test, y_pred_Forest_test))"
   ]
  },
  {
   "cell_type": "code",
   "execution_count": 147,
   "id": "9a64ff5a",
   "metadata": {},
   "outputs": [
    {
     "name": "stdout",
     "output_type": "stream",
     "text": [
      "The training accuracy score is: 0.9351337269885377\n",
      "The test accuracy score is: 0.4371527777777778\n"
     ]
    }
   ],
   "source": [
    "# Train a random forest classifier on selected features using second selector\n",
    "\n",
    "selected_features = list(X.columns[sel_2.get_support()])\n",
    "Forest = RandomForestClassifier()\n",
    "Forest.fit(X_train[selected_features], y_train)\n",
    "y_pred_Forest_train = Forest.predict(X_train[selected_features])\n",
    "y_pred_Forest_test = Forest.predict(X_test[selected_features])\n",
    "print('The training accuracy score is:', accuracy_score(y_train, y_pred_Forest_train))\n",
    "print('The test accuracy score is:', accuracy_score(y_test, y_pred_Forest_test))"
   ]
  },
  {
   "cell_type": "code",
   "execution_count": 176,
   "id": "8c14f861",
   "metadata": {},
   "outputs": [
    {
     "name": "stdout",
     "output_type": "stream",
     "text": [
      "The training accuracy score is: 0.9373914553664466\n",
      "The test accuracy score is: 0.44930555555555557\n"
     ]
    }
   ],
   "source": [
    "# Train a random forest classifier on selected features using third selector\n",
    "\n",
    "all_features = set(X.columns)\n",
    "selected_features = list(all_features.difference(cf))\n",
    "Forest = RandomForestClassifier()\n",
    "Forest.fit(X_train[selected_features], y_train)\n",
    "y_pred_Forest_train = Forest.predict(X_train[selected_features])\n",
    "y_pred_Forest_test = Forest.predict(X_test[selected_features])\n",
    "print('The training accuracy score is:', accuracy_score(y_train, y_pred_Forest_train))\n",
    "print('The test accuracy score is:', accuracy_score(y_test, y_pred_Forest_test))"
   ]
  },
  {
   "cell_type": "code",
   "execution_count": 161,
   "id": "416d5691",
   "metadata": {},
   "outputs": [
    {
     "name": "stdout",
     "output_type": "stream",
     "text": [
      "Selection of features : [ True  True  True  True False  True False  True  True  True  True  True\n",
      "  True False  True  True]\n",
      "Ranking of features : [1 1 1 1 2 1 3 1 1 1 1 1 1 4 1 1]\n",
      "Selected features : ['Artist Name', 'Track Name', 'danceability', 'energy', 'loudness', 'speechiness', 'acousticness', 'instrumentalness', 'liveness', 'valence', 'tempo', 'Popularity_bucket', 'duration_minutes']\n",
      "Deleted features : ['key', 'mode', 'time_signature']\n"
     ]
    }
   ],
   "source": [
    "# We use RFE Technique for feature selection\n",
    "\n",
    "model = RandomForestClassifier()\n",
    "sel_3 = RFE(model, n_features_to_select=13)\n",
    "sel_3.fit(X_train, y_train)\n",
    "print('Selection of features :', sel_3.support_)\n",
    "print('Ranking of features :', sel_3.ranking_)\n",
    "print('Selected features :', list(X.columns[sel_3.support_]))\n",
    "print('Deleted features :', list(X.columns[~sel_3.support_]))"
   ]
  },
  {
   "cell_type": "code",
   "execution_count": 162,
   "id": "eccea194",
   "metadata": {},
   "outputs": [
    {
     "name": "stdout",
     "output_type": "stream",
     "text": [
      "The training accuracy score is: 0.9373914553664466\n",
      "The test accuracy score is: 0.47118055555555555\n"
     ]
    }
   ],
   "source": [
    "# Train a random forest classifier on selected features using fourth selector\n",
    "\n",
    "selected_features = list(X.columns[sel_3.support_])\n",
    "Forest = RandomForestClassifier()\n",
    "Forest.fit(X_train[selected_features], y_train)\n",
    "y_pred_Forest_train = Forest.predict(X_train[selected_features])\n",
    "y_pred_Forest_test = Forest.predict(X_test[selected_features])\n",
    "print('The training accuracy score is:', accuracy_score(y_train, y_pred_Forest_train))\n",
    "print('The test accuracy score is:', accuracy_score(y_test, y_pred_Forest_test))"
   ]
  },
  {
   "cell_type": "markdown",
   "id": "73bba8cd",
   "metadata": {},
   "source": [
    "## Support Vector Machines (SVM)"
   ]
  },
  {
   "cell_type": "code",
   "execution_count": 163,
   "id": "b51bc0e2",
   "metadata": {},
   "outputs": [
    {
     "name": "stdout",
     "output_type": "stream",
     "text": [
      "The training accuracy score is: 0.544112539076068\n",
      "The test accuracy score is: 0.4909722222222222\n"
     ]
    }
   ],
   "source": [
    "# Train an SVM model on all features\n",
    "\n",
    "from sklearn.svm import SVC\n",
    "svm = SVC()\n",
    "svm.fit(X_train, y_train)\n",
    "y_pred_svm_train = svm.predict(X_train)\n",
    "y_pred_svm_test = svm.predict(X_test)\n",
    "print('The training accuracy score is:', accuracy_score(y_train, y_pred_svm_train))\n",
    "print('The test accuracy score is:', accuracy_score(y_test, y_pred_svm_test))"
   ]
  },
  {
   "cell_type": "code",
   "execution_count": 164,
   "id": "62d7e958",
   "metadata": {},
   "outputs": [
    {
     "name": "stdout",
     "output_type": "stream",
     "text": [
      "The training accuracy score is: 0.5280479333101772\n",
      "The test accuracy score is: 0.46597222222222223\n"
     ]
    }
   ],
   "source": [
    "# Train an SVM model on selected features using first selector\n",
    "\n",
    "selected_features = list(X.columns[sel_1.get_support()])\n",
    "svm = SVC()\n",
    "svm.fit(X_train[selected_features], y_train)\n",
    "y_pred_svm_train = svm.predict(X_train[selected_features])\n",
    "y_pred_svm_test = svm.predict(X_test[selected_features])\n",
    "print('The training accuracy score is:', accuracy_score(y_train, y_pred_svm_train))\n",
    "print('The test accuracy score is:', accuracy_score(y_test, y_pred_svm_test))"
   ]
  },
  {
   "cell_type": "code",
   "execution_count": 165,
   "id": "064fb953",
   "metadata": {},
   "outputs": [
    {
     "name": "stdout",
     "output_type": "stream",
     "text": [
      "The training accuracy score is: 0.4839353942341091\n",
      "The test accuracy score is: 0.47708333333333336\n"
     ]
    }
   ],
   "source": [
    "# Train an SVM model on selected features using second selector\n",
    "\n",
    "selected_features = list(X.columns[sel_2.get_support()])\n",
    "svm = SVC()\n",
    "svm.fit(X_train[selected_features], y_train)\n",
    "y_pred_svm_train = svm.predict(X_train[selected_features])\n",
    "y_pred_svm_test = svm.predict(X_test[selected_features])\n",
    "print('The training accuracy score is:', accuracy_score(y_train, y_pred_svm_train))\n",
    "print('The test accuracy score is:', accuracy_score(y_test, y_pred_svm_test))"
   ]
  },
  {
   "cell_type": "code",
   "execution_count": 177,
   "id": "04aa7190",
   "metadata": {},
   "outputs": [
    {
     "name": "stdout",
     "output_type": "stream",
     "text": [
      "The training accuracy score is: 0.52257728377909\n",
      "The test accuracy score is: 0.4597222222222222\n"
     ]
    }
   ],
   "source": [
    "# Train an SVM model on selected features using third selector\n",
    "\n",
    "all_features = set(X.columns)\n",
    "selected_features = list(all_features.difference(cf))\n",
    "svm = SVC()\n",
    "svm.fit(X_train[selected_features], y_train)\n",
    "y_pred_svm_train = svm.predict(X_train[selected_features])\n",
    "y_pred_svm_test = svm.predict(X_test[selected_features])\n",
    "print('The training accuracy score is:', accuracy_score(y_train, y_pred_svm_train))\n",
    "print('The test accuracy score is:', accuracy_score(y_test, y_pred_svm_test))"
   ]
  },
  {
   "cell_type": "markdown",
   "id": "e8f51705",
   "metadata": {},
   "source": [
    "## K-Neighbors Classifier"
   ]
  },
  {
   "cell_type": "code",
   "execution_count": 169,
   "id": "8980a727",
   "metadata": {},
   "outputs": [
    {
     "data": {
      "image/png": "[encoded data removed]",
      "text/plain": [
       "<Figure size 640x480 with 1 Axes>"
      ]
     },
     "metadata": {},
     "output_type": "display_data"
    }
   ],
   "source": [
    "# Try a set of n_neighbors to extract the best value for this hyperparameter\n",
    "\n",
    "from sklearn.neighbors import KNeighborsClassifier\n",
    "n_neighbors = [i for i in range(1, 50, 2)]\n",
    "test_accuracy = []\n",
    "for neighbor in n_neighbors:\n",
    "    neighbor = KNeighborsClassifier(n_neighbors=neighbor)\n",
    "    neighbor.fit(X_train, y_train)\n",
    "    y_pred_neighbor = neighbor.predict(X_test)\n",
    "    test_accuracy.append(accuracy_score(y_test, y_pred_neighbor))\n",
    "    \n",
    "plt.plot(n_neighbors, test_accuracy)\n",
    "plt.show()"
   ]
  },
  {
   "cell_type": "markdown",
   "id": "8f24f242",
   "metadata": {},
   "source": [
    "So, it looks that the best n_neighbors hyperparameter is 27 which gives the highest test accuracy."
   ]
  },
  {
   "cell_type": "code",
   "execution_count": 170,
   "id": "daa65ef8",
   "metadata": {},
   "outputs": [
    {
     "name": "stdout",
     "output_type": "stream",
     "text": [
      "The training accuracy score is: 0.4880166724557138\n",
      "The test accuracy score is: 0.44583333333333336\n"
     ]
    }
   ],
   "source": [
    "# Train a k_neighbors classifier on all features\n",
    "\n",
    "neighbor = KNeighborsClassifier(n_neighbors=27)\n",
    "neighbor.fit(X_train, y_train)\n",
    "y_pred_neighbor_train = neighbor.predict(X_train)\n",
    "y_pred_neighbor_test = neighbor.predict(X_test)\n",
    "print('The training accuracy score is:', accuracy_score(y_train, y_pred_neighbor_train))\n",
    "print('The test accuracy score is:', accuracy_score(y_test, y_pred_neighbor_test))"
   ]
  },
  {
   "cell_type": "code",
   "execution_count": 173,
   "id": "1b6e2031",
   "metadata": {},
   "outputs": [
    {
     "name": "stdout",
     "output_type": "stream",
     "text": [
      "The training accuracy score is: 0.4645710316081973\n",
      "The test accuracy score is: 0.41770833333333335\n"
     ]
    }
   ],
   "source": [
    "# Train a k_neighbors classifier on selected features using first selector\n",
    "\n",
    "selected_features = list(X.columns[sel_1.get_support()])\n",
    "neighbor = KNeighborsClassifier(n_neighbors=27)\n",
    "neighbor.fit(X_train[selected_features], y_train)\n",
    "y_pred_neighbor_train = neighbor.predict(X_train[selected_features])\n",
    "y_pred_neighbor_test = neighbor.predict(X_test[selected_features])\n",
    "print('The training accuracy score is:', accuracy_score(y_train, y_pred_neighbor_train))\n",
    "print('The test accuracy score is:', accuracy_score(y_test, y_pred_neighbor_test))"
   ]
  },
  {
   "cell_type": "code",
   "execution_count": 174,
   "id": "b6867848",
   "metadata": {},
   "outputs": [
    {
     "name": "stdout",
     "output_type": "stream",
     "text": [
      "The training accuracy score is: 0.4848037513025356\n",
      "The test accuracy score is: 0.44548611111111114\n"
     ]
    }
   ],
   "source": [
    "# Train a k_neighbors classifier on selected features using second selector\n",
    "\n",
    "selected_features = list(X.columns[sel_2.get_support()])\n",
    "neighbor = KNeighborsClassifier(n_neighbors=27)\n",
    "neighbor.fit(X_train[selected_features], y_train)\n",
    "y_pred_neighbor_train = neighbor.predict(X_train[selected_features])\n",
    "y_pred_neighbor_test = neighbor.predict(X_test[selected_features])\n",
    "print('The training accuracy score is:', accuracy_score(y_train, y_pred_neighbor_train))\n",
    "print('The test accuracy score is:', accuracy_score(y_test, y_pred_neighbor_test))"
   ]
  },
  {
   "cell_type": "code",
   "execution_count": 178,
   "id": "b3c9ccc9",
   "metadata": {},
   "outputs": [
    {
     "name": "stdout",
     "output_type": "stream",
     "text": [
      "The training accuracy score is: 0.4681312955887461\n",
      "The test accuracy score is: 0.4184027777777778\n"
     ]
    }
   ],
   "source": [
    "# Train a k_neighbors classifier on selected features using third selector\n",
    "\n",
    "all_features = set(X.columns)\n",
    "selected_features = list(all_features.difference(cf))\n",
    "neighbor = KNeighborsClassifier(n_neighbors=27)\n",
    "neighbor.fit(X_train[selected_features], y_train)\n",
    "y_pred_neighbor_train = neighbor.predict(X_train[selected_features])\n",
    "y_pred_neighbor_test = neighbor.predict(X_test[selected_features])\n",
    "print('The training accuracy score is:', accuracy_score(y_train, y_pred_neighbor_train))\n",
    "print('The test accuracy score is:', accuracy_score(y_test, y_pred_neighbor_test))"
   ]
  },
  {
   "cell_type": "markdown",
   "id": "c85508f2",
   "metadata": {},
   "source": [
    "## Gaussian Naive Bayes"
   ]
  },
  {
   "cell_type": "code",
   "execution_count": 181,
   "id": "08562aae",
   "metadata": {},
   "outputs": [
    {
     "name": "stdout",
     "output_type": "stream",
     "text": [
      "The training accuracy score is: 0.3644494616186176\n",
      "The test accuracy score is: 0.38090277777777776\n"
     ]
    }
   ],
   "source": [
    "# Train a Gaussian NB model on all features\n",
    "\n",
    "from sklearn.naive_bayes import GaussianNB\n",
    "gaussian = GaussianNB()\n",
    "gaussian.fit(X_train, y_train)\n",
    "y_pred_gaussian_train = gaussian.predict(X_train)\n",
    "y_pred_gaussian_test = gaussian.predict(X_test)\n",
    "print('The training accuracy score is:', accuracy_score(y_train, y_pred_gaussian_train))\n",
    "print('The test accuracy score is:', accuracy_score(y_test, y_pred_gaussian_test))"
   ]
  },
  {
   "cell_type": "code",
   "execution_count": 182,
   "id": "3f12ac79",
   "metadata": {},
   "outputs": [
    {
     "name": "stdout",
     "output_type": "stream",
     "text": [
      "The training accuracy score is: 0.3410038207711011\n",
      "The test accuracy score is: 0.36041666666666666\n"
     ]
    }
   ],
   "source": [
    "# Train a Gaussian NB model on selected features using first selector\n",
    "\n",
    "selected_features = list(X.columns[sel_1.get_support()])\n",
    "gaussian = GaussianNB()\n",
    "gaussian.fit(X_train[selected_features], y_train)\n",
    "y_pred_gaussian_train = gaussian.predict(X_train[selected_features])\n",
    "y_pred_gaussian_test = gaussian.predict(X_test[selected_features])\n",
    "print('The training accuracy score is:', accuracy_score(y_train, y_pred_gaussian_train))\n",
    "print('The test accuracy score is:', accuracy_score(y_test, y_pred_gaussian_test))"
   ]
  },
  {
   "cell_type": "code",
   "execution_count": 183,
   "id": "e676b868",
   "metadata": {},
   "outputs": [
    {
     "name": "stdout",
     "output_type": "stream",
     "text": [
      "The training accuracy score is: 0.37122264675234456\n",
      "The test accuracy score is: 0.3840277777777778\n"
     ]
    }
   ],
   "source": [
    "# Train a Gaussian NB model on selected features using second selector\n",
    "\n",
    "selected_features = list(X.columns[sel_2.get_support()])\n",
    "gaussian = GaussianNB()\n",
    "gaussian.fit(X_train[selected_features], y_train)\n",
    "y_pred_gaussian_train = gaussian.predict(X_train[selected_features])\n",
    "y_pred_gaussian_test = gaussian.predict(X_test[selected_features])\n",
    "print('The training accuracy score is:', accuracy_score(y_train, y_pred_gaussian_train))\n",
    "print('The test accuracy score is:', accuracy_score(y_test, y_pred_gaussian_test))"
   ]
  },
  {
   "cell_type": "code",
   "execution_count": 184,
   "id": "cccca957",
   "metadata": {},
   "outputs": [
    {
     "name": "stdout",
     "output_type": "stream",
     "text": [
      "The training accuracy score is: 0.3399617922889892\n",
      "The test accuracy score is: 0.35555555555555557\n"
     ]
    }
   ],
   "source": [
    "# Train a Gaussian NB model on selected features using third selector\n",
    "\n",
    "all_features = set(X.columns)\n",
    "selected_features = list(all_features.difference(cf))\n",
    "gaussian = GaussianNB()\n",
    "gaussian.fit(X_train[selected_features], y_train)\n",
    "y_pred_gaussian_train = gaussian.predict(X_train[selected_features])\n",
    "y_pred_gaussian_test = gaussian.predict(X_test[selected_features])\n",
    "print('The training accuracy score is:', accuracy_score(y_train, y_pred_gaussian_train))\n",
    "print('The test accuracy score is:', accuracy_score(y_test, y_pred_gaussian_test))"
   ]
  },
  {
   "cell_type": "markdown",
   "id": "72753ac4",
   "metadata": {},
   "source": [
    "## Linear SVC"
   ]
  },
  {
   "cell_type": "code",
   "execution_count": 186,
   "id": "b56b7bb6",
   "metadata": {},
   "outputs": [
    {
     "name": "stdout",
     "output_type": "stream",
     "text": [
      "The training accuracy score is: 0.44815908301493573\n",
      "The test accuracy score is: 0.453125\n"
     ]
    }
   ],
   "source": [
    "# Train a Linear SVC model on all features\n",
    "\n",
    "from sklearn.svm import LinearSVC\n",
    "linear_svm = LinearSVC()\n",
    "linear_svm.fit(X_train, y_train)\n",
    "y_pred_linear_svm_train = linear_svm.predict(X_train)\n",
    "y_pred_linear_svm_test = linear_svm.predict(X_test)\n",
    "print('The training accuracy score is:', accuracy_score(y_train, y_pred_linear_svm_train))\n",
    "print('The test accuracy score is:', accuracy_score(y_test, y_pred_linear_svm_test))"
   ]
  },
  {
   "cell_type": "code",
   "execution_count": 188,
   "id": "417a702d",
   "metadata": {},
   "outputs": [
    {
     "name": "stdout",
     "output_type": "stream",
     "text": [
      "The training accuracy score is: 0.4248002778742619\n",
      "The test accuracy score is: 0.4236111111111111\n"
     ]
    }
   ],
   "source": [
    "# Train a Linear SVC model on selected features using first selector\n",
    "\n",
    "selected_features = list(X.columns[sel_1.get_support()])\n",
    "linear_svm = LinearSVC()\n",
    "linear_svm.fit(X_train[selected_features], y_train)\n",
    "y_pred_linear_svm_train = linear_svm.predict(X_train[selected_features])\n",
    "y_pred_linear_svm_test = linear_svm.predict(X_test[selected_features])\n",
    "print('The training accuracy score is:', accuracy_score(y_train, y_pred_linear_svm_train))\n",
    "print('The test accuracy score is:', accuracy_score(y_test, y_pred_linear_svm_test))"
   ]
  },
  {
   "cell_type": "code",
   "execution_count": 189,
   "id": "85d4ff8d",
   "metadata": {},
   "outputs": [
    {
     "name": "stdout",
     "output_type": "stream",
     "text": [
      "The training accuracy score is: 0.4372177839527614\n",
      "The test accuracy score is: 0.43194444444444446\n"
     ]
    }
   ],
   "source": [
    "# Train a Linear SVC model on selected features using second selector\n",
    "\n",
    "selected_features = list(X.columns[sel_2.get_support()])\n",
    "linear_svm = LinearSVC()\n",
    "linear_svm.fit(X_train[selected_features], y_train)\n",
    "y_pred_linear_svm_train = linear_svm.predict(X_train[selected_features])\n",
    "y_pred_linear_svm_test = linear_svm.predict(X_test[selected_features])\n",
    "print('The training accuracy score is:', accuracy_score(y_train, y_pred_linear_svm_train))\n",
    "print('The test accuracy score is:', accuracy_score(y_test, y_pred_linear_svm_test))"
   ]
  },
  {
   "cell_type": "code",
   "execution_count": 190,
   "id": "f3c06c61",
   "metadata": {},
   "outputs": [
    {
     "name": "stdout",
     "output_type": "stream",
     "text": [
      "The training accuracy score is: 0.428534213268496\n",
      "The test accuracy score is: 0.4329861111111111\n"
     ]
    }
   ],
   "source": [
    "# Train a Linear SVC model on selected features using third selector\n",
    "\n",
    "all_features = set(X.columns)\n",
    "selected_features = list(all_features.difference(cf))\n",
    "linear_svm = LinearSVC()\n",
    "linear_svm.fit(X_train[selected_features], y_train)\n",
    "y_pred_linear_svm_train = linear_svm.predict(X_train[selected_features])\n",
    "y_pred_linear_svm_test = linear_svm.predict(X_test[selected_features])\n",
    "print('The training accuracy score is:', accuracy_score(y_train, y_pred_linear_svm_train))\n",
    "print('The test accuracy score is:', accuracy_score(y_test, y_pred_linear_svm_test))"
   ]
  },
  {
   "cell_type": "code",
   "execution_count": 195,
   "id": "0686c924",
   "metadata": {},
   "outputs": [
    {
     "name": "stdout",
     "output_type": "stream",
     "text": [
      "Selection of features : [ True  True  True  True False  True  True  True  True  True False  True\n",
      "  True  True  True  True]\n",
      "Ranking of features : [1 1 1 1 3 1 1 1 1 1 2 1 1 1 1 1]\n",
      "Selected features : ['Artist Name', 'Track Name', 'danceability', 'energy', 'loudness', 'mode', 'speechiness', 'acousticness', 'instrumentalness', 'valence', 'tempo', 'time_signature', 'Popularity_bucket', 'duration_minutes']\n",
      "Deleted features : ['key', 'liveness']\n"
     ]
    }
   ],
   "source": [
    "# We use RFE Technique for feature selection\n",
    "\n",
    "model = LinearSVC()\n",
    "sel_3 = RFE(model, n_features_to_select=14)\n",
    "sel_3.fit(X_train, y_train)\n",
    "print('Selection of features :', sel_3.support_)\n",
    "print('Ranking of features :', sel_3.ranking_)\n",
    "print('Selected features :', list(X.columns[sel_3.support_]))\n",
    "print('Deleted features :', list(X.columns[~sel_3.support_]))"
   ]
  },
  {
   "cell_type": "code",
   "execution_count": 196,
   "id": "1e36c97c",
   "metadata": {},
   "outputs": [
    {
     "name": "stdout",
     "output_type": "stream",
     "text": [
      "The training accuracy score is: 0.4486800972559917\n",
      "The test accuracy score is: 0.4482638888888889\n"
     ]
    }
   ],
   "source": [
    "# Train a Linear SVC model on selected features using fourth selector\n",
    "\n",
    "selected_features = list(X.columns[sel_3.support_])\n",
    "linear_svm = LinearSVC()\n",
    "linear_svm.fit(X_train[selected_features], y_train)\n",
    "y_pred_linear_svm_train = linear_svm.predict(X_train[selected_features])\n",
    "y_pred_linear_svm_test = linear_svm.predict(X_test[selected_features])\n",
    "print('The training accuracy score is:', accuracy_score(y_train, y_pred_linear_svm_train))\n",
    "print('The test accuracy score is:', accuracy_score(y_test, y_pred_linear_svm_test))"
   ]
  },
  {
   "cell_type": "markdown",
   "id": "2fd934c7",
   "metadata": {},
   "source": [
    "## Gradient Boosting Classifier"
   ]
  },
  {
   "cell_type": "code",
   "execution_count": 28,
   "id": "8d1101bc",
   "metadata": {},
   "outputs": [
    {
     "name": "stdout",
     "output_type": "stream",
     "text": [
      "The training accuracy score is: 0.6224383466481417\n",
      "The test accuracy score is: 0.5246527777777777\n"
     ]
    }
   ],
   "source": [
    "# Train a gradient boosting model on all features\n",
    "\n",
    "from sklearn.ensemble import GradientBoostingClassifier\n",
    "gb_clf = GradientBoostingClassifier()\n",
    "gb_clf.fit(X_train, y_train)\n",
    "y_pred_gb_clf_train = gb_clf.predict(X_train)\n",
    "y_pred_gb_clf_test = gb_clf.predict(X_test)\n",
    "print('The training accuracy score is:', accuracy_score(y_train, y_pred_gb_clf_train))\n",
    "print('The test accuracy score is:', accuracy_score(y_test, y_pred_gb_clf_test))"
   ]
  },
  {
   "cell_type": "code",
   "execution_count": 29,
   "id": "7cfbc364",
   "metadata": {},
   "outputs": [
    {
     "name": "stdout",
     "output_type": "stream",
     "text": [
      "The training accuracy score is: 0.6064605765890935\n",
      "The test accuracy score is: 0.5107638888888889\n"
     ]
    }
   ],
   "source": [
    "# Train a gradient boosting model on selected features using first selector\n",
    "\n",
    "selected_features = list(X.columns[sel_1.get_support()])\n",
    "gb_clf = GradientBoostingClassifier()\n",
    "gb_clf.fit(X_train[selected_features], y_train)\n",
    "y_pred_gb_clf_train = gb_clf.predict(X_train[selected_features])\n",
    "y_pred_gb_clf_test = gb_clf.predict(X_test[selected_features])\n",
    "print('The training accuracy score is:', accuracy_score(y_train, y_pred_gb_clf_train))\n",
    "print('The test accuracy score is:', accuracy_score(y_test, y_pred_gb_clf_test))"
   ]
  },
  {
   "cell_type": "code",
   "execution_count": 30,
   "id": "a8906258",
   "metadata": {},
   "outputs": [
    {
     "name": "stdout",
     "output_type": "stream",
     "text": [
      "The training accuracy score is: 0.5726814866273011\n",
      "The test accuracy score is: 0.490625\n"
     ]
    }
   ],
   "source": [
    "# Train a gradient boosting model on selected features using second selector\n",
    "\n",
    "selected_features = list(X.columns[sel_2.get_support()])\n",
    "gb_clf = GradientBoostingClassifier()\n",
    "gb_clf.fit(X_train[selected_features], y_train)\n",
    "y_pred_gb_clf_train = gb_clf.predict(X_train[selected_features])\n",
    "y_pred_gb_clf_test = gb_clf.predict(X_test[selected_features])\n",
    "print('The training accuracy score is:', accuracy_score(y_train, y_pred_gb_clf_train))\n",
    "print('The test accuracy score is:', accuracy_score(y_test, y_pred_gb_clf_test))"
   ]
  },
  {
   "cell_type": "code",
   "execution_count": 31,
   "id": "9cb21691",
   "metadata": {},
   "outputs": [
    {
     "name": "stdout",
     "output_type": "stream",
     "text": [
      "The training accuracy score is: 0.6094129906217437\n",
      "The test accuracy score is: 0.496875\n"
     ]
    }
   ],
   "source": [
    "# Train a gradient boosting model on selected features using third selector\n",
    "\n",
    "all_features = set(X.columns)\n",
    "selected_features = list(all_features.difference(cf))\n",
    "gb_clf = GradientBoostingClassifier()\n",
    "gb_clf.fit(X_train[selected_features], y_train)\n",
    "y_pred_gb_clf_train = gb_clf.predict(X_train[selected_features])\n",
    "y_pred_gb_clf_test = gb_clf.predict(X_test[selected_features])\n",
    "print('The training accuracy score is:', accuracy_score(y_train, y_pred_gb_clf_train))\n",
    "print('The test accuracy score is:', accuracy_score(y_test, y_pred_gb_clf_test))"
   ]
  },
  {
   "cell_type": "code",
   "execution_count": 41,
   "id": "89da6044",
   "metadata": {},
   "outputs": [
    {
     "name": "stdout",
     "output_type": "stream",
     "text": [
      "Selection of features : [ True  True  True  True False  True False  True  True  True  True  True\n",
      "  True  True  True  True]\n",
      "Ranking of features : [1 1 1 1 2 1 3 1 1 1 1 1 1 1 1 1]\n",
      "Selected features : ['Artist Name', 'Track Name', 'danceability', 'energy', 'loudness', 'speechiness', 'acousticness', 'instrumentalness', 'liveness', 'valence', 'tempo', 'time_signature', 'Popularity_bucket', 'duration_minutes']\n",
      "Deleted features : ['key', 'mode']\n"
     ]
    }
   ],
   "source": [
    "# We use RFE Technique for feature selection\n",
    "\n",
    "model = GradientBoostingClassifier()\n",
    "sel_3 = RFE(model, n_features_to_select=14)\n",
    "sel_3.fit(X_train, y_train)\n",
    "print('Selection of features :', sel_3.support_)\n",
    "print('Ranking of features :', sel_3.ranking_)\n",
    "print('Selected features :', list(X.columns[sel_3.support_]))\n",
    "print('Deleted features :', list(X.columns[~sel_3.support_]))"
   ]
  },
  {
   "cell_type": "code",
   "execution_count": 42,
   "id": "ee0ff5a1",
   "metadata": {},
   "outputs": [
    {
     "name": "stdout",
     "output_type": "stream",
     "text": [
      "The training accuracy score is: 0.6207884682181313\n",
      "The test accuracy score is: 0.5225694444444444\n"
     ]
    }
   ],
   "source": [
    "# Train a gradient boosting model on selected features using fourth selector\n",
    "\n",
    "selected_features = list(X.columns[sel_3.support_])\n",
    "gb_clf = GradientBoostingClassifier()\n",
    "gb_clf.fit(X_train[selected_features], y_train)\n",
    "y_pred_gb_clf_train = gb_clf.predict(X_train[selected_features])\n",
    "y_pred_gb_clf_test = gb_clf.predict(X_test[selected_features])\n",
    "print('The training accuracy score is:', accuracy_score(y_train, y_pred_gb_clf_train))\n",
    "print('The test accuracy score is:', accuracy_score(y_test, y_pred_gb_clf_test))"
   ]
  },
  {
   "cell_type": "markdown",
   "id": "2463e76e",
   "metadata": {},
   "source": [
    "## Stochastic Gradient Descent Classifier"
   ]
  },
  {
   "cell_type": "code",
   "execution_count": 43,
   "id": "64b5ef2e",
   "metadata": {},
   "outputs": [
    {
     "name": "stdout",
     "output_type": "stream",
     "text": [
      "The training accuracy score is: 0.39657867315039946\n",
      "The test accuracy score is: 0.4010416666666667\n"
     ]
    }
   ],
   "source": [
    "# Train a stochastic gradient descent model on all features\n",
    "\n",
    "from sklearn.linear_model import SGDClassifier\n",
    "sgd_clf = SGDClassifier()\n",
    "sgd_clf.fit(X_train, y_train)\n",
    "y_pred_sgd_clf_train = sgd_clf.predict(X_train)\n",
    "y_pred_sgd_clf_test = sgd_clf.predict(X_test)\n",
    "print('The training accuracy score is:', accuracy_score(y_train, y_pred_sgd_clf_train))\n",
    "print('The test accuracy score is:', accuracy_score(y_test, y_pred_sgd_clf_test))"
   ]
  },
  {
   "cell_type": "code",
   "execution_count": 44,
   "id": "8d56db8c",
   "metadata": {},
   "outputs": [
    {
     "name": "stdout",
     "output_type": "stream",
     "text": [
      "The training accuracy score is: 0.3375303924973949\n",
      "The test accuracy score is: 0.3388888888888889\n"
     ]
    }
   ],
   "source": [
    "# Train a stochastic gradient descent model on selected features using first selector\n",
    "\n",
    "selected_features = list(X.columns[sel_1.get_support()])\n",
    "sgd_clf = SGDClassifier()\n",
    "sgd_clf.fit(X_train[selected_features], y_train)\n",
    "y_pred_sgd_clf_train = sgd_clf.predict(X_train[selected_features])\n",
    "y_pred_sgd_clf_test = sgd_clf.predict(X_test[selected_features])\n",
    "print('The training accuracy score is:', accuracy_score(y_train, y_pred_sgd_clf_train))\n",
    "print('The test accuracy score is:', accuracy_score(y_test, y_pred_sgd_clf_test))"
   ]
  },
  {
   "cell_type": "code",
   "execution_count": 45,
   "id": "d190b151",
   "metadata": {},
   "outputs": [
    {
     "name": "stdout",
     "output_type": "stream",
     "text": [
      "The training accuracy score is: 0.38494268843348384\n",
      "The test accuracy score is: 0.3888888888888889\n"
     ]
    }
   ],
   "source": [
    "# Train a stochastic gradient descent model on selected features using second selector\n",
    "\n",
    "selected_features = list(X.columns[sel_2.get_support()])\n",
    "sgd_clf = SGDClassifier()\n",
    "sgd_clf.fit(X_train[selected_features], y_train)\n",
    "y_pred_sgd_clf_train = sgd_clf.predict(X_train[selected_features])\n",
    "y_pred_sgd_clf_test = sgd_clf.predict(X_test[selected_features])\n",
    "print('The training accuracy score is:', accuracy_score(y_train, y_pred_sgd_clf_train))\n",
    "print('The test accuracy score is:', accuracy_score(y_test, y_pred_sgd_clf_test))"
   ]
  },
  {
   "cell_type": "code",
   "execution_count": 46,
   "id": "e28f736e",
   "metadata": {},
   "outputs": [
    {
     "name": "stdout",
     "output_type": "stream",
     "text": [
      "The training accuracy score is: 0.3469954845432442\n",
      "The test accuracy score is: 0.3486111111111111\n"
     ]
    }
   ],
   "source": [
    "# Train a stochastic gradient descent model on selected features using third selector\n",
    "\n",
    "all_features = set(X.columns)\n",
    "selected_features = list(all_features.difference(cf))\n",
    "sgd_clf = SGDClassifier()\n",
    "sgd_clf.fit(X_train[selected_features], y_train)\n",
    "y_pred_sgd_clf_train = sgd_clf.predict(X_train[selected_features])\n",
    "y_pred_sgd_clf_test = sgd_clf.predict(X_test[selected_features])\n",
    "print('The training accuracy score is:', accuracy_score(y_train, y_pred_sgd_clf_train))\n",
    "print('The test accuracy score is:', accuracy_score(y_test, y_pred_sgd_clf_test))"
   ]
  },
  {
   "cell_type": "code",
   "execution_count": 48,
   "id": "fbbb5975",
   "metadata": {},
   "outputs": [
    {
     "name": "stdout",
     "output_type": "stream",
     "text": [
      "Selection of features : [ True False  True  True  True  True  True  True  True  True  True  True\n",
      "  True  True  True  True]\n",
      "Ranking of features : [1 2 1 1 1 1 1 1 1 1 1 1 1 1 1 1]\n",
      "Selected features : ['Artist Name', 'danceability', 'energy', 'key', 'loudness', 'mode', 'speechiness', 'acousticness', 'instrumentalness', 'liveness', 'valence', 'tempo', 'time_signature', 'Popularity_bucket', 'duration_minutes']\n",
      "Deleted features : ['Track Name']\n"
     ]
    }
   ],
   "source": [
    "# We use RFE Technique for feature selection\n",
    "\n",
    "model = SGDClassifier()\n",
    "sel_3 = RFE(model, n_features_to_select=15)\n",
    "sel_3.fit(X_train, y_train)\n",
    "print('Selection of features :', sel_3.support_)\n",
    "print('Ranking of features :', sel_3.ranking_)\n",
    "print('Selected features :', list(X.columns[sel_3.support_]))\n",
    "print('Deleted features :', list(X.columns[~sel_3.support_]))"
   ]
  },
  {
   "cell_type": "code",
   "execution_count": null,
   "id": "0b28894c",
   "metadata": {},
   "outputs": [],
   "source": []
  },
  {
   "cell_type": "code",
   "execution_count": null,
   "id": "63dadd43",
   "metadata": {},
   "outputs": [],
   "source": []
  },
  {
   "cell_type": "code",
   "execution_count": 157,
   "id": "60fda68a",
   "metadata": {},
   "outputs": [
    {
     "name": "stdout",
     "output_type": "stream",
     "text": [
      "The accuracy score is: 0.32708333333333334\n"
     ]
    }
   ],
   "source": [
    "from sklearn.linear_model import Perceptron\n",
    "perceptron_clf = Perceptron()\n",
    "perceptron_clf.fit(X_train, y_train)\n",
    "y_pred_perceptron_clf = perceptron_clf.predict(X_test)\n",
    "print('The accuracy score is:', accuracy_score(y_test, y_pred_perceptron_clf))"
   ]
  },
  {
   "cell_type": "code",
   "execution_count": 176,
   "id": "2be99c2d",
   "metadata": {},
   "outputs": [
    {
     "name": "stdout",
     "output_type": "stream",
     "text": [
      "The accuracy score is: 0.5409722222222222\n"
     ]
    }
   ],
   "source": [
    "from skmultilearn.problem_transform import BinaryRelevance\n",
    "classifier = BinaryRelevance(classifier=GradientBoostingClassifier(), require_dense=[False, True])\n",
    "X_train = np.array(X_train)\n",
    "y_train = np.array(y_train)\n",
    "X_test = np.array(X_test)\n",
    "y_test = np.array(y_test)\n",
    "classifier.fit(X_train, y_train)\n",
    "y_pred_classifier = classifier.predict(X_test)\n",
    "print('The accuracy score is:', accuracy_score(y_test, y_pred_classifier.toarray()))"
   ]
  },
  {
   "cell_type": "code",
   "execution_count": 185,
   "id": "53069dc4",
   "metadata": {},
   "outputs": [
    {
     "name": "stdout",
     "output_type": "stream",
     "text": [
      "Cross Validation Scores : [0.55972222 0.54513889 0.55       0.54861111 0.51527778 0.52638889\n",
      " 0.53787352 0.53161918 0.55733148 0.55246699]\n",
      "Average CV Score : 0.5424430063315574\n"
     ]
    }
   ],
   "source": [
    "from sklearn.model_selection import KFold, cross_val_score\n",
    "k_folds = KFold(n_splits=10)\n",
    "cv_scores = cross_val_score(gb_clf, X, y, cv=k_folds, scoring='accuracy')\n",
    "print('Cross Validation Scores :', cv_scores)\n",
    "print('Average CV Score :', cv_scores.mean())"
   ]
  },
  {
   "cell_type": "code",
   "execution_count": 192,
   "id": "615e9925",
   "metadata": {},
   "outputs": [
    {
     "data": {
      "text/plain": [
       "32"
      ]
     },
     "execution_count": 192,
     "metadata": {},
     "output_type": "execute_result"
    }
   ],
   "source": [
    "Popularity_Q1 = np.quantile(train_df['Popularity'], .25)\n",
    "Popularity_Q3 = np.quantile(train_df['Popularity'], .75)\n",
    "Popularity_IQR = Popularity_Q3 - Popularity_Q1\n",
    "Popularity_outliers = train_df[(train_df['Popularity'] < Popularity_Q1 - 1.5 * Popularity_IQR) | (train_df['Popularity'] > Popularity_Q3 + 1.5 * Popularity_IQR)]\n",
    "len(Popularity_outliers)"
   ]
  },
  {
   "cell_type": "code",
   "execution_count": 193,
   "id": "b644de5e",
   "metadata": {},
   "outputs": [
    {
     "data": {
      "text/plain": [
       "29"
      ]
     },
     "execution_count": 193,
     "metadata": {},
     "output_type": "execute_result"
    }
   ],
   "source": [
    "Danceability_Q1 = np.quantile(train_df['danceability'], .25)\n",
    "Danceability_Q3 = np.quantile(train_df['danceability'], .75)\n",
    "Danceability_IQR = Danceability_Q3 - Danceability_Q1\n",
    "Danceability_outliers = train_df[(train_df['danceability'] < Danceability_Q1 - 1.5 * Danceability_IQR) | (train_df['danceability'] > Danceability_Q3 + 1.5 * Danceability_IQR)]\n",
    "len(Danceability_outliers)"
   ]
  },
  {
   "cell_type": "code",
   "execution_count": 194,
   "id": "0ab13c44",
   "metadata": {},
   "outputs": [
    {
     "data": {
      "text/plain": [
       "648"
      ]
     },
     "execution_count": 194,
     "metadata": {},
     "output_type": "execute_result"
    }
   ],
   "source": [
    "Loudness_Q1 = np.quantile(train_df['loudness'], .25)\n",
    "Loudness_Q3 = np.quantile(train_df['loudness'], .75)\n",
    "Loudness_IQR = Loudness_Q3 - Loudness_Q1\n",
    "Loudness_outliers = train_df[(train_df['loudness'] < Loudness_Q1 - 1.5 * Loudness_IQR) | (train_df['loudness'] > Loudness_Q3 + 1.5 * Loudness_IQR)]\n",
    "len(Loudness_outliers)"
   ]
  },
  {
   "cell_type": "code",
   "execution_count": 195,
   "id": "c5cfd579",
   "metadata": {},
   "outputs": [
    {
     "data": {
      "text/plain": [
       "1633"
      ]
     },
     "execution_count": 195,
     "metadata": {},
     "output_type": "execute_result"
    }
   ],
   "source": [
    "Speechiness_Q1 = np.quantile(train_df['speechiness'], .25)\n",
    "Speechiness_Q3 = np.quantile(train_df['speechiness'], .75)\n",
    "Speechiness_IQR = Speechiness_Q3 - Speechiness_Q1\n",
    "Speechiness_outliers = train_df[(train_df['speechiness'] < Speechiness_Q1 - 1.5 * Speechiness_IQR) | (train_df['speechiness'] > Speechiness_Q3 + 1.5 * Speechiness_IQR)]\n",
    "len(Speechiness_outliers)"
   ]
  },
  {
   "cell_type": "code",
   "execution_count": 196,
   "id": "bd181a45",
   "metadata": {},
   "outputs": [
    {
     "data": {
      "text/plain": [
       "2968"
      ]
     },
     "execution_count": 196,
     "metadata": {},
     "output_type": "execute_result"
    }
   ],
   "source": [
    "Instrumentalness_Q1 = np.quantile(train_df['instrumentalness'], .25)\n",
    "Instrumentalness_Q3 = np.quantile(train_df['instrumentalness'], .75)\n",
    "Instrumentalness_IQR = Instrumentalness_Q3 - Instrumentalness_Q1\n",
    "Instrumentalness_outliers = train_df[(train_df['instrumentalness'] < Instrumentalness_Q1 - 1.5 * Instrumentalness_IQR) | (train_df['instrumentalness'] > Instrumentalness_Q3 + 1.5 * Instrumentalness_IQR)]\n",
    "len(Instrumentalness_outliers)"
   ]
  },
  {
   "cell_type": "code",
   "execution_count": 197,
   "id": "e6209c83",
   "metadata": {},
   "outputs": [
    {
     "data": {
      "text/plain": [
       "767"
      ]
     },
     "execution_count": 197,
     "metadata": {},
     "output_type": "execute_result"
    }
   ],
   "source": [
    "Liveness_Q1 = np.quantile(train_df['liveness'], .25)\n",
    "Liveness_Q3 = np.quantile(train_df['liveness'], .75)\n",
    "Liveness_IQR = Liveness_Q3 - Liveness_Q1\n",
    "Liveness_outliers = train_df[(train_df['liveness'] < Liveness_Q1 - 1.5 * Liveness_IQR) | (train_df['liveness'] > Liveness_Q3 + 1.5 * Liveness_IQR)]\n",
    "len(Liveness_outliers)"
   ]
  },
  {
   "cell_type": "code",
   "execution_count": 198,
   "id": "926efedf",
   "metadata": {},
   "outputs": [
    {
     "data": {
      "text/plain": [
       "32"
      ]
     },
     "execution_count": 198,
     "metadata": {},
     "output_type": "execute_result"
    }
   ],
   "source": [
    "Tempo_Q1 = np.quantile(train_df['tempo'], .25)\n",
    "Tempo_Q3 = np.quantile(train_df['tempo'], .75)\n",
    "Tempo_IQR = Tempo_Q3 - Tempo_Q1\n",
    "Tempo_outliers = train_df[(train_df['tempo'] < Tempo_Q1 - 1.5 * Tempo_IQR) | (train_df['tempo'] > Tempo_Q3 + 1.5 * Tempo_IQR)]\n",
    "len(Tempo_outliers)"
   ]
  },
  {
   "cell_type": "code",
   "execution_count": 199,
   "id": "175b4308",
   "metadata": {},
   "outputs": [
    {
     "data": {
      "text/plain": [
       "2583"
      ]
     },
     "execution_count": 199,
     "metadata": {},
     "output_type": "execute_result"
    }
   ],
   "source": [
    "Duration_Q1 = np.quantile(train_df['duration_in min/ms'], .25)\n",
    "Duration_Q3 = np.quantile(train_df['duration_in min/ms'], .75)\n",
    "Duration_IQR = Duration_Q3 - Duration_Q1\n",
    "Duration_outliers = train_df[(train_df['duration_in min/ms'] < Duration_Q1 - 1.5 * Duration_IQR) | (train_df['duration_in min/ms'] > Duration_Q3 + 1.5 * Duration_IQR)]\n",
    "len(Duration_outliers)"
   ]
  },
  {
   "cell_type": "code",
   "execution_count": 227,
   "id": "e169cba0",
   "metadata": {},
   "outputs": [
    {
     "data": {
      "text/plain": [
       "(13629, 18)"
      ]
     },
     "execution_count": 227,
     "metadata": {},
     "output_type": "execute_result"
    }
   ],
   "source": [
    "train_df_2 = train_df.copy()\n",
    "train_df_2 = train_df_2[(train_df_2['liveness'] >= Liveness_Q1 - 1.5 * Liveness_IQR) & (train_df_2['liveness'] <= Liveness_Q3 + 1.5 * Liveness_IQR)]\n",
    "train_df_2.shape"
   ]
  },
  {
   "cell_type": "code",
   "execution_count": 228,
   "id": "f608d461",
   "metadata": {},
   "outputs": [
    {
     "data": {
      "text/plain": [
       "(13598, 18)"
      ]
     },
     "execution_count": 228,
     "metadata": {},
     "output_type": "execute_result"
    }
   ],
   "source": [
    "train_df_2 = train_df_2[(train_df_2['tempo'] >= Tempo_Q1 - 1.5 * Tempo_IQR) & (train_df_2['tempo'] <= Tempo_Q3 + 1.5 * Tempo_IQR)]\n",
    "train_df_2.shape"
   ]
  },
  {
   "cell_type": "code",
   "execution_count": 233,
   "id": "92511d54",
   "metadata": {},
   "outputs": [],
   "source": [
    "train_df_2 = train_df_2.drop(['Id', 'Track Name', 'Artist Name'], axis=1)\n",
    "X_2 = train_df_2.drop('Class', axis=1)\n",
    "y_2 = train_df_2['Class']\n",
    "X_train_2, X_test_2, y_train_2, y_test_2 = train_test_split(X_2, y_2, test_size=.2, random_state=0)"
   ]
  },
  {
   "cell_type": "code",
   "execution_count": 235,
   "id": "d0c48596",
   "metadata": {},
   "outputs": [
    {
     "name": "stdout",
     "output_type": "stream",
     "text": [
      "The accuracy score is: 0.524264705882353\n"
     ]
    }
   ],
   "source": [
    "selected_features = list(X.columns[sel_2.get_support()])\n",
    "gb_clf = GradientBoostingClassifier(n_estimators=100, learning_rate=.1, max_depth=5)\n",
    "gb_clf.fit(X_train_2[selected_features], y_train_2)\n",
    "y_pred_gb_clf = gb_clf.predict(X_test_2[selected_features])\n",
    "print('The accuracy score is:', accuracy_score(y_test_2, y_pred_gb_clf))"
   ]
  },
  {
   "cell_type": "code",
   "execution_count": 238,
   "id": "0a8a914d",
   "metadata": {},
   "outputs": [
    {
     "data": {
      "text/plain": [
       "1220"
      ]
     },
     "execution_count": 238,
     "metadata": {},
     "output_type": "execute_result"
    }
   ],
   "source": [
    "len(train_df[train_df[['Artist Name', 'Track Name']].duplicated()])"
   ]
  },
  {
   "cell_type": "code",
   "execution_count": 239,
   "id": "fb4ba293",
   "metadata": {},
   "outputs": [],
   "source": [
    "train_df_3 = train_df.drop_duplicates(subset=['Artist Name', 'Track Name'])\n",
    "train_df_3 = train_df_3.drop(['Id', 'Track Name', 'Artist Name'], axis=1)\n",
    "X_3 = train_df_3.drop('Class', axis=1)\n",
    "y_3 = train_df_3['Class']\n",
    "X_train_3, X_test_3, y_train_3, y_test_3 = train_test_split(X_3, y_3, test_size=.2, random_state=0)"
   ]
  },
  {
   "cell_type": "code",
   "execution_count": 240,
   "id": "f295e356",
   "metadata": {},
   "outputs": [
    {
     "name": "stdout",
     "output_type": "stream",
     "text": [
      "The accuracy score is: 0.548937784522003\n"
     ]
    }
   ],
   "source": [
    "selected_features = list(X.columns[sel_2.get_support()])\n",
    "gb_clf = GradientBoostingClassifier(n_estimators=100, learning_rate=.1, max_depth=5)\n",
    "gb_clf.fit(X_train_3[selected_features], y_train_3)\n",
    "y_pred_gb_clf = gb_clf.predict(X_test_3[selected_features])\n",
    "print('The accuracy score is:', accuracy_score(y_test_3, y_pred_gb_clf))"
   ]
  },
  {
   "cell_type": "code",
   "execution_count": 241,
   "id": "f4ad5037",
   "metadata": {},
   "outputs": [
    {
     "name": "stdout",
     "output_type": "stream",
     "text": [
      "The accuracy score is: 0.5493171471927162\n"
     ]
    }
   ],
   "source": [
    "import xgboost as xgb\n",
    "selected_features = list(X.columns[sel_2.get_support()])\n",
    "xgb_clf = xgb.XGBClassifier()\n",
    "xgb_clf.fit(X_train_3[selected_features], y_train_3)\n",
    "y_pred_xgb_clf = xgb_clf.predict(X_test_3[selected_features])\n",
    "print('The accuracy score is:', accuracy_score(y_test_3, y_pred_xgb_clf))"
   ]
  },
  {
   "cell_type": "code",
   "execution_count": 243,
   "id": "a3a89615",
   "metadata": {},
   "outputs": [
    {
     "name": "stdout",
     "output_type": "stream",
     "text": [
      "Selection of features : [ True  True  True False  True False  True  True  True False  True False\n",
      "  True False]\n",
      "Ranking of features : [1 1 1 6 1 2 1 1 1 4 1 5 1 3]\n",
      "Selected features : ['Popularity', 'danceability', 'energy', 'loudness', 'speechiness', 'acousticness', 'instrumentalness', 'valence', 'duration_in min/ms']\n",
      "Deleted features : ['key', 'mode', 'liveness', 'tempo', 'time_signature']\n"
     ]
    }
   ],
   "source": [
    "model = xgb.XGBClassifier()\n",
    "sel_3 = RFE(model, n_features_to_select=9)\n",
    "sel_3.fit(X_train_3, y_train_3)\n",
    "print('Selection of features :', sel_3.support_)\n",
    "print('Ranking of features :', sel_3.ranking_)\n",
    "print('Selected features :', list(X.columns[sel_3.support_]))\n",
    "print('Deleted features :', list(X.columns[~sel_3.support_]))"
   ]
  },
  {
   "cell_type": "code",
   "execution_count": 269,
   "id": "b3da25c4",
   "metadata": {},
   "outputs": [
    {
     "name": "stdout",
     "output_type": "stream",
     "text": [
      "The accuracy score is: 0.5493171471927162\n"
     ]
    }
   ],
   "source": [
    "selected_features = list(X.columns[sel_2.get_support()])\n",
    "xgb_clf = xgb.XGBClassifier()\n",
    "xgb_clf.fit(X_train_3[selected_features], y_train_3)\n",
    "y_pred_xgb_clf = xgb_clf.predict(X_test_3[selected_features])\n",
    "print('The accuracy score is:', accuracy_score(y_test_3, y_pred_xgb_clf))"
   ]
  },
  {
   "cell_type": "code",
   "execution_count": 252,
   "id": "a34c5cec",
   "metadata": {},
   "outputs": [
    {
     "data": {
      "text/html": [
       "<div>\n",
       "<style scoped>\n",
       "    .dataframe tbody tr th:only-of-type {\n",
       "        vertical-align: middle;\n",
       "    }\n",
       "\n",
       "    .dataframe tbody tr th {\n",
       "        vertical-align: top;\n",
       "    }\n",
       "\n",
       "    .dataframe thead th {\n",
       "        text-align: right;\n",
       "    }\n",
       "</style>\n",
       "<table border=\"1\" class=\"dataframe\">\n",
       "  <thead>\n",
       "    <tr style=\"text-align: right;\">\n",
       "      <th></th>\n",
       "      <th>Popularity</th>\n",
       "      <th>danceability</th>\n",
       "      <th>energy</th>\n",
       "      <th>key</th>\n",
       "      <th>loudness</th>\n",
       "      <th>mode</th>\n",
       "      <th>speechiness</th>\n",
       "      <th>acousticness</th>\n",
       "      <th>instrumentalness</th>\n",
       "      <th>liveness</th>\n",
       "      <th>valence</th>\n",
       "      <th>tempo</th>\n",
       "      <th>duration_in min/ms</th>\n",
       "      <th>time_signature</th>\n",
       "      <th>Class</th>\n",
       "    </tr>\n",
       "  </thead>\n",
       "  <tbody>\n",
       "    <tr>\n",
       "      <th>0</th>\n",
       "      <td>37.0</td>\n",
       "      <td>0.334</td>\n",
       "      <td>0.536</td>\n",
       "      <td>9.0</td>\n",
       "      <td>-6.649</td>\n",
       "      <td>0</td>\n",
       "      <td>0.0381</td>\n",
       "      <td>0.378000</td>\n",
       "      <td>0.00392</td>\n",
       "      <td>0.106</td>\n",
       "      <td>0.235</td>\n",
       "      <td>152.429</td>\n",
       "      <td>204947.0</td>\n",
       "      <td>4</td>\n",
       "      <td>9</td>\n",
       "    </tr>\n",
       "    <tr>\n",
       "      <th>1</th>\n",
       "      <td>67.0</td>\n",
       "      <td>0.725</td>\n",
       "      <td>0.747</td>\n",
       "      <td>11.0</td>\n",
       "      <td>-5.545</td>\n",
       "      <td>1</td>\n",
       "      <td>0.0876</td>\n",
       "      <td>0.027200</td>\n",
       "      <td>0.04680</td>\n",
       "      <td>0.104</td>\n",
       "      <td>0.380</td>\n",
       "      <td>132.921</td>\n",
       "      <td>191956.0</td>\n",
       "      <td>4</td>\n",
       "      <td>6</td>\n",
       "    </tr>\n",
       "    <tr>\n",
       "      <th>2</th>\n",
       "      <td>44.0</td>\n",
       "      <td>0.584</td>\n",
       "      <td>0.804</td>\n",
       "      <td>7.0</td>\n",
       "      <td>-6.094</td>\n",
       "      <td>1</td>\n",
       "      <td>0.0619</td>\n",
       "      <td>0.000968</td>\n",
       "      <td>0.63500</td>\n",
       "      <td>0.284</td>\n",
       "      <td>0.635</td>\n",
       "      <td>159.953</td>\n",
       "      <td>161037.0</td>\n",
       "      <td>4</td>\n",
       "      <td>10</td>\n",
       "    </tr>\n",
       "    <tr>\n",
       "      <th>3</th>\n",
       "      <td>12.0</td>\n",
       "      <td>0.515</td>\n",
       "      <td>0.308</td>\n",
       "      <td>6.0</td>\n",
       "      <td>-14.711</td>\n",
       "      <td>1</td>\n",
       "      <td>0.0312</td>\n",
       "      <td>0.907000</td>\n",
       "      <td>0.02130</td>\n",
       "      <td>0.300</td>\n",
       "      <td>0.501</td>\n",
       "      <td>172.472</td>\n",
       "      <td>298093.0</td>\n",
       "      <td>3</td>\n",
       "      <td>2</td>\n",
       "    </tr>\n",
       "    <tr>\n",
       "      <th>4</th>\n",
       "      <td>48.0</td>\n",
       "      <td>0.565</td>\n",
       "      <td>0.777</td>\n",
       "      <td>6.0</td>\n",
       "      <td>-5.096</td>\n",
       "      <td>0</td>\n",
       "      <td>0.2490</td>\n",
       "      <td>0.183000</td>\n",
       "      <td>0.00392</td>\n",
       "      <td>0.211</td>\n",
       "      <td>0.619</td>\n",
       "      <td>88.311</td>\n",
       "      <td>254145.0</td>\n",
       "      <td>4</td>\n",
       "      <td>5</td>\n",
       "    </tr>\n",
       "  </tbody>\n",
       "</table>\n",
       "</div>"
      ],
      "text/plain": [
       "   Popularity  danceability  energy   key  loudness  mode  speechiness  \\\n",
       "0        37.0         0.334   0.536   9.0    -6.649     0       0.0381   \n",
       "1        67.0         0.725   0.747  11.0    -5.545     1       0.0876   \n",
       "2        44.0         0.584   0.804   7.0    -6.094     1       0.0619   \n",
       "3        12.0         0.515   0.308   6.0   -14.711     1       0.0312   \n",
       "4        48.0         0.565   0.777   6.0    -5.096     0       0.2490   \n",
       "\n",
       "   acousticness  instrumentalness  liveness  valence    tempo  \\\n",
       "0      0.378000           0.00392     0.106    0.235  152.429   \n",
       "1      0.027200           0.04680     0.104    0.380  132.921   \n",
       "2      0.000968           0.63500     0.284    0.635  159.953   \n",
       "3      0.907000           0.02130     0.300    0.501  172.472   \n",
       "4      0.183000           0.00392     0.211    0.619   88.311   \n",
       "\n",
       "   duration_in min/ms  time_signature  Class  \n",
       "0            204947.0               4      9  \n",
       "1            191956.0               4      6  \n",
       "2            161037.0               4     10  \n",
       "3            298093.0               3      2  \n",
       "4            254145.0               4      5  "
      ]
     },
     "execution_count": 252,
     "metadata": {},
     "output_type": "execute_result"
    }
   ],
   "source": [
    "train_df_3.head()"
   ]
  },
  {
   "cell_type": "code",
   "execution_count": 264,
   "id": "86dab460",
   "metadata": {},
   "outputs": [],
   "source": [
    "#from sklearn.decomposition import PCA\n",
    "model = PCA(n_components=14)\n",
    "model.fit(X_train_3)\n",
    "train_transformed = model.transform(X_train_3)\n",
    "test_transformed = model.transform(X_test_3)"
   ]
  },
  {
   "cell_type": "code",
   "execution_count": 262,
   "id": "a3c7dbdb",
   "metadata": {},
   "outputs": [
    {
     "name": "stdout",
     "output_type": "stream",
     "text": [
      "The accuracy score is: 0.5265553869499241\n"
     ]
    }
   ],
   "source": [
    "xgb_clf = xgb.XGBClassifier()\n",
    "xgb_clf.fit(train_transformed, y_train_3)\n",
    "y_pred_xgb_clf = xgb_clf.predict(test_transformed)\n",
    "print('The accuracy score is:', accuracy_score(y_test_3, y_pred_xgb_clf))"
   ]
  },
  {
   "cell_type": "code",
   "execution_count": 265,
   "id": "0ebdf81f",
   "metadata": {},
   "outputs": [
    {
     "name": "stdout",
     "output_type": "stream",
     "text": [
      "Cross Validation Scores : [0.53414264 0.5538695  0.55235205 0.53641882 0.53793627 0.54400607\n",
      " 0.54745634 0.55504935 0.58466211 0.57099468]\n",
      "Average CV Score : 0.5516887831935134\n"
     ]
    }
   ],
   "source": [
    "k_folds = KFold(n_splits=10)\n",
    "cv_scores = cross_val_score(xgb_clf, X_3[selected_features], y_3, cv=k_folds, scoring='accuracy')\n",
    "print('Cross Validation Scores :', cv_scores)\n",
    "print('Average CV Score :', cv_scores.mean())"
   ]
  },
  {
   "cell_type": "code",
   "execution_count": 266,
   "id": "4ddc9c88",
   "metadata": {},
   "outputs": [
    {
     "data": {
      "text/html": [
       "<div>\n",
       "<style scoped>\n",
       "    .dataframe tbody tr th:only-of-type {\n",
       "        vertical-align: middle;\n",
       "    }\n",
       "\n",
       "    .dataframe tbody tr th {\n",
       "        vertical-align: top;\n",
       "    }\n",
       "\n",
       "    .dataframe thead th {\n",
       "        text-align: right;\n",
       "    }\n",
       "</style>\n",
       "<table border=\"1\" class=\"dataframe\">\n",
       "  <thead>\n",
       "    <tr style=\"text-align: right;\">\n",
       "      <th></th>\n",
       "      <th>Id</th>\n",
       "      <th>Artist Name</th>\n",
       "      <th>Track Name</th>\n",
       "      <th>Popularity</th>\n",
       "      <th>danceability</th>\n",
       "      <th>energy</th>\n",
       "      <th>key</th>\n",
       "      <th>loudness</th>\n",
       "      <th>mode</th>\n",
       "      <th>speechiness</th>\n",
       "      <th>acousticness</th>\n",
       "      <th>instrumentalness</th>\n",
       "      <th>liveness</th>\n",
       "      <th>valence</th>\n",
       "      <th>tempo</th>\n",
       "      <th>duration_in min/ms</th>\n",
       "      <th>time_signature</th>\n",
       "    </tr>\n",
       "  </thead>\n",
       "  <tbody>\n",
       "    <tr>\n",
       "      <th>0</th>\n",
       "      <td>14397</td>\n",
       "      <td>Juan Pablo Vega</td>\n",
       "      <td>Matando (feat. Vic Mirallas)</td>\n",
       "      <td>44.0</td>\n",
       "      <td>0.691</td>\n",
       "      <td>0.670</td>\n",
       "      <td>2.0</td>\n",
       "      <td>-7.093</td>\n",
       "      <td>0</td>\n",
       "      <td>0.0941</td>\n",
       "      <td>0.075700</td>\n",
       "      <td>0.035200</td>\n",
       "      <td>0.1970</td>\n",
       "      <td>0.635</td>\n",
       "      <td>89.965</td>\n",
       "      <td>200000.0</td>\n",
       "      <td>4</td>\n",
       "    </tr>\n",
       "    <tr>\n",
       "      <th>1</th>\n",
       "      <td>14398</td>\n",
       "      <td>Kappi Kat</td>\n",
       "      <td>Baarish</td>\n",
       "      <td>14.0</td>\n",
       "      <td>0.461</td>\n",
       "      <td>0.777</td>\n",
       "      <td>2.0</td>\n",
       "      <td>-7.469</td>\n",
       "      <td>1</td>\n",
       "      <td>0.0306</td>\n",
       "      <td>0.388000</td>\n",
       "      <td>0.923000</td>\n",
       "      <td>0.2910</td>\n",
       "      <td>0.525</td>\n",
       "      <td>163.043</td>\n",
       "      <td>283909.0</td>\n",
       "      <td>4</td>\n",
       "    </tr>\n",
       "    <tr>\n",
       "      <th>2</th>\n",
       "      <td>14399</td>\n",
       "      <td>Plain White T's</td>\n",
       "      <td>Hey There Delilah</td>\n",
       "      <td>80.0</td>\n",
       "      <td>0.656</td>\n",
       "      <td>0.291</td>\n",
       "      <td>2.0</td>\n",
       "      <td>-10.572</td>\n",
       "      <td>1</td>\n",
       "      <td>0.0293</td>\n",
       "      <td>0.872000</td>\n",
       "      <td>0.003920</td>\n",
       "      <td>0.1140</td>\n",
       "      <td>0.298</td>\n",
       "      <td>103.971</td>\n",
       "      <td>232533.0</td>\n",
       "      <td>4</td>\n",
       "    </tr>\n",
       "    <tr>\n",
       "      <th>3</th>\n",
       "      <td>14400</td>\n",
       "      <td>WALK THE MOON</td>\n",
       "      <td>Different Colors</td>\n",
       "      <td>52.0</td>\n",
       "      <td>0.480</td>\n",
       "      <td>0.826</td>\n",
       "      <td>6.0</td>\n",
       "      <td>-4.602</td>\n",
       "      <td>1</td>\n",
       "      <td>0.0397</td>\n",
       "      <td>0.000797</td>\n",
       "      <td>0.000001</td>\n",
       "      <td>0.1250</td>\n",
       "      <td>0.687</td>\n",
       "      <td>96.000</td>\n",
       "      <td>222053.0</td>\n",
       "      <td>4</td>\n",
       "    </tr>\n",
       "    <tr>\n",
       "      <th>4</th>\n",
       "      <td>14401</td>\n",
       "      <td>Peled</td>\n",
       "      <td>◊ß◊®◊ô◊ñ</td>\n",
       "      <td>23.0</td>\n",
       "      <td>0.734</td>\n",
       "      <td>0.729</td>\n",
       "      <td>1.0</td>\n",
       "      <td>-6.381</td>\n",
       "      <td>0</td>\n",
       "      <td>0.2830</td>\n",
       "      <td>0.147000</td>\n",
       "      <td>0.003920</td>\n",
       "      <td>0.0672</td>\n",
       "      <td>0.805</td>\n",
       "      <td>76.030</td>\n",
       "      <td>118439.0</td>\n",
       "      <td>4</td>\n",
       "    </tr>\n",
       "  </tbody>\n",
       "</table>\n",
       "</div>"
      ],
      "text/plain": [
       "      Id      Artist Name                    Track Name  Popularity  \\\n",
       "0  14397  Juan Pablo Vega  Matando (feat. Vic Mirallas)        44.0   \n",
       "1  14398        Kappi Kat                       Baarish        14.0   \n",
       "2  14399  Plain White T's             Hey There Delilah        80.0   \n",
       "3  14400    WALK THE MOON              Different Colors        52.0   \n",
       "4  14401            Peled                      ◊ß◊®◊ô◊ñ        23.0   \n",
       "\n",
       "   danceability  energy  key  loudness  mode  speechiness  acousticness  \\\n",
       "0         0.691   0.670  2.0    -7.093     0       0.0941      0.075700   \n",
       "1         0.461   0.777  2.0    -7.469     1       0.0306      0.388000   \n",
       "2         0.656   0.291  2.0   -10.572     1       0.0293      0.872000   \n",
       "3         0.480   0.826  6.0    -4.602     1       0.0397      0.000797   \n",
       "4         0.734   0.729  1.0    -6.381     0       0.2830      0.147000   \n",
       "\n",
       "   instrumentalness  liveness  valence    tempo  duration_in min/ms  \\\n",
       "0          0.035200    0.1970    0.635   89.965            200000.0   \n",
       "1          0.923000    0.2910    0.525  163.043            283909.0   \n",
       "2          0.003920    0.1140    0.298  103.971            232533.0   \n",
       "3          0.000001    0.1250    0.687   96.000            222053.0   \n",
       "4          0.003920    0.0672    0.805   76.030            118439.0   \n",
       "\n",
       "   time_signature  \n",
       "0               4  \n",
       "1               4  \n",
       "2               4  \n",
       "3               4  \n",
       "4               4  "
      ]
     },
     "execution_count": 266,
     "metadata": {},
     "output_type": "execute_result"
    }
   ],
   "source": [
    "test_df.head()"
   ]
  },
  {
   "cell_type": "code",
   "execution_count": 268,
   "id": "c8c3fcdb",
   "metadata": {},
   "outputs": [
    {
     "data": {
      "text/plain": [
       "(3600, 17)"
      ]
     },
     "execution_count": 268,
     "metadata": {},
     "output_type": "execute_result"
    }
   ],
   "source": [
    "test_df.shape"
   ]
  },
  {
   "cell_type": "code",
   "execution_count": 274,
   "id": "56595e9a",
   "metadata": {},
   "outputs": [
    {
     "data": {
      "text/plain": [
       "Index(['Id', 'Artist Name', 'Track Name', 'Popularity', 'danceability',\n",
       "       'energy', 'key', 'loudness', 'mode', 'speechiness', 'acousticness',\n",
       "       'instrumentalness', 'liveness', 'valence', 'tempo',\n",
       "       'duration_in min/ms', 'time_signature'],\n",
       "      dtype='object')"
      ]
     },
     "execution_count": 274,
     "metadata": {},
     "output_type": "execute_result"
    }
   ],
   "source": [
    "test_df.columns"
   ]
  },
  {
   "cell_type": "code",
   "execution_count": 272,
   "id": "061f0629",
   "metadata": {},
   "outputs": [
    {
     "data": {
      "text/plain": [
       "Index(['Popularity', 'danceability', 'energy', 'key', 'loudness', 'mode',\n",
       "       'speechiness', 'acousticness', 'instrumentalness', 'liveness',\n",
       "       'valence', 'tempo', 'duration_in min/ms', 'time_signature'],\n",
       "      dtype='object')"
      ]
     },
     "execution_count": 272,
     "metadata": {},
     "output_type": "execute_result"
    }
   ],
   "source": [
    "X_3.columns"
   ]
  },
  {
   "cell_type": "code",
   "execution_count": 275,
   "id": "a18004b0",
   "metadata": {},
   "outputs": [
    {
     "data": {
      "text/html": [
       "<div>\n",
       "<style scoped>\n",
       "    .dataframe tbody tr th:only-of-type {\n",
       "        vertical-align: middle;\n",
       "    }\n",
       "\n",
       "    .dataframe tbody tr th {\n",
       "        vertical-align: top;\n",
       "    }\n",
       "\n",
       "    .dataframe thead th {\n",
       "        text-align: right;\n",
       "    }\n",
       "</style>\n",
       "<table border=\"1\" class=\"dataframe\">\n",
       "  <thead>\n",
       "    <tr style=\"text-align: right;\">\n",
       "      <th></th>\n",
       "      <th>Id</th>\n",
       "      <th>Class</th>\n",
       "    </tr>\n",
       "  </thead>\n",
       "  <tbody>\n",
       "    <tr>\n",
       "      <th>0</th>\n",
       "      <td>14397</td>\n",
       "      <td>6</td>\n",
       "    </tr>\n",
       "    <tr>\n",
       "      <th>1</th>\n",
       "      <td>14398</td>\n",
       "      <td>6</td>\n",
       "    </tr>\n",
       "    <tr>\n",
       "      <th>2</th>\n",
       "      <td>14399</td>\n",
       "      <td>9</td>\n",
       "    </tr>\n",
       "    <tr>\n",
       "      <th>3</th>\n",
       "      <td>14400</td>\n",
       "      <td>10</td>\n",
       "    </tr>\n",
       "    <tr>\n",
       "      <th>4</th>\n",
       "      <td>14401</td>\n",
       "      <td>5</td>\n",
       "    </tr>\n",
       "  </tbody>\n",
       "</table>\n",
       "</div>"
      ],
      "text/plain": [
       "      Id  Class\n",
       "0  14397      6\n",
       "1  14398      6\n",
       "2  14399      9\n",
       "3  14400     10\n",
       "4  14401      5"
      ]
     },
     "execution_count": 275,
     "metadata": {},
     "output_type": "execute_result"
    }
   ],
   "source": [
    "test_predictors = test_df[selected_features]\n",
    "predictions = xgb_clf.predict(test_predictors)\n",
    "submission_df = pd.DataFrame({'Id' : test_df['Id'],\n",
    "                              'Class' : predictions})\n",
    "submission_df.head()"
   ]
  },
  {
   "cell_type": "code",
   "execution_count": 276,
   "id": "2dff367c",
   "metadata": {},
   "outputs": [],
   "source": [
    "submission_df.to_csv('submission.csv', index=False)"
   ]
  },
  {
   "cell_type": "code",
   "execution_count": null,
   "id": "512e920b",
   "metadata": {},
   "outputs": [],
   "source": []
  }
 ],
 "metadata": {
  "kernelspec": {
   "display_name": "Python 3 (ipykernel)",
   "language": "python",
   "name": "python3"
  },
  "language_info": {
   "codemirror_mode": {
    "name": "ipython",
    "version": 3
   },
   "file_extension": ".py",
   "mimetype": "text/x-python",
   "name": "python",
   "nbconvert_exporter": "python",
   "pygments_lexer": "ipython3",
   "version": "3.9.13"
  }
 },
 "nbformat": 4,
 "nbformat_minor": 5
}
